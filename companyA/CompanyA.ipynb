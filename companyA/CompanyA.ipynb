{
 "cells": [
  {
   "cell_type": "code",
   "execution_count": 1,
   "id": "computational-ethnic",
   "metadata": {},
   "outputs": [],
   "source": [
    "# import libraries\n",
    "\n",
    "# Data manipulation\n",
    "import numpy as np\n",
    "import pandas as pd\n",
    "import re\n",
    "\n",
    "# Data visualisation\n",
    "import seaborn as sns\n",
    "from plotnine import *\n",
    "import matplotlib.pyplot as plt\n",
    "import matplotlib.axes as ax\n",
    "\n",
    "from sklearn.metrics.pairwise import cosine_similarity\n",
    "from sklearn.metrics import mean_squared_error\n",
    "from sklearn.model_selection import train_test_split\n",
    "from sklearn.feature_extraction.text import TfidfVectorizer\n",
    "from sklearn.metrics.pairwise import linear_kernel"
   ]
  },
  {
   "cell_type": "code",
   "execution_count": 2,
   "id": "entitled-rebound",
   "metadata": {},
   "outputs": [
    {
     "data": {
      "text/html": [
       "<div>\n",
       "<style scoped>\n",
       "    .dataframe tbody tr th:only-of-type {\n",
       "        vertical-align: middle;\n",
       "    }\n",
       "\n",
       "    .dataframe tbody tr th {\n",
       "        vertical-align: top;\n",
       "    }\n",
       "\n",
       "    .dataframe thead th {\n",
       "        text-align: right;\n",
       "    }\n",
       "</style>\n",
       "<table border=\"1\" class=\"dataframe\">\n",
       "  <thead>\n",
       "    <tr style=\"text-align: right;\">\n",
       "      <th></th>\n",
       "      <th>Outlet</th>\n",
       "      <th>Order Date</th>\n",
       "      <th>Item</th>\n",
       "      <th>Item Name</th>\n",
       "      <th>Qty</th>\n",
       "      <th>Sales</th>\n",
       "    </tr>\n",
       "  </thead>\n",
       "  <tbody>\n",
       "    <tr>\n",
       "      <th>0</th>\n",
       "      <td>WG</td>\n",
       "      <td>2018-11-10</td>\n",
       "      <td>FS0201823020000CF</td>\n",
       "      <td>KONTUR CHAIR</td>\n",
       "      <td>4</td>\n",
       "      <td>916.00</td>\n",
       "    </tr>\n",
       "    <tr>\n",
       "      <th>1</th>\n",
       "      <td>WG</td>\n",
       "      <td>2018-11-10</td>\n",
       "      <td>FS0200039020300DW</td>\n",
       "      <td>ROND DINING TABLE 150 X 80 X 74 CM</td>\n",
       "      <td>1</td>\n",
       "      <td>1167.55</td>\n",
       "    </tr>\n",
       "    <tr>\n",
       "      <th>2</th>\n",
       "      <td>WG</td>\n",
       "      <td>2018-11-10</td>\n",
       "      <td>FS0205112020000KF</td>\n",
       "      <td>LOIS DINING TABLE 135 CM - SOLID (1 FOLD X 24 MM)</td>\n",
       "      <td>1</td>\n",
       "      <td>1399.00</td>\n",
       "    </tr>\n",
       "    <tr>\n",
       "      <th>3</th>\n",
       "      <td>WG</td>\n",
       "      <td>2018-12-08</td>\n",
       "      <td>BS0302778030100MA</td>\n",
       "      <td>3FT SINGLE BED WITH BEDSLATS</td>\n",
       "      <td>1</td>\n",
       "      <td>369.00</td>\n",
       "    </tr>\n",
       "    <tr>\n",
       "      <th>4</th>\n",
       "      <td>WG</td>\n",
       "      <td>2018-12-08</td>\n",
       "      <td>FS0308195030100MF</td>\n",
       "      <td>3FT SPINAL CARE MATTRESS</td>\n",
       "      <td>1</td>\n",
       "      <td>263.12</td>\n",
       "    </tr>\n",
       "  </tbody>\n",
       "</table>\n",
       "</div>"
      ],
      "text/plain": [
       "  Outlet Order Date               Item  \\\n",
       "0     WG 2018-11-10  FS0201823020000CF   \n",
       "1     WG 2018-11-10  FS0200039020300DW   \n",
       "2     WG 2018-11-10  FS0205112020000KF   \n",
       "3     WG 2018-12-08  BS0302778030100MA   \n",
       "4     WG 2018-12-08  FS0308195030100MF   \n",
       "\n",
       "                                           Item Name  Qty    Sales  \n",
       "0                                       KONTUR CHAIR    4   916.00  \n",
       "1                 ROND DINING TABLE 150 X 80 X 74 CM    1  1167.55  \n",
       "2  LOIS DINING TABLE 135 CM - SOLID (1 FOLD X 24 MM)    1  1399.00  \n",
       "3                       3FT SINGLE BED WITH BEDSLATS    1   369.00  \n",
       "4                           3FT SPINAL CARE MATTRESS    1   263.12  "
      ]
     },
     "execution_count": 2,
     "metadata": {},
     "output_type": "execute_result"
    }
   ],
   "source": [
    "data = pd.read_excel('CompanyA-RetailCorpus-unprotected.xlsx')\n",
    "data.head()"
   ]
  },
  {
   "cell_type": "code",
   "execution_count": 3,
   "id": "elementary-providence",
   "metadata": {},
   "outputs": [
    {
     "name": "stdout",
     "output_type": "stream",
     "text": [
      "<class 'pandas.core.frame.DataFrame'>\n",
      "RangeIndex: 34835 entries, 0 to 34834\n",
      "Data columns (total 6 columns):\n",
      " #   Column      Non-Null Count  Dtype         \n",
      "---  ------      --------------  -----         \n",
      " 0   Outlet      34835 non-null  object        \n",
      " 1   Order Date  34835 non-null  datetime64[ns]\n",
      " 2   Item        34835 non-null  object        \n",
      " 3   Item Name   34835 non-null  object        \n",
      " 4   Qty         34835 non-null  int64         \n",
      " 5   Sales       34835 non-null  float64       \n",
      "dtypes: datetime64[ns](1), float64(1), int64(1), object(3)\n",
      "memory usage: 1.6+ MB\n"
     ]
    }
   ],
   "source": [
    "data.info()"
   ]
  },
  {
   "cell_type": "code",
   "execution_count": 4,
   "id": "crucial-planning",
   "metadata": {
    "scrolled": true
   },
   "outputs": [
    {
     "data": {
      "text/plain": [
       "Outlet          19\n",
       "Order Date     759\n",
       "Item           677\n",
       "Item Name      612\n",
       "Qty             17\n",
       "Sales         3214\n",
       "dtype: int64"
      ]
     },
     "execution_count": 4,
     "metadata": {},
     "output_type": "execute_result"
    }
   ],
   "source": [
    "data.nunique()"
   ]
  },
  {
   "cell_type": "markdown",
   "id": "hawaiian-function",
   "metadata": {},
   "source": [
    "## Time Series Analysis"
   ]
  },
  {
   "cell_type": "code",
   "execution_count": 5,
   "id": "critical-challenge",
   "metadata": {},
   "outputs": [
    {
     "name": "stderr",
     "output_type": "stream",
     "text": [
      "<ipython-input-5-28fdcd282d63>:1: FutureWarning: Treating datetime data as categorical rather than numeric in `.describe` is deprecated and will be removed in a future version of pandas. Specify `datetime_is_numeric=True` to silence this warning and adopt the future behavior now.\n"
     ]
    },
    {
     "data": {
      "text/plain": [
       "count                   34835\n",
       "unique                    759\n",
       "top       2019-01-06 00:00:00\n",
       "freq                      324\n",
       "first     2018-09-01 00:00:00\n",
       "last      2020-09-30 00:00:00\n",
       "Name: Order Date, dtype: object"
      ]
     },
     "execution_count": 5,
     "metadata": {},
     "output_type": "execute_result"
    }
   ],
   "source": [
    "data['Order Date'].describe()\n",
    "\n",
    "# 2 years 1 month period"
   ]
  },
  {
   "cell_type": "code",
   "execution_count": 6,
   "id": "guided-neighbor",
   "metadata": {},
   "outputs": [
    {
     "data": {
      "image/png": "[encoded data removed]",
      "text/plain": [
       "<Figure size 720x432 with 1 Axes>"
      ]
     },
     "metadata": {
      "needs_background": "light"
     },
     "output_type": "display_data"
    }
   ],
   "source": [
    "# quantity of item purchased\n",
    "gb_time = pd.DataFrame(data.groupby('Order Date').Qty.sum())\n",
    "\n",
    "# purchase amount\n",
    "amt = data.groupby('Order Date').Sales.sum()/1000\n",
    "gb_time['Sales'] = amt\n",
    "gb_time = gb_time.rename(columns={'Sales':'Sales (in thousands)'})\n",
    "gb_time.reset_index(inplace=True)\n",
    "\n",
    "# line graphs of both quantity and purchase amounts \n",
    "gb_time.plot(x='Order Date', y=['Qty', 'Sales (in thousands)'], figsize=(10,6))\n",
    "plt.title(\"Plot of Qty & Sales Amount from 2018 to 2020\")\n",
    "plt.xlabel(\"Time Period\");"
   ]
  },
  {
   "cell_type": "code",
   "execution_count": 7,
   "id": "regulation-arbor",
   "metadata": {},
   "outputs": [
    {
     "data": {
      "text/plain": [
       "Order Date\n",
       "2019-01-06    200.91539\n",
       "2019-01-05    164.01025\n",
       "2020-01-11    138.36537\n",
       "2019-01-12    134.32560\n",
       "2019-04-14    132.31859\n",
       "                ...    \n",
       "2019-07-25      0.83287\n",
       "2019-02-06      0.79800\n",
       "2019-02-07      0.73600\n",
       "2019-02-04      0.58900\n",
       "2020-01-26      0.56568\n",
       "Name: Sales, Length: 759, dtype: float64"
      ]
     },
     "execution_count": 7,
     "metadata": {},
     "output_type": "execute_result"
    }
   ],
   "source": [
    "amt.sort_values(ascending=False)"
   ]
  },
  {
   "cell_type": "markdown",
   "id": "intimate-shame",
   "metadata": {},
   "source": [
    "### Some Observations\n",
    "- High sales especially in the beginning of both years (2019 and 2020)\n",
    "- Highest sales on the first weekend of 2019\n",
    "- Longest low sales period occurred in mid 2020, when the pandemic took a turn for the worst"
   ]
  },
  {
   "cell_type": "markdown",
   "id": "consecutive-norfolk",
   "metadata": {},
   "source": [
    "## Outlet Analysis"
   ]
  },
  {
   "cell_type": "code",
   "execution_count": 8,
   "id": "arbitrary-million",
   "metadata": {},
   "outputs": [
    {
     "data": {
      "image/png": "[encoded data removed]",
      "text/plain": [
       "<Figure size 864x432 with 1 Axes>"
      ]
     },
     "metadata": {},
     "output_type": "display_data"
    }
   ],
   "source": [
    "outlets = data.groupby('Outlet')['Sales'].sum().sort_values(ascending=False)\n",
    "outlets = outlets.to_frame().reset_index()\n",
    "\n",
    "sns.set(rc={'figure.figsize':(12,6)})\n",
    "ax = sns.barplot(x='Outlet', y='Sales', data=outlets)\n",
    "ax.set_title('Sales generated by the 19 respective Outlets')\n",
    "ax.set_xticklabels(ax.get_xticklabels(), rotation=30, ha='right');"
   ]
  },
  {
   "cell_type": "markdown",
   "id": "likely-renaissance",
   "metadata": {},
   "source": [
    "- Suntec City and Westgate outlets generate the most sales\n",
    "- E-stores Scanliving and KrisShop generate the least sales"
   ]
  },
  {
   "cell_type": "markdown",
   "id": "eligible-vaccine",
   "metadata": {},
   "source": [
    "## Item Purchases"
   ]
  },
  {
   "cell_type": "code",
   "execution_count": 9,
   "id": "rubber-wales",
   "metadata": {},
   "outputs": [
    {
     "data": {
      "text/html": [
       "<div>\n",
       "<style scoped>\n",
       "    .dataframe tbody tr th:only-of-type {\n",
       "        vertical-align: middle;\n",
       "    }\n",
       "\n",
       "    .dataframe tbody tr th {\n",
       "        vertical-align: top;\n",
       "    }\n",
       "\n",
       "    .dataframe thead th {\n",
       "        text-align: right;\n",
       "    }\n",
       "</style>\n",
       "<table border=\"1\" class=\"dataframe\">\n",
       "  <thead>\n",
       "    <tr style=\"text-align: right;\">\n",
       "      <th></th>\n",
       "      <th>Item Name</th>\n",
       "    </tr>\n",
       "    <tr>\n",
       "      <th>Item</th>\n",
       "      <th></th>\n",
       "    </tr>\n",
       "  </thead>\n",
       "  <tbody>\n",
       "    <tr>\n",
       "      <th>FS0200816020000RS</th>\n",
       "      <td>{OCCASIONAL STAND, REKKI 3 LAYER OPEN SHELF}</td>\n",
       "    </tr>\n",
       "    <tr>\n",
       "      <th>FS0500029050000MA</th>\n",
       "      <td>{REKKI 3 LAYER OPEN SHELF                     ...</td>\n",
       "    </tr>\n",
       "  </tbody>\n",
       "</table>\n",
       "</div>"
      ],
      "text/plain": [
       "                                                           Item Name\n",
       "Item                                                                \n",
       "FS0200816020000RS       {OCCASIONAL STAND, REKKI 3 LAYER OPEN SHELF}\n",
       "FS0500029050000MA  {REKKI 3 LAYER OPEN SHELF                     ..."
      ]
     },
     "execution_count": 9,
     "metadata": {},
     "output_type": "execute_result"
    }
   ],
   "source": [
    "gb_item = data[['Item', 'Item Name']].groupby('Item').agg({'Item Name':set})\n",
    "gb_item[gb_item['Item Name'].apply(len) > 1]"
   ]
  },
  {
   "cell_type": "code",
   "execution_count": 10,
   "id": "certified-algorithm",
   "metadata": {
    "scrolled": true
   },
   "outputs": [
    {
     "data": {
      "text/html": [
       "<div>\n",
       "<style scoped>\n",
       "    .dataframe tbody tr th:only-of-type {\n",
       "        vertical-align: middle;\n",
       "    }\n",
       "\n",
       "    .dataframe tbody tr th {\n",
       "        vertical-align: top;\n",
       "    }\n",
       "\n",
       "    .dataframe thead th {\n",
       "        text-align: right;\n",
       "    }\n",
       "</style>\n",
       "<table border=\"1\" class=\"dataframe\">\n",
       "  <thead>\n",
       "    <tr style=\"text-align: right;\">\n",
       "      <th></th>\n",
       "      <th>Item</th>\n",
       "    </tr>\n",
       "    <tr>\n",
       "      <th>Item Name</th>\n",
       "      <th></th>\n",
       "    </tr>\n",
       "  </thead>\n",
       "  <tbody>\n",
       "    <tr>\n",
       "      <th>1 DOOR WARDROBE WITH 2 PCS  ROD (W/ DOOR)</th>\n",
       "      <td>{BS0307005030601NA, BS0307008030601NA}</td>\n",
       "    </tr>\n",
       "    <tr>\n",
       "      <th>1 DOOR WARDROBE WITH 3 PCS SHELVES (W/ DOOR)</th>\n",
       "      <td>{BS0307008030600NA, BS0305008030600NA, BS03070...</td>\n",
       "    </tr>\n",
       "    <tr>\n",
       "      <th>2 DOOR WARDROBE (C/W 1PC SHELF + 1PC ROD + 1 SET DRAWER)</th>\n",
       "      <td>{BS0305005030700NA, BS0307008030700NA, BS03070...</td>\n",
       "    </tr>\n",
       "    <tr>\n",
       "      <th>2 DOOR WARDROBE (C/W 2PC ROD + 1 PC SHELF)</th>\n",
       "      <td>{BS0307005030701NA, BS0307013030701NA, BS03050...</td>\n",
       "    </tr>\n",
       "    <tr>\n",
       "      <th>3.5FT SPINAL CARE MATTRESS</th>\n",
       "      <td>{FS0307195030200MF, FS0308195030200MF}</td>\n",
       "    </tr>\n",
       "  </tbody>\n",
       "</table>\n",
       "</div>"
      ],
      "text/plain": [
       "                                                                                                 Item\n",
       "Item Name                                                                                            \n",
       "1 DOOR WARDROBE WITH 2 PCS  ROD (W/ DOOR)                      {BS0307005030601NA, BS0307008030601NA}\n",
       "1 DOOR WARDROBE WITH 3 PCS SHELVES (W/ DOOR)        {BS0307008030600NA, BS0305008030600NA, BS03070...\n",
       "2 DOOR WARDROBE (C/W 1PC SHELF + 1PC ROD + 1 SE...  {BS0305005030700NA, BS0307008030700NA, BS03070...\n",
       "2 DOOR WARDROBE (C/W 2PC ROD + 1 PC SHELF)          {BS0307005030701NA, BS0307013030701NA, BS03050...\n",
       "3.5FT SPINAL CARE MATTRESS                                     {FS0307195030200MF, FS0308195030200MF}"
      ]
     },
     "execution_count": 10,
     "metadata": {},
     "output_type": "execute_result"
    }
   ],
   "source": [
    "gb_item_name = data[['Item', 'Item Name']].groupby('Item Name').agg({'Item':set})\n",
    "gb_item_name[gb_item_name['Item'].apply(len) > 1].head()"
   ]
  },
  {
   "cell_type": "markdown",
   "id": "permanent-champagne",
   "metadata": {},
   "source": [
    "- 2 item codes are used for >1 item names each (i.e. some item names have the same item code)\n",
    "- quite a lot of item names have multiple item codes \n",
    "- 'Item' is more unique than 'Item Name'"
   ]
  },
  {
   "cell_type": "markdown",
   "id": "sporting-damage",
   "metadata": {},
   "source": [
    "### Item Feature Engineering"
   ]
  },
  {
   "cell_type": "code",
   "execution_count": 11,
   "id": "designing-anderson",
   "metadata": {
    "scrolled": false
   },
   "outputs": [
    {
     "data": {
      "text/html": [
       "<div>\n",
       "<style scoped>\n",
       "    .dataframe tbody tr th:only-of-type {\n",
       "        vertical-align: middle;\n",
       "    }\n",
       "\n",
       "    .dataframe tbody tr th {\n",
       "        vertical-align: top;\n",
       "    }\n",
       "\n",
       "    .dataframe thead th {\n",
       "        text-align: right;\n",
       "    }\n",
       "</style>\n",
       "<table border=\"1\" class=\"dataframe\">\n",
       "  <thead>\n",
       "    <tr style=\"text-align: right;\">\n",
       "      <th></th>\n",
       "      <th>Outlet</th>\n",
       "      <th>Order Date</th>\n",
       "      <th>Item</th>\n",
       "      <th>Item Name</th>\n",
       "      <th>Qty</th>\n",
       "      <th>Sales</th>\n",
       "      <th>Category</th>\n",
       "      <th>Dimensions</th>\n",
       "    </tr>\n",
       "  </thead>\n",
       "  <tbody>\n",
       "    <tr>\n",
       "      <th>0</th>\n",
       "      <td>WG</td>\n",
       "      <td>2018-11-10</td>\n",
       "      <td>FS0201823020000CF</td>\n",
       "      <td>KONTUR CHAIR</td>\n",
       "      <td>4</td>\n",
       "      <td>916.00</td>\n",
       "      <td>Living Room</td>\n",
       "      <td>no dim</td>\n",
       "    </tr>\n",
       "    <tr>\n",
       "      <th>1</th>\n",
       "      <td>WG</td>\n",
       "      <td>2018-11-10</td>\n",
       "      <td>FS0200039020300DW</td>\n",
       "      <td>ROND DINING TABLE 150 X 80 X 74 CM</td>\n",
       "      <td>1</td>\n",
       "      <td>1167.55</td>\n",
       "      <td>Dining Room</td>\n",
       "      <td>150 X 80 X 74 CM</td>\n",
       "    </tr>\n",
       "    <tr>\n",
       "      <th>2</th>\n",
       "      <td>WG</td>\n",
       "      <td>2018-11-10</td>\n",
       "      <td>FS0205112020000KF</td>\n",
       "      <td>LOIS DINING TABLE 135 CM - SOLID (1 FOLD X 24 MM)</td>\n",
       "      <td>1</td>\n",
       "      <td>1399.00</td>\n",
       "      <td>Dining Room</td>\n",
       "      <td>135 CM</td>\n",
       "    </tr>\n",
       "    <tr>\n",
       "      <th>3</th>\n",
       "      <td>WG</td>\n",
       "      <td>2018-12-08</td>\n",
       "      <td>BS0302778030100MA</td>\n",
       "      <td>3FT SINGLE BED WITH BEDSLATS</td>\n",
       "      <td>1</td>\n",
       "      <td>369.00</td>\n",
       "      <td>Bedroom</td>\n",
       "      <td>3FT</td>\n",
       "    </tr>\n",
       "    <tr>\n",
       "      <th>4</th>\n",
       "      <td>WG</td>\n",
       "      <td>2018-12-08</td>\n",
       "      <td>FS0308195030100MF</td>\n",
       "      <td>3FT SPINAL CARE MATTRESS</td>\n",
       "      <td>1</td>\n",
       "      <td>263.12</td>\n",
       "      <td>Bedroom</td>\n",
       "      <td>3FT</td>\n",
       "    </tr>\n",
       "    <tr>\n",
       "      <th>5</th>\n",
       "      <td>WG</td>\n",
       "      <td>2018-12-08</td>\n",
       "      <td>FS0500087050000PT</td>\n",
       "      <td>OKA DISPLAY STAND (30X30X45CM)</td>\n",
       "      <td>1</td>\n",
       "      <td>122.32</td>\n",
       "      <td>Others</td>\n",
       "      <td>30X30X45CM</td>\n",
       "    </tr>\n",
       "    <tr>\n",
       "      <th>6</th>\n",
       "      <td>WG</td>\n",
       "      <td>2018-12-08</td>\n",
       "      <td>BS0103316010204RK</td>\n",
       "      <td>ENKEL 2-SEATER WITH CUSHION &amp; COVER #KB1710-06</td>\n",
       "      <td>1</td>\n",
       "      <td>799.00</td>\n",
       "      <td>Living Room</td>\n",
       "      <td>2 SEATER</td>\n",
       "    </tr>\n",
       "    <tr>\n",
       "      <th>7</th>\n",
       "      <td>WG</td>\n",
       "      <td>2018-12-08</td>\n",
       "      <td>FS0200337020000RK</td>\n",
       "      <td>BASS DINING CHAIR</td>\n",
       "      <td>1</td>\n",
       "      <td>201.52</td>\n",
       "      <td>Dining Room</td>\n",
       "      <td>no dim</td>\n",
       "    </tr>\n",
       "    <tr>\n",
       "      <th>8</th>\n",
       "      <td>WG</td>\n",
       "      <td>2018-12-08</td>\n",
       "      <td>BS0103316010204RK</td>\n",
       "      <td>ENKEL 2-SEATER WITH CUSHION &amp; COVER #KB1710-06</td>\n",
       "      <td>2</td>\n",
       "      <td>1598.00</td>\n",
       "      <td>Living Room</td>\n",
       "      <td>2 SEATER</td>\n",
       "    </tr>\n",
       "    <tr>\n",
       "      <th>9</th>\n",
       "      <td>WG</td>\n",
       "      <td>2018-12-08</td>\n",
       "      <td>FS0201825020000KF</td>\n",
       "      <td>KORTA OCCASIONAL SIDE TABLE</td>\n",
       "      <td>3</td>\n",
       "      <td>261.36</td>\n",
       "      <td>Living Room</td>\n",
       "      <td>no dim</td>\n",
       "    </tr>\n",
       "  </tbody>\n",
       "</table>\n",
       "</div>"
      ],
      "text/plain": [
       "  Outlet Order Date               Item  \\\n",
       "0     WG 2018-11-10  FS0201823020000CF   \n",
       "1     WG 2018-11-10  FS0200039020300DW   \n",
       "2     WG 2018-11-10  FS0205112020000KF   \n",
       "3     WG 2018-12-08  BS0302778030100MA   \n",
       "4     WG 2018-12-08  FS0308195030100MF   \n",
       "5     WG 2018-12-08  FS0500087050000PT   \n",
       "6     WG 2018-12-08  BS0103316010204RK   \n",
       "7     WG 2018-12-08  FS0200337020000RK   \n",
       "8     WG 2018-12-08  BS0103316010204RK   \n",
       "9     WG 2018-12-08  FS0201825020000KF   \n",
       "\n",
       "                                           Item Name  Qty    Sales  \\\n",
       "0                                       KONTUR CHAIR    4   916.00   \n",
       "1                 ROND DINING TABLE 150 X 80 X 74 CM    1  1167.55   \n",
       "2  LOIS DINING TABLE 135 CM - SOLID (1 FOLD X 24 MM)    1  1399.00   \n",
       "3                       3FT SINGLE BED WITH BEDSLATS    1   369.00   \n",
       "4                           3FT SPINAL CARE MATTRESS    1   263.12   \n",
       "5                     OKA DISPLAY STAND (30X30X45CM)    1   122.32   \n",
       "6     ENKEL 2-SEATER WITH CUSHION & COVER #KB1710-06    1   799.00   \n",
       "7                                  BASS DINING CHAIR    1   201.52   \n",
       "8     ENKEL 2-SEATER WITH CUSHION & COVER #KB1710-06    2  1598.00   \n",
       "9                        KORTA OCCASIONAL SIDE TABLE    3   261.36   \n",
       "\n",
       "      Category        Dimensions  \n",
       "0  Living Room            no dim  \n",
       "1  Dining Room  150 X 80 X 74 CM  \n",
       "2  Dining Room            135 CM  \n",
       "3      Bedroom               3FT  \n",
       "4      Bedroom               3FT  \n",
       "5       Others        30X30X45CM  \n",
       "6  Living Room          2 SEATER  \n",
       "7  Dining Room            no dim  \n",
       "8  Living Room          2 SEATER  \n",
       "9  Living Room            no dim  "
      ]
     },
     "execution_count": 11,
     "metadata": {},
     "output_type": "execute_result"
    }
   ],
   "source": [
    "def category(name):\n",
    "    \"\"\"splitting items into categories of furniture (places in house) from item names\"\"\"\n",
    "    name = name.lower().split()\n",
    "    dining = ['dining', 'fork', 'spoon', 'bowl', 'tray', 'teapot', 'bar', \"chef's\", 'microwave']\n",
    "    bedroom = ['bed', 'daybed', 'bedside', 'bedslats', 'mattress', 'pocket-coil', 'wardrobe', 'sleep', 'pillow', 'dresser', 'dressing']\n",
    "    office = ['office', 'writing', 'study', 'desk', 'secretary', 'computer', 'laptop']\n",
    "    storage = ['shelf', 'shelve', 'shelves', 'bookcase', 'drawer', 'drawers', 'hanger', 'chest', 'divider', 'sideboard', 'shoe', 'shoes', 'cabinet']\n",
    "    living = ['tv', 'sofa', 'cushion', 'seater', 'stool', 'table', 'chair', 'bench', 'console', 'ottoman']\n",
    "    if np.setdiff1d(dining, name).size < len(dining): # at least 1 word matched\n",
    "        return 'Dining Room'\n",
    "    elif np.setdiff1d(bedroom, name).size < len(bedroom):\n",
    "        return 'Bedroom'\n",
    "    elif np.setdiff1d(office, name).size < len(office):\n",
    "        return 'Home Office'\n",
    "    elif np.setdiff1d(storage, name).size < len(storage):\n",
    "        return 'Storage'\n",
    "    elif np.setdiff1d(living, name).size < len(living): # rest of tables and chairs should belong here\n",
    "        return 'Living Room'\n",
    "    else: # display stands, covers, mirror, panel\n",
    "        return 'Others'\n",
    "    \n",
    "def dimensions(name):\n",
    "    \"\"\"extracting dimensions or size of furniture from item names\"\"\"\n",
    "    if bool(re.search('\\d*[.]*\\dFT', name)): # ft measurement\n",
    "        return re.findall('\\d*[.]*\\dFT', name)[0]\n",
    "    elif ('CM' in name) | ('MM' in name): # cm/mm dimensions\n",
    "        try:\n",
    "            return re.findall('((\\d+\\s?X\\s?)*\\d+\\s?[CM]M)', name)[0][0]\n",
    "        except:\n",
    "            return 'no dim'\n",
    "    elif bool(re.search('\\d[-\\s]SEATER', name)): # number of seats\n",
    "        return re.findall('\\d[-\\s]SEATER', name)[0][0] + ' SEATER'\n",
    "    else:\n",
    "        return 'no dim'\n",
    "    \n",
    "data['Category'] = data['Item Name'].apply(category)\n",
    "data['Dimensions'] = data['Item Name'].apply(dimensions)\n",
    "data.head(10)"
   ]
  },
  {
   "cell_type": "code",
   "execution_count": 12,
   "id": "broke-creation",
   "metadata": {},
   "outputs": [],
   "source": [
    "data.to_excel('edit-CompanyA-RetailCorpus.xlsx')"
   ]
  },
  {
   "cell_type": "markdown",
   "id": "quarterly-adaptation",
   "metadata": {},
   "source": [
    "## Item-based / Product-Product Recommender System"
   ]
  },
  {
   "cell_type": "code",
   "execution_count": 13,
   "id": "rolled-genetics",
   "metadata": {},
   "outputs": [
    {
     "data": {
      "text/plain": [
       "(612, 648)"
      ]
     },
     "execution_count": 13,
     "metadata": {},
     "output_type": "execute_result"
    }
   ],
   "source": [
    "tfidf = TfidfVectorizer(stop_words='english')\n",
    "# construct TF-IDF matrix by applying the fit_transform method on the item name/desc\n",
    "items = pd.Series(data['Item Name'].unique())\n",
    "item_matrix = tfidf.fit_transform(items)\n",
    "item_matrix.shape"
   ]
  },
  {
   "cell_type": "code",
   "execution_count": 14,
   "id": "direct-cross",
   "metadata": {},
   "outputs": [
    {
     "data": {
      "text/plain": [
       "array([[1.        , 0.        , 0.        , ..., 0.        , 0.        ,\n",
       "        0.        ],\n",
       "       [0.        , 1.        , 0.17211879, ..., 0.        , 0.        ,\n",
       "        0.        ],\n",
       "       [0.        , 0.17211879, 1.        , ..., 0.        , 0.        ,\n",
       "        0.        ],\n",
       "       ...,\n",
       "       [0.        , 0.        , 0.        , ..., 1.        , 0.        ,\n",
       "        0.        ],\n",
       "       [0.        , 0.        , 0.        , ..., 0.        , 1.        ,\n",
       "        0.        ],\n",
       "       [0.        , 0.        , 0.        , ..., 0.        , 0.        ,\n",
       "        1.        ]])"
      ]
     },
     "execution_count": 14,
     "metadata": {},
     "output_type": "execute_result"
    }
   ],
   "source": [
    "# compute similarity between item names, similar to cosine similarity\n",
    "# values 0 to 1\n",
    "similarity_matrix = linear_kernel(item_matrix,item_matrix)\n",
    "similarity_matrix"
   ]
  },
  {
   "cell_type": "code",
   "execution_count": 15,
   "id": "under-warning",
   "metadata": {
    "scrolled": true
   },
   "outputs": [
    {
     "data": {
      "text/plain": [
       "KONTUR CHAIR                                                      0\n",
       "ROND DINING TABLE 150 X 80 X 74 CM                                1\n",
       "LOIS DINING TABLE 135 CM - SOLID (1 FOLD X 24 MM)                 2\n",
       "3FT SINGLE BED WITH BEDSLATS                                      3\n",
       "3FT SPINAL CARE MATTRESS                                          4\n",
       "                                                               ... \n",
       "3FT PEDIC COOL MATTRESS                                         607\n",
       "3 SEATER COVER #14113 #G113                                     608\n",
       "2 SEATER COVER #14113 #G113                                     609\n",
       "ISLAND DAYBED CUSHION CW (1S+2B) #1623-18+1 BOLSTER#1623-19     610\n",
       "REKKI 3 LAYER OPEN SHELF                                        611\n",
       "Length: 612, dtype: int64"
      ]
     },
     "execution_count": 15,
     "metadata": {},
     "output_type": "execute_result"
    }
   ],
   "source": [
    "mapping = pd.Series(items.index, index = items)\n",
    "mapping"
   ]
  },
  {
   "cell_type": "code",
   "execution_count": 16,
   "id": "atlantic-schedule",
   "metadata": {},
   "outputs": [],
   "source": [
    "def recommend(item_input):\n",
    "    index = mapping[item_input]\n",
    "    \n",
    "    # get similarity values with other items\n",
    "    similarity_score = list(enumerate(similarity_matrix[index])) # list of index and similarity score\n",
    "    similarity_score = sorted(similarity_score, key=lambda x: x[1], reverse=True) # descending order of scores\n",
    "    # top 10 most similar item names\n",
    "    similarity_score = similarity_score[1:11] # index 0 is the item itself\n",
    "#     print(similarity_score)\n",
    "    \n",
    "    item_indices = [i[0] for i in similarity_score]\n",
    "    return items.iloc[item_indices]"
   ]
  },
  {
   "cell_type": "code",
   "execution_count": 17,
   "id": "respected-bargain",
   "metadata": {},
   "outputs": [
    {
     "data": {
      "text/plain": [
       "134                 3FT BACK PEDIC MATTRESS\n",
       "85                  5FT BACK PEDIC MATTRESS\n",
       "137               3.5FT BACK PEDIC MATTRESS\n",
       "290                 6FT BACK PEDIC MATTRESS\n",
       "176                  3FT ORTHOREST MATTRESS\n",
       "175                 3FT FLEXI COIL MATTRESS\n",
       "57                3FT POSTURE REST MATTRESS\n",
       "4                  3FT SPINAL CARE MATTRESS\n",
       "419    3FT KOMFORT AIR MATTRESS-91X188X15CM\n",
       "132                   3FT BED WITH BEDSLATS\n",
       "dtype: object"
      ]
     },
     "execution_count": 17,
     "metadata": {},
     "output_type": "execute_result"
    }
   ],
   "source": [
    "recommend('3FT PEDIC COOL MATTRESS')\n",
    "# reco 2 and 3: 5FT and 3.5FT same similarity score"
   ]
  },
  {
   "cell_type": "code",
   "execution_count": 18,
   "id": "framed-teddy",
   "metadata": {
    "scrolled": true
   },
   "outputs": [
    {
     "data": {
      "text/plain": [
       "116                   ROND DINING TABLE 135 X 80 X 74 CM\n",
       "77     LOIS DINING TABLE 150 CM - SOLID (1 FOLD X 24 MM)\n",
       "266                                 HYLLA BOOKCASE 80 CM\n",
       "600              LOIS DINING TABLE FJL (150 X 90 X 74CM)\n",
       "160                  LYFT FOLDING TABLE (80 X 80 X 75CM)\n",
       "576                            CHAIR 3 (49 X 46 X 80 CM)\n",
       "388              LOIS DINING TABLE FJL (135 X 80 X 74CM)\n",
       "42     MONO DINING TABLE-150 X 75 X 72CM-SCANTEAK FUR...\n",
       "361                            SLANK 135 CM DINING TABLE\n",
       "550                   CHAIR 2 WITH ARM (49 X 46 X 80 CM)\n",
       "dtype: object"
      ]
     },
     "execution_count": 18,
     "metadata": {},
     "output_type": "execute_result"
    }
   ],
   "source": [
    "recommend('ROND DINING TABLE 150 X 80 X 74 CM')"
   ]
  },
  {
   "cell_type": "code",
   "execution_count": 19,
   "id": "protected-proceeding",
   "metadata": {},
   "outputs": [
    {
     "data": {
      "text/plain": [
       "93     KORS 1 SEATER FRAME WITH CUSHION & COVER #25B ...\n",
       "213    KORS 2 SEATER FRAME WITH CUSHION & COVER #25B ...\n",
       "509      LINEAR 2-SEATER FRAME WITH CUSHION & COVER #25B\n",
       "18                                        3 SEATER COVER\n",
       "94                                        1 SEATER COVER\n",
       "130                                       2 SEATER COVER\n",
       "105                                     3 SEATER CUSHION\n",
       "124                                     1 SEATER CUSHION\n",
       "168                                     2 SEATER CUSHION\n",
       "294    VILA 3-SEATER FRAME WITH CUSHION & COVER #KB12...\n",
       "dtype: object"
      ]
     },
     "execution_count": 19,
     "metadata": {},
     "output_type": "execute_result"
    }
   ],
   "source": [
    "recommend('KORS 3 SEATER FRAME WITH CUSHION & COVER #25B (NEW SOFTNESS)')\n",
    "# similarity score same if difference is only the digits eg. 3 SEATER COVER VS 1 SEATER COVER"
   ]
  },
  {
   "cell_type": "markdown",
   "id": "crazy-shirt",
   "metadata": {},
   "source": [
    "Note:\n",
    "<br> To take into account the dimensions/digits (so similarity score will differ), perhaps can include cosine similarity with the 'Dimensions' column. \n",
    "<br> Using 'Category' column might overlap with tfidf recommender function that uses item name if item name contains category type."
   ]
  },
  {
   "cell_type": "markdown",
   "id": "cooked-creator",
   "metadata": {},
   "source": [
    "### Evaluation\n",
    "Trying <b>(Mean) Average Precision at k (MAP@k)</b>, where k recommendations were provided\n",
    "- Not sure how to split into train and validation because results fixed for each query\n",
    "- No mean taken since there is only 1 possible set of recommendations output for every item query\n",
    "- Assuming 'relevancy' means falling under the same category \n",
    "- i.e. 'bed with bedslats' and 'cool mattress' both fall under 'Bedroom' so either is a relevant recommendation to the other"
   ]
  },
  {
   "cell_type": "code",
   "execution_count": 20,
   "id": "aging-modification",
   "metadata": {},
   "outputs": [
    {
     "data": {
      "text/plain": [
       "612"
      ]
     },
     "execution_count": 20,
     "metadata": {},
     "output_type": "execute_result"
    }
   ],
   "source": [
    "items.size"
   ]
  },
  {
   "cell_type": "code",
   "execution_count": 21,
   "id": "secure-netscape",
   "metadata": {},
   "outputs": [
    {
     "data": {
      "text/html": [
       "<div>\n",
       "<style scoped>\n",
       "    .dataframe tbody tr th:only-of-type {\n",
       "        vertical-align: middle;\n",
       "    }\n",
       "\n",
       "    .dataframe tbody tr th {\n",
       "        vertical-align: top;\n",
       "    }\n",
       "\n",
       "    .dataframe thead th {\n",
       "        text-align: right;\n",
       "    }\n",
       "</style>\n",
       "<table border=\"1\" class=\"dataframe\">\n",
       "  <thead>\n",
       "    <tr style=\"text-align: right;\">\n",
       "      <th></th>\n",
       "      <th>Category</th>\n",
       "    </tr>\n",
       "    <tr>\n",
       "      <th>Item Name</th>\n",
       "      <th></th>\n",
       "    </tr>\n",
       "  </thead>\n",
       "  <tbody>\n",
       "    <tr>\n",
       "      <th>KONTUR CHAIR</th>\n",
       "      <td>Living Room</td>\n",
       "    </tr>\n",
       "    <tr>\n",
       "      <th>ROND DINING TABLE 150 X 80 X 74 CM</th>\n",
       "      <td>Dining Room</td>\n",
       "    </tr>\n",
       "    <tr>\n",
       "      <th>LOIS DINING TABLE 135 CM - SOLID (1 FOLD X 24 MM)</th>\n",
       "      <td>Dining Room</td>\n",
       "    </tr>\n",
       "    <tr>\n",
       "      <th>3FT SINGLE BED WITH BEDSLATS</th>\n",
       "      <td>Bedroom</td>\n",
       "    </tr>\n",
       "    <tr>\n",
       "      <th>3FT SPINAL CARE MATTRESS</th>\n",
       "      <td>Bedroom</td>\n",
       "    </tr>\n",
       "    <tr>\n",
       "      <th>...</th>\n",
       "      <td>...</td>\n",
       "    </tr>\n",
       "    <tr>\n",
       "      <th>3FT PEDIC COOL MATTRESS</th>\n",
       "      <td>Bedroom</td>\n",
       "    </tr>\n",
       "    <tr>\n",
       "      <th>3 SEATER COVER #14113 #G113</th>\n",
       "      <td>Living Room</td>\n",
       "    </tr>\n",
       "    <tr>\n",
       "      <th>2 SEATER COVER #14113 #G113</th>\n",
       "      <td>Living Room</td>\n",
       "    </tr>\n",
       "    <tr>\n",
       "      <th>ISLAND DAYBED CUSHION CW (1S+2B) #1623-18+1 BOLSTER#1623-19</th>\n",
       "      <td>Bedroom</td>\n",
       "    </tr>\n",
       "    <tr>\n",
       "      <th>REKKI 3 LAYER OPEN SHELF</th>\n",
       "      <td>Storage</td>\n",
       "    </tr>\n",
       "  </tbody>\n",
       "</table>\n",
       "<p>612 rows × 1 columns</p>\n",
       "</div>"
      ],
      "text/plain": [
       "                                                       Category\n",
       "Item Name                                                      \n",
       "KONTUR CHAIR                                        Living Room\n",
       "ROND DINING TABLE 150 X 80 X 74 CM                  Dining Room\n",
       "LOIS DINING TABLE 135 CM - SOLID (1 FOLD X 24 MM)   Dining Room\n",
       "3FT SINGLE BED WITH BEDSLATS                            Bedroom\n",
       "3FT SPINAL CARE MATTRESS                                Bedroom\n",
       "...                                                         ...\n",
       "3FT PEDIC COOL MATTRESS                                 Bedroom\n",
       "3 SEATER COVER #14113 #G113                         Living Room\n",
       "2 SEATER COVER #14113 #G113                         Living Room\n",
       "ISLAND DAYBED CUSHION CW (1S+2B) #1623-18+1 BOL...      Bedroom\n",
       "REKKI 3 LAYER OPEN SHELF                       ...      Storage\n",
       "\n",
       "[612 rows x 1 columns]"
      ]
     },
     "execution_count": 21,
     "metadata": {},
     "output_type": "execute_result"
    }
   ],
   "source": [
    "item_category = data[['Item Name', 'Category']].drop_duplicates(keep='first').set_index('Item Name')\n",
    "item_category"
   ]
  },
  {
   "cell_type": "code",
   "execution_count": 22,
   "id": "bizarre-renewal",
   "metadata": {},
   "outputs": [
    {
     "data": {
      "text/plain": [
       "'Bedroom'"
      ]
     },
     "execution_count": 22,
     "metadata": {},
     "output_type": "execute_result"
    }
   ],
   "source": [
    "item_category.loc['3FT PEDIC COOL MATTRESS'][0]"
   ]
  },
  {
   "cell_type": "code",
   "execution_count": 23,
   "id": "super-sunset",
   "metadata": {},
   "outputs": [],
   "source": [
    "def ap_at_k(item, recos):\n",
    "    to_match = item_category.loc[item][0]\n",
    "    relevant = []\n",
    "    for reco in recos:\n",
    "        reco_cat = item_category.loc[reco][0]\n",
    "        if to_match == reco_cat:\n",
    "            relevant.append(1)\n",
    "        else:\n",
    "            relevant.append(0)\n",
    "#     print(relevant) \n",
    "    \n",
    "    precision_sum = 0\n",
    "    relevant_count = 0\n",
    "    for i in range(len(relevant)):\n",
    "        if relevant[i] == 1:\n",
    "            relevant_count += 1\n",
    "            precision_sum += relevant_count/(i+1)\n",
    "    if relevant_count == 0:\n",
    "        score = 0\n",
    "    else:\n",
    "        score = precision_sum/relevant_count\n",
    "    return score"
   ]
  },
  {
   "cell_type": "code",
   "execution_count": 24,
   "id": "statutory-rates",
   "metadata": {},
   "outputs": [
    {
     "data": {
      "text/plain": [
       "0.7688492063492064"
      ]
     },
     "execution_count": 24,
     "metadata": {},
     "output_type": "execute_result"
    }
   ],
   "source": [
    "recommendations = recommend('ROND DINING TABLE 150 X 80 X 74 CM')\n",
    "ap_at_k('ROND DINING TABLE 150 X 80 X 74 CM', recommendations)"
   ]
  },
  {
   "cell_type": "code",
   "execution_count": 25,
   "id": "experimental-moral",
   "metadata": {},
   "outputs": [
    {
     "data": {
      "text/plain": [
       "1.0"
      ]
     },
     "execution_count": 25,
     "metadata": {},
     "output_type": "execute_result"
    }
   ],
   "source": [
    "recommendations = recommend('KORS 3 SEATER FRAME WITH CUSHION & COVER #25B (NEW SOFTNESS)')\n",
    "ap_at_k('KORS 3 SEATER FRAME WITH CUSHION & COVER #25B (NEW SOFTNESS)', recommendations)"
   ]
  },
  {
   "cell_type": "code",
   "execution_count": 26,
   "id": "embedded-ranch",
   "metadata": {},
   "outputs": [
    {
     "name": "stdout",
     "output_type": "stream",
     "text": [
      "Average AP@k across all items:\n",
      "\n",
      "0.862365624490537\n"
     ]
    }
   ],
   "source": [
    "ap = 0\n",
    "for i in range(len(items)):\n",
    "    recos = recommend(items[i])\n",
    "    score = ap_at_k(items[i], recos)\n",
    "    ap += score\n",
    "\n",
    "print('Average AP@k across all items:\\n')    \n",
    "print(ap/len(items))"
   ]
  },
  {
   "cell_type": "code",
   "execution_count": null,
   "id": "crude-couple",
   "metadata": {},
   "outputs": [],
   "source": []
  },
  {
   "cell_type": "code",
   "execution_count": null,
   "id": "respiratory-holmes",
   "metadata": {},
   "outputs": [],
   "source": []
  },
  {
   "cell_type": "code",
   "execution_count": null,
   "id": "spread-audience",
   "metadata": {},
   "outputs": [],
   "source": []
  },
  {
   "cell_type": "code",
   "execution_count": 27,
   "id": "married-treat",
   "metadata": {},
   "outputs": [],
   "source": [
    "%run pdt_recommender.py"
   ]
  },
  {
   "cell_type": "code",
   "execution_count": 28,
   "id": "gross-device",
   "metadata": {},
   "outputs": [
    {
     "data": {
      "text/plain": [
       "<module 'pdt_recommender' from 'C:\\\\Users\\\\Aisyah\\\\Desktop\\\\Intern\\\\CompanyA\\\\pdt_recommender.py'>"
      ]
     },
     "execution_count": 28,
     "metadata": {},
     "output_type": "execute_result"
    }
   ],
   "source": [
    "import pdt_recommender\n",
    "import importlib\n",
    "importlib.reload(pdt_recommender)"
   ]
  },
  {
   "cell_type": "code",
   "execution_count": 29,
   "id": "illegal-auction",
   "metadata": {},
   "outputs": [
    {
     "data": {
      "text/plain": [
       "93     KORS 1 SEATER FRAME WITH CUSHION & COVER #25B ...\n",
       "213    KORS 2 SEATER FRAME WITH CUSHION & COVER #25B ...\n",
       "509      LINEAR 2-SEATER FRAME WITH CUSHION & COVER #25B\n",
       "18                                        3 SEATER COVER\n",
       "94                                        1 SEATER COVER\n",
       "130                                       2 SEATER COVER\n",
       "105                                     3 SEATER CUSHION\n",
       "124                                     1 SEATER CUSHION\n",
       "168                                     2 SEATER CUSHION\n",
       "294    VILA 3-SEATER FRAME WITH CUSHION & COVER #KB12...\n",
       "dtype: object"
      ]
     },
     "execution_count": 29,
     "metadata": {},
     "output_type": "execute_result"
    }
   ],
   "source": [
    "pdt_recommender.recommend('KORS 3 SEATER FRAME WITH CUSHION & COVER #25B (NEW SOFTNESS)')"
   ]
  },
  {
   "cell_type": "code",
   "execution_count": 30,
   "id": "strong-tourist",
   "metadata": {},
   "outputs": [
    {
     "data": {
      "text/plain": [
       "1.0"
      ]
     },
     "execution_count": 30,
     "metadata": {},
     "output_type": "execute_result"
    }
   ],
   "source": [
    "pdt_recommender.ap_at_k('KORS 3 SEATER FRAME WITH CUSHION & COVER #25B (NEW SOFTNESS)')"
   ]
  },
  {
   "cell_type": "code",
   "execution_count": null,
   "id": "thorough-defendant",
   "metadata": {},
   "outputs": [],
   "source": []
  }
 ],
 "metadata": {
  "kernelspec": {
   "display_name": "Python 3",
   "language": "python",
   "name": "python3"
  },
  "language_info": {
   "codemirror_mode": {
    "name": "ipython",
    "version": 3
   },
   "file_extension": ".py",
   "mimetype": "text/x-python",
   "name": "python",
   "nbconvert_exporter": "python",
   "pygments_lexer": "ipython3",
   "version": "3.8.3"
  }
 },
 "nbformat": 4,
 "nbformat_minor": 5
}
