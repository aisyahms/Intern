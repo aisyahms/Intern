{
 "cells": [
  {
   "cell_type": "code",
   "execution_count": 1,
   "metadata": {},
   "outputs": [],
   "source": [
    "import pandas as pd\n",
    "import numpy as np"
   ]
  },
  {
   "cell_type": "code",
   "execution_count": 2,
   "metadata": {},
   "outputs": [],
   "source": [
    "%run svd.py"
   ]
  },
  {
   "cell_type": "code",
   "execution_count": 3,
   "metadata": {},
   "outputs": [],
   "source": [
    "import svd "
   ]
  },
  {
   "cell_type": "code",
   "execution_count": 4,
   "metadata": {},
   "outputs": [],
   "source": [
    "import importlib"
   ]
  },
  {
   "cell_type": "code",
   "execution_count": 5,
   "metadata": {
    "scrolled": false
   },
   "outputs": [
    {
     "data": {
      "text/plain": [
       "<module 'svd' from 'C:\\\\Users\\\\Aisyah\\\\Desktop\\\\X-selling engine\\\\src\\\\matrix_factorization\\\\svd.py'>"
      ]
     },
     "execution_count": 5,
     "metadata": {},
     "output_type": "execute_result"
    }
   ],
   "source": [
    "importlib.reload(svd)"
   ]
  },
  {
   "cell_type": "code",
   "execution_count": 6,
   "metadata": {},
   "outputs": [
    {
     "data": {
      "text/html": [
       "<div>\n",
       "<style scoped>\n",
       "    .dataframe tbody tr th:only-of-type {\n",
       "        vertical-align: middle;\n",
       "    }\n",
       "\n",
       "    .dataframe tbody tr th {\n",
       "        vertical-align: top;\n",
       "    }\n",
       "\n",
       "    .dataframe thead th {\n",
       "        text-align: right;\n",
       "    }\n",
       "</style>\n",
       "<table border=\"1\" class=\"dataframe\">\n",
       "  <thead>\n",
       "    <tr style=\"text-align: right;\">\n",
       "      <th></th>\n",
       "      <th>Id</th>\n",
       "      <th>ProductId</th>\n",
       "      <th>UserId</th>\n",
       "      <th>ProfileName</th>\n",
       "      <th>HelpfulnessNumerator</th>\n",
       "      <th>HelpfulnessDenominator</th>\n",
       "      <th>Score</th>\n",
       "      <th>Time</th>\n",
       "      <th>Summary</th>\n",
       "      <th>Text</th>\n",
       "      <th>Age Group</th>\n",
       "      <th>Gender</th>\n",
       "    </tr>\n",
       "  </thead>\n",
       "  <tbody>\n",
       "    <tr>\n",
       "      <th>0</th>\n",
       "      <td>1</td>\n",
       "      <td>B001E4KFG0</td>\n",
       "      <td>A3SGXH7AUHU8GW</td>\n",
       "      <td>delmartian</td>\n",
       "      <td>1</td>\n",
       "      <td>1</td>\n",
       "      <td>5</td>\n",
       "      <td>1303862400</td>\n",
       "      <td>Good Quality Dog Food</td>\n",
       "      <td>I have bought several of the Vitality canned d...</td>\n",
       "      <td>50-59</td>\n",
       "      <td>male</td>\n",
       "    </tr>\n",
       "    <tr>\n",
       "      <th>1</th>\n",
       "      <td>2</td>\n",
       "      <td>B00813GRG4</td>\n",
       "      <td>A1D87F6ZCVE5NK</td>\n",
       "      <td>dll pa</td>\n",
       "      <td>0</td>\n",
       "      <td>0</td>\n",
       "      <td>1</td>\n",
       "      <td>1346976000</td>\n",
       "      <td>Not as Advertised</td>\n",
       "      <td>Product arrived labeled as Jumbo Salted Peanut...</td>\n",
       "      <td>&gt;60</td>\n",
       "      <td>male</td>\n",
       "    </tr>\n",
       "    <tr>\n",
       "      <th>2</th>\n",
       "      <td>3</td>\n",
       "      <td>B000LQOCH0</td>\n",
       "      <td>ABXLMWJIXXAIN</td>\n",
       "      <td>Natalia Corres \"Natalia Corres\"</td>\n",
       "      <td>1</td>\n",
       "      <td>1</td>\n",
       "      <td>4</td>\n",
       "      <td>1219017600</td>\n",
       "      <td>\"Delight\" says it all</td>\n",
       "      <td>This is a confection that has been around a fe...</td>\n",
       "      <td>40-49</td>\n",
       "      <td>female</td>\n",
       "    </tr>\n",
       "    <tr>\n",
       "      <th>3</th>\n",
       "      <td>4</td>\n",
       "      <td>B000UA0QIQ</td>\n",
       "      <td>A395BORC6FGVXV</td>\n",
       "      <td>Karl</td>\n",
       "      <td>3</td>\n",
       "      <td>3</td>\n",
       "      <td>2</td>\n",
       "      <td>1307923200</td>\n",
       "      <td>Cough Medicine</td>\n",
       "      <td>If you are looking for the secret ingredient i...</td>\n",
       "      <td>40-49</td>\n",
       "      <td>male</td>\n",
       "    </tr>\n",
       "    <tr>\n",
       "      <th>4</th>\n",
       "      <td>5</td>\n",
       "      <td>B006K2ZZ7K</td>\n",
       "      <td>A1UQRSCLF8GW1T</td>\n",
       "      <td>Michael D. Bigham \"M. Wassir\"</td>\n",
       "      <td>0</td>\n",
       "      <td>0</td>\n",
       "      <td>5</td>\n",
       "      <td>1350777600</td>\n",
       "      <td>Great taffy</td>\n",
       "      <td>Great taffy at a great price.  There was a wid...</td>\n",
       "      <td>&gt;60</td>\n",
       "      <td>female</td>\n",
       "    </tr>\n",
       "  </tbody>\n",
       "</table>\n",
       "</div>"
      ],
      "text/plain": [
       "   Id   ProductId          UserId                      ProfileName  \\\n",
       "0   1  B001E4KFG0  A3SGXH7AUHU8GW                       delmartian   \n",
       "1   2  B00813GRG4  A1D87F6ZCVE5NK                           dll pa   \n",
       "2   3  B000LQOCH0   ABXLMWJIXXAIN  Natalia Corres \"Natalia Corres\"   \n",
       "3   4  B000UA0QIQ  A395BORC6FGVXV                             Karl   \n",
       "4   5  B006K2ZZ7K  A1UQRSCLF8GW1T    Michael D. Bigham \"M. Wassir\"   \n",
       "\n",
       "   HelpfulnessNumerator  HelpfulnessDenominator  Score        Time  \\\n",
       "0                     1                       1      5  1303862400   \n",
       "1                     0                       0      1  1346976000   \n",
       "2                     1                       1      4  1219017600   \n",
       "3                     3                       3      2  1307923200   \n",
       "4                     0                       0      5  1350777600   \n",
       "\n",
       "                 Summary                                               Text  \\\n",
       "0  Good Quality Dog Food  I have bought several of the Vitality canned d...   \n",
       "1      Not as Advertised  Product arrived labeled as Jumbo Salted Peanut...   \n",
       "2  \"Delight\" says it all  This is a confection that has been around a fe...   \n",
       "3         Cough Medicine  If you are looking for the secret ingredient i...   \n",
       "4            Great taffy  Great taffy at a great price.  There was a wid...   \n",
       "\n",
       "  Age Group  Gender  \n",
       "0     50-59    male  \n",
       "1       >60    male  \n",
       "2     40-49  female  \n",
       "3     40-49    male  \n",
       "4       >60  female  "
      ]
     },
     "execution_count": 6,
     "metadata": {},
     "output_type": "execute_result"
    }
   ],
   "source": [
    "data = pd.read_csv('../../data/NewProfile.csv')\n",
    "data.head()"
   ]
  },
  {
   "cell_type": "code",
   "execution_count": 9,
   "metadata": {},
   "outputs": [
    {
     "name": "stdout",
     "output_type": "stream",
     "text": [
      "Number of users:  256059\n",
      "Number of items:  67914\n",
      "Evaluating RMSE of algorithm SVD on 5 split(s).\n",
      "\n",
      "                  Fold 1  Fold 2  Fold 3  Fold 4  Fold 5  Mean    Std     \n",
      "RMSE (testset)    1.2426  1.2470  1.2505  1.2482  1.2527  1.2482  0.0034  \n",
      "Fit time          35.71   35.51   36.59   35.53   36.22   35.91   0.42    \n",
      "Test time         1.00    0.95    0.95    0.96    1.37    1.05    0.16    \n"
     ]
    },
    {
     "data": {
      "text/plain": [
       "[1.2481957120139833, 35.91036310195923, 1.0462818622589112]"
      ]
     },
     "execution_count": 9,
     "metadata": {},
     "output_type": "execute_result"
    }
   ],
   "source": [
    "svd.svd_test(data, cols=['UserId', 'ProductId', 'Score'])"
   ]
  },
  {
   "cell_type": "code",
   "execution_count": 7,
   "metadata": {
    "scrolled": true
   },
   "outputs": [
    {
     "data": {
      "text/plain": [
       "{'New Recommendations': {'B0081XPTBS': 5.0,\n",
       "  'B0012KH0H8': 5.0,\n",
       "  'B0044MTGHI': 5.0,\n",
       "  'B0000DK4ZR': 5.0,\n",
       "  'B00286BJ90': 5.0,\n",
       "  'B005EL6VOY': 5.0,\n",
       "  'B000WFGOX0': 5.0,\n",
       "  'B001E5DYEE': 5.0,\n",
       "  'B000OC2B9M': 5.0,\n",
       "  'B0002ASCS0': 5.0,\n",
       "  'B0009F3SBY': 5.0,\n",
       "  'B000Q0IMOK': 5.0,\n",
       "  'B000B6O4LO': 5.0,\n",
       "  'B001L4JH5I': 5.0,\n",
       "  'B002YRBALU': 5.0},\n",
       " 'Other Recommendations': {'B003NCEDYG': 5}}"
      ]
     },
     "execution_count": 7,
     "metadata": {},
     "output_type": "execute_result"
    }
   ],
   "source": [
    "# test 1\n",
    "recommend(data, 'A17P82AMVZI4B1', 1, 5)"
   ]
  },
  {
   "cell_type": "code",
   "execution_count": 11,
   "metadata": {},
   "outputs": [],
   "source": [
    "# data[data['UserId'] == 'A17P82AMVZI4B1']"
   ]
  },
  {
   "cell_type": "code",
   "execution_count": 12,
   "metadata": {},
   "outputs": [],
   "source": [
    "# data[data['ProductId'] == 'B00286BJ90']\n",
    "\n",
    "# bought popcorn\n",
    "# baby formula, hairball treats for cats, coconut oil (someone mentioned using for popcorn)\n",
    "# marshmallows, sauce/marinade"
   ]
  },
  {
   "cell_type": "code",
   "execution_count": 8,
   "metadata": {
    "scrolled": true
   },
   "outputs": [
    {
     "data": {
      "text/plain": [
       "{'New Recommendations': {'B0029O0XGQ': 4.842413963836002,\n",
       "  'B000LKXGKU': 4.820112268867996,\n",
       "  'B001VNGG58': 4.7776500289735075,\n",
       "  'B000ED9L9E': 4.752326239447907,\n",
       "  'B000FK7PQW': 4.7418483817467845,\n",
       "  'B001HXNIPS': 4.710471853166678,\n",
       "  'B000F3YEPO': 4.708108628333972,\n",
       "  'B001E53TMQ': 4.707415010800255,\n",
       "  'B004IS56Y0': 4.699505819990598,\n",
       "  'B000FICDO8': 4.694064600644308,\n",
       "  'B008NDSNAU': 4.689241485915625,\n",
       "  'B0009WSCQ8': 4.6836320106508245,\n",
       "  'B003KRHDMI': 4.683579283832451,\n",
       "  'B000RL53PE': 4.683372039641376,\n",
       "  'B000E1FZCI': 4.6699046104965},\n",
       " 'Other Recommendations': {}}"
      ]
     },
     "execution_count": 8,
     "metadata": {},
     "output_type": "execute_result"
    }
   ],
   "source": [
    "# test 2\n",
    "recommend(data, 'A1D87F6ZCVE5NK', 1, 5)"
   ]
  },
  {
   "cell_type": "code",
   "execution_count": 14,
   "metadata": {},
   "outputs": [],
   "source": [
    "# data[data['UserId'] == 'A1D87F6ZCVE5NK']"
   ]
  },
  {
   "cell_type": "code",
   "execution_count": 15,
   "metadata": {
    "scrolled": true
   },
   "outputs": [],
   "source": [
    "# data[data['ProductId'] == 'B000FK7PQW']\n",
    "\n",
    "# bought peanuts (poor rating)\n",
    "# cat treats, cake mix, cayenne pepper, oatmeal/cereal, gluten free pasta"
   ]
  },
  {
   "cell_type": "code",
   "execution_count": 9,
   "metadata": {
    "scrolled": true
   },
   "outputs": [
    {
     "data": {
      "text/plain": [
       "{'New Recommendations': {'B000KEJMRI': 5.0,\n",
       "  'B000ES5GL6': 5.0,\n",
       "  'B000ED9L9E': 5.0,\n",
       "  'B000LRIFU4': 5.0,\n",
       "  'B001E5E3B2': 5.0,\n",
       "  'B001E53TMQ': 5.0,\n",
       "  'B000EDBQ6A': 5.0,\n",
       "  'B001E5E3X0': 5.0,\n",
       "  'B001LO37PY': 5.0,\n",
       "  'B0018CFN92': 5.0,\n",
       "  'B000CPZSC8': 5.0,\n",
       "  'B000CQ01IS': 5.0,\n",
       "  'B000LKZK1S': 5.0,\n",
       "  'B0028VAS8S': 5.0,\n",
       "  'B0027XYIDI': 5.0},\n",
       " 'Other Recommendations': {'B006K2ZZ7K': 5, 'B003XDH6M6': 5}}"
      ]
     },
     "execution_count": 9,
     "metadata": {},
     "output_type": "execute_result"
    }
   ],
   "source": [
    "# test 3\n",
    "recommend(data, 'A1UQRSCLF8GW1T', 1, 5)"
   ]
  },
  {
   "cell_type": "code",
   "execution_count": 17,
   "metadata": {
    "scrolled": true
   },
   "outputs": [],
   "source": [
    "# data[data['UserId'] == 'A1UQRSCLF8GW1T']"
   ]
  },
  {
   "cell_type": "code",
   "execution_count": 18,
   "metadata": {},
   "outputs": [],
   "source": [
    "# data[data['ProductId'] == 'B001E5E3B2']\n",
    "\n",
    "# bought taffy, Newman's own licorice (candy?)\n",
    "# tapioca flour, tea, oatmeal, yeast, raisin cereal"
   ]
  },
  {
   "cell_type": "code",
   "execution_count": 10,
   "metadata": {
    "scrolled": true
   },
   "outputs": [
    {
     "data": {
      "text/plain": [
       "{'New Recommendations': {'B003JCCRI4': 5.0,\n",
       "  'B008BY7NSE': 5.0,\n",
       "  'B001EQ554K': 5.0,\n",
       "  'B000FK63SS': 5.0,\n",
       "  'B001E95KOC': 5.0,\n",
       "  'B0001M0Z3O': 5.0,\n",
       "  'B000FK63LK': 5.0,\n",
       "  'B003S1TNIS': 5.0,\n",
       "  'B000RJARJS': 5.0,\n",
       "  'B000F4DKAI': 5.0,\n",
       "  'B004BKP68Q': 5.0,\n",
       "  'B000F4DKB2': 5.0,\n",
       "  'B0056WJGHK': 5.0,\n",
       "  'B0009F3SDM': 5.0,\n",
       "  'B0015GPUJY': 5.0},\n",
       " 'Other Recommendations': {'B004TPKAN4': 5,\n",
       "  'B0014WYXQK': 5,\n",
       "  'B004JGQ15E': 5,\n",
       "  'B001EO6E06': 5,\n",
       "  'B0044CPA28': 5}}"
      ]
     },
     "execution_count": 10,
     "metadata": {},
     "output_type": "execute_result"
    }
   ],
   "source": [
    "# test 4\n",
    "recommend(data, 'A1JAPP1CXRG57A', 1, 5)"
   ]
  },
  {
   "cell_type": "code",
   "execution_count": 20,
   "metadata": {},
   "outputs": [],
   "source": [
    "# data[data['UserId'] == 'A1JAPP1CXRG57A']"
   ]
  },
  {
   "cell_type": "code",
   "execution_count": 21,
   "metadata": {},
   "outputs": [],
   "source": [
    "# data[data['ProductId'] == 'B001E95KOC']\n",
    "\n",
    "# bought coffee, cereal, nuts, shampoo, juice/sparkling water, gingersnaps, oatmeal cookies, crackers, etc\n",
    "# olive oil, peanut butter, steak dust, lasagna, green tea"
   ]
  },
  {
   "cell_type": "code",
   "execution_count": 11,
   "metadata": {
    "scrolled": true
   },
   "outputs": [
    {
     "data": {
      "text/plain": [
       "{'New Recommendations': {'B0000DK4ZR': 5.0,\n",
       "  'B004SOXDFI': 5.0,\n",
       "  'B0044MTGHI': 5.0,\n",
       "  'B001EQ554K': 5.0,\n",
       "  'B0001IOSDQ': 5.0,\n",
       "  'B000FK7PQW': 5.0,\n",
       "  'B000O5DI3W': 5.0,\n",
       "  'B000O5DI1E': 5.0,\n",
       "  'B000F3WSBQ': 5.0,\n",
       "  'B0027XYIDI': 5.0,\n",
       "  'B001E5E10A': 5.0,\n",
       "  'B000E7VK9Y': 5.0,\n",
       "  'B000E7SYKM': 5.0,\n",
       "  'B001EO6EMY': 4.991322114829467,\n",
       "  'B000PW05RQ': 4.990090413880482},\n",
       " 'Other Recommendations': {'B004DMGQKE': 5, 'B000LQOCH0': 4, 'B000CQ26E0': 4}}"
      ]
     },
     "execution_count": 11,
     "metadata": {},
     "output_type": "execute_result"
    }
   ],
   "source": [
    "# test 5\n",
    "recommend(data, 'ABXLMWJIXXAIN', 1, 5)"
   ]
  },
  {
   "cell_type": "code",
   "execution_count": null,
   "metadata": {},
   "outputs": [],
   "source": []
  },
  {
   "cell_type": "code",
   "execution_count": null,
   "metadata": {},
   "outputs": [],
   "source": []
  },
  {
   "cell_type": "code",
   "execution_count": null,
   "metadata": {},
   "outputs": [],
   "source": []
  }
 ],
 "metadata": {
  "kernelspec": {
   "display_name": "Python 3",
   "language": "python",
   "name": "python3"
  },
  "language_info": {
   "codemirror_mode": {
    "name": "ipython",
    "version": 3
   },
   "file_extension": ".py",
   "mimetype": "text/x-python",
   "name": "python",
   "nbconvert_exporter": "python",
   "pygments_lexer": "ipython3",
   "version": "3.8.5"
  }
 },
 "nbformat": 4,
 "nbformat_minor": 4
}
