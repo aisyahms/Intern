{
 "cells": [
  {
   "cell_type": "code",
   "execution_count": 101,
   "metadata": {
    "scrolled": true
   },
   "outputs": [],
   "source": [
    "# import libraries\n",
    "\n",
    "# Data manipulation\n",
    "import numpy as np\n",
    "import pandas as pd\n",
    "# from datetime import datetime\n",
    "\n",
    "# Data visualisation\n",
    "import seaborn as sns\n",
    "from plotnine import *\n",
    "import matplotlib.pyplot as plt\n",
    "import matplotlib.axes as ax"
   ]
  },
  {
   "cell_type": "code",
   "execution_count": 6,
   "metadata": {},
   "outputs": [
    {
     "data": {
      "text/html": [
       "<div>\n",
       "<style scoped>\n",
       "    .dataframe tbody tr th:only-of-type {\n",
       "        vertical-align: middle;\n",
       "    }\n",
       "\n",
       "    .dataframe tbody tr th {\n",
       "        vertical-align: top;\n",
       "    }\n",
       "\n",
       "    .dataframe thead th {\n",
       "        text-align: right;\n",
       "    }\n",
       "</style>\n",
       "<table border=\"1\" class=\"dataframe\">\n",
       "  <thead>\n",
       "    <tr style=\"text-align: right;\">\n",
       "      <th></th>\n",
       "      <th>Contact Id</th>\n",
       "      <th>Gender</th>\n",
       "      <th>Postal Code</th>\n",
       "      <th>Purchase Time</th>\n",
       "      <th>Mall Id</th>\n",
       "      <th>Store Id</th>\n",
       "      <th>Store Name</th>\n",
       "      <th>Category</th>\n",
       "      <th>Amount</th>\n",
       "      <th>Age</th>\n",
       "    </tr>\n",
       "  </thead>\n",
       "  <tbody>\n",
       "    <tr>\n",
       "      <th>0</th>\n",
       "      <td>2561</td>\n",
       "      <td>M</td>\n",
       "      <td>4191</td>\n",
       "      <td>2019-03-27</td>\n",
       "      <td>7</td>\n",
       "      <td>20296</td>\n",
       "      <td>Cotton On</td>\n",
       "      <td>Fashion Wear &amp; Accessories</td>\n",
       "      <td>211</td>\n",
       "      <td>56</td>\n",
       "    </tr>\n",
       "    <tr>\n",
       "      <th>1</th>\n",
       "      <td>8186</td>\n",
       "      <td>F</td>\n",
       "      <td>8030</td>\n",
       "      <td>2019-01-20</td>\n",
       "      <td>7</td>\n",
       "      <td>22476</td>\n",
       "      <td>Xing Hua Lou</td>\n",
       "      <td>Food &amp; Restaurants</td>\n",
       "      <td>140</td>\n",
       "      <td>37</td>\n",
       "    </tr>\n",
       "    <tr>\n",
       "      <th>2</th>\n",
       "      <td>2193</td>\n",
       "      <td>F</td>\n",
       "      <td>4076</td>\n",
       "      <td>2019-06-06</td>\n",
       "      <td>7</td>\n",
       "      <td>21564</td>\n",
       "      <td>Shine</td>\n",
       "      <td>Leather Goods, Bags &amp; Shoes</td>\n",
       "      <td>186</td>\n",
       "      <td>32</td>\n",
       "    </tr>\n",
       "    <tr>\n",
       "      <th>3</th>\n",
       "      <td>2561</td>\n",
       "      <td>F</td>\n",
       "      <td>6054</td>\n",
       "      <td>2019-05-05</td>\n",
       "      <td>7</td>\n",
       "      <td>22442</td>\n",
       "      <td>Venus Beauty</td>\n",
       "      <td>Hair &amp; Beauty</td>\n",
       "      <td>155</td>\n",
       "      <td>46</td>\n",
       "    </tr>\n",
       "    <tr>\n",
       "      <th>4</th>\n",
       "      <td>6228</td>\n",
       "      <td>F</td>\n",
       "      <td>1480</td>\n",
       "      <td>2019-04-21</td>\n",
       "      <td>7</td>\n",
       "      <td>23095</td>\n",
       "      <td>Wadori Yakitori</td>\n",
       "      <td>Food &amp; Restaurants</td>\n",
       "      <td>32</td>\n",
       "      <td>38</td>\n",
       "    </tr>\n",
       "  </tbody>\n",
       "</table>\n",
       "</div>"
      ],
      "text/plain": [
       "   Contact Id Gender  Postal Code Purchase Time  Mall Id  Store Id  \\\n",
       "0        2561      M         4191    2019-03-27        7     20296   \n",
       "1        8186      F         8030    2019-01-20        7     22476   \n",
       "2        2193      F         4076    2019-06-06        7     21564   \n",
       "3        2561      F         6054    2019-05-05        7     22442   \n",
       "4        6228      F         1480    2019-04-21        7     23095   \n",
       "\n",
       "        Store Name                     Category  Amount  Age  \n",
       "0        Cotton On   Fashion Wear & Accessories     211   56  \n",
       "1     Xing Hua Lou           Food & Restaurants     140   37  \n",
       "2            Shine  Leather Goods, Bags & Shoes     186   32  \n",
       "3     Venus Beauty                Hair & Beauty     155   46  \n",
       "4  Wadori Yakitori           Food & Restaurants      32   38  "
      ]
     },
     "execution_count": 6,
     "metadata": {},
     "output_type": "execute_result"
    }
   ],
   "source": [
    "synthetic = pd.read_csv(\"../data/Updated_Synethetic_Data.csv\")\n",
    "synthetic.head()"
   ]
  },
  {
   "cell_type": "code",
   "execution_count": 13,
   "metadata": {},
   "outputs": [],
   "source": [
    "synthetic['Purchase Time'] = pd.to_datetime(synthetic['Purchase Time'], format='%Y-%m-%d')"
   ]
  },
  {
   "cell_type": "code",
   "execution_count": 15,
   "metadata": {
    "scrolled": true
   },
   "outputs": [
    {
     "name": "stdout",
     "output_type": "stream",
     "text": [
      "<class 'pandas.core.frame.DataFrame'>\n",
      "RangeIndex: 397638 entries, 0 to 397637\n",
      "Data columns (total 10 columns):\n",
      " #   Column         Non-Null Count   Dtype         \n",
      "---  ------         --------------   -----         \n",
      " 0   Contact Id     397638 non-null  int64         \n",
      " 1   Gender         397638 non-null  object        \n",
      " 2   Postal Code    397638 non-null  int64         \n",
      " 3   Purchase Time  397638 non-null  datetime64[ns]\n",
      " 4   Mall Id        397638 non-null  int64         \n",
      " 5   Store Id       397638 non-null  int64         \n",
      " 6   Store Name     397638 non-null  object        \n",
      " 7   Category       397638 non-null  object        \n",
      " 8   Amount         397638 non-null  int64         \n",
      " 9   Age            397638 non-null  int64         \n",
      "dtypes: datetime64[ns](1), int64(6), object(3)\n",
      "memory usage: 30.3+ MB\n"
     ]
    }
   ],
   "source": [
    "synthetic.info()"
   ]
  },
  {
   "cell_type": "code",
   "execution_count": 145,
   "metadata": {},
   "outputs": [
    {
     "data": {
      "text/plain": [
       "(397638, 11)"
      ]
     },
     "execution_count": 145,
     "metadata": {},
     "output_type": "execute_result"
    }
   ],
   "source": [
    "# no duplicates\n",
    "synthetic.drop_duplicates().shape"
   ]
  },
  {
   "cell_type": "code",
   "execution_count": 16,
   "metadata": {},
   "outputs": [
    {
     "data": {
      "text/plain": [
       "array(['M', 'F', '0'], dtype=object)"
      ]
     },
     "execution_count": 16,
     "metadata": {},
     "output_type": "execute_result"
    }
   ],
   "source": [
    "synthetic['Gender'].unique()"
   ]
  },
  {
   "cell_type": "code",
   "execution_count": 21,
   "metadata": {
    "scrolled": true
   },
   "outputs": [
    {
     "data": {
      "text/plain": [
       "Contact Id       8863\n",
       "Gender              3\n",
       "Postal Code      9000\n",
       "Purchase Time     177\n",
       "Mall Id             1\n",
       "Store Id          153\n",
       "Store Name        162\n",
       "Category           17\n",
       "Amount            290\n",
       "Age                41\n",
       "dtype: int64"
      ]
     },
     "execution_count": 21,
     "metadata": {},
     "output_type": "execute_result"
    }
   ],
   "source": [
    "synthetic.nunique()"
   ]
  },
  {
   "cell_type": "markdown",
   "metadata": {},
   "source": [
    "## Time Series Analysis"
   ]
  },
  {
   "cell_type": "code",
   "execution_count": 66,
   "metadata": {
    "scrolled": true
   },
   "outputs": [
    {
     "data": {
      "image/png": "[encoded data removed]",
      "text/plain": [
       "<Figure size 720x432 with 1 Axes>"
      ]
     },
     "metadata": {
      "needs_background": "light"
     },
     "output_type": "display_data"
    }
   ],
   "source": [
    "# frequency of purchases\n",
    "gb_time = pd.DataFrame(synthetic.groupby('Purchase Time').size()).rename(columns={0:'Purchases Made'})\n",
    "\n",
    "# purchase amounts\n",
    "amt = synthetic.groupby('Purchase Time')['Amount'].sum()/100\n",
    "gb_time['Amount'] = amt\n",
    "gb_time = gb_time.rename(columns={'Amount':'Amount (in hundreds)'})\n",
    "gb_time.reset_index(inplace=True)\n",
    "\n",
    "# line graphs of both frequency and purchase amounts \n",
    "gb_time.plot(x='Purchase Time', y=['Purchases Made', 'Amount (in hundreds)'], figsize=(10,6))\n",
    "plt.title(\"Plot of Frequency & Amount of Purchases during First Half of 2019\")\n",
    "plt.xlabel(\"Time Period\");"
   ]
  },
  {
   "cell_type": "markdown",
   "metadata": {},
   "source": [
    "### Some Observations\n",
    "- High purchase traffic particularly in the beginning of the year/ January\n",
    "- Peak sales at the start of February, which dips almost immediately after\n",
    "- Highest sales and traffic on 3rd Feb. In 2019, CNY falls on 5th and 6th Feb. 3rd Feb is the Sunday right before CNY\n",
    "- Lowest sales and traffic on 5th Feb. 1st day of CNY, stores closed, low store visits"
   ]
  },
  {
   "cell_type": "markdown",
   "metadata": {},
   "source": [
    "## Demographics "
   ]
  },
  {
   "cell_type": "code",
   "execution_count": 71,
   "metadata": {
    "scrolled": true
   },
   "outputs": [
    {
     "data": {
      "text/plain": [
       "count    397638.000000\n",
       "mean         44.977495\n",
       "std          11.827316\n",
       "min          25.000000\n",
       "25%          35.000000\n",
       "50%          45.000000\n",
       "75%          55.000000\n",
       "max          65.000000\n",
       "Name: Age, dtype: float64"
      ]
     },
     "execution_count": 71,
     "metadata": {},
     "output_type": "execute_result"
    }
   ],
   "source": [
    "synthetic.Age.describe()"
   ]
  },
  {
   "cell_type": "code",
   "execution_count": 74,
   "metadata": {
    "scrolled": true
   },
   "outputs": [
    {
     "data": {
      "text/html": [
       "<div>\n",
       "<style scoped>\n",
       "    .dataframe tbody tr th:only-of-type {\n",
       "        vertical-align: middle;\n",
       "    }\n",
       "\n",
       "    .dataframe tbody tr th {\n",
       "        vertical-align: top;\n",
       "    }\n",
       "\n",
       "    .dataframe thead th {\n",
       "        text-align: right;\n",
       "    }\n",
       "</style>\n",
       "<table border=\"1\" class=\"dataframe\">\n",
       "  <thead>\n",
       "    <tr style=\"text-align: right;\">\n",
       "      <th></th>\n",
       "      <th>Contact Id</th>\n",
       "      <th>Gender</th>\n",
       "      <th>Postal Code</th>\n",
       "      <th>Purchase Time</th>\n",
       "      <th>Mall Id</th>\n",
       "      <th>Store Id</th>\n",
       "      <th>Store Name</th>\n",
       "      <th>Category</th>\n",
       "      <th>Amount</th>\n",
       "      <th>Age</th>\n",
       "      <th>Age Group</th>\n",
       "    </tr>\n",
       "  </thead>\n",
       "  <tbody>\n",
       "    <tr>\n",
       "      <th>0</th>\n",
       "      <td>2561</td>\n",
       "      <td>M</td>\n",
       "      <td>4191</td>\n",
       "      <td>2019-03-27</td>\n",
       "      <td>7</td>\n",
       "      <td>20296</td>\n",
       "      <td>Cotton On</td>\n",
       "      <td>Fashion Wear &amp; Accessories</td>\n",
       "      <td>211</td>\n",
       "      <td>56</td>\n",
       "      <td>50s</td>\n",
       "    </tr>\n",
       "    <tr>\n",
       "      <th>1</th>\n",
       "      <td>8186</td>\n",
       "      <td>F</td>\n",
       "      <td>8030</td>\n",
       "      <td>2019-01-20</td>\n",
       "      <td>7</td>\n",
       "      <td>22476</td>\n",
       "      <td>Xing Hua Lou</td>\n",
       "      <td>Food &amp; Restaurants</td>\n",
       "      <td>140</td>\n",
       "      <td>37</td>\n",
       "      <td>30s</td>\n",
       "    </tr>\n",
       "    <tr>\n",
       "      <th>2</th>\n",
       "      <td>2193</td>\n",
       "      <td>F</td>\n",
       "      <td>4076</td>\n",
       "      <td>2019-06-06</td>\n",
       "      <td>7</td>\n",
       "      <td>21564</td>\n",
       "      <td>Shine</td>\n",
       "      <td>Leather Goods, Bags &amp; Shoes</td>\n",
       "      <td>186</td>\n",
       "      <td>32</td>\n",
       "      <td>30s</td>\n",
       "    </tr>\n",
       "    <tr>\n",
       "      <th>3</th>\n",
       "      <td>2561</td>\n",
       "      <td>F</td>\n",
       "      <td>6054</td>\n",
       "      <td>2019-05-05</td>\n",
       "      <td>7</td>\n",
       "      <td>22442</td>\n",
       "      <td>Venus Beauty</td>\n",
       "      <td>Hair &amp; Beauty</td>\n",
       "      <td>155</td>\n",
       "      <td>46</td>\n",
       "      <td>40s</td>\n",
       "    </tr>\n",
       "    <tr>\n",
       "      <th>4</th>\n",
       "      <td>6228</td>\n",
       "      <td>F</td>\n",
       "      <td>1480</td>\n",
       "      <td>2019-04-21</td>\n",
       "      <td>7</td>\n",
       "      <td>23095</td>\n",
       "      <td>Wadori Yakitori</td>\n",
       "      <td>Food &amp; Restaurants</td>\n",
       "      <td>32</td>\n",
       "      <td>38</td>\n",
       "      <td>30s</td>\n",
       "    </tr>\n",
       "  </tbody>\n",
       "</table>\n",
       "</div>"
      ],
      "text/plain": [
       "   Contact Id Gender  Postal Code Purchase Time  Mall Id  Store Id  \\\n",
       "0        2561      M         4191    2019-03-27        7     20296   \n",
       "1        8186      F         8030    2019-01-20        7     22476   \n",
       "2        2193      F         4076    2019-06-06        7     21564   \n",
       "3        2561      F         6054    2019-05-05        7     22442   \n",
       "4        6228      F         1480    2019-04-21        7     23095   \n",
       "\n",
       "        Store Name                     Category  Amount  Age Age Group  \n",
       "0        Cotton On   Fashion Wear & Accessories     211   56       50s  \n",
       "1     Xing Hua Lou           Food & Restaurants     140   37       30s  \n",
       "2            Shine  Leather Goods, Bags & Shoes     186   32       30s  \n",
       "3     Venus Beauty                Hair & Beauty     155   46       40s  \n",
       "4  Wadori Yakitori           Food & Restaurants      32   38       30s  "
      ]
     },
     "execution_count": 74,
     "metadata": {},
     "output_type": "execute_result"
    }
   ],
   "source": [
    "def age_group(age):\n",
    "    if (age >= 20) & (age < 30):\n",
    "        return '20s'\n",
    "    elif (age >= 30) & (age < 40):\n",
    "        return '30s'\n",
    "    elif (age >=40) & (age < 50):\n",
    "        return '40s'\n",
    "    elif (age >= 50) & (age < 60):\n",
    "        return '50s'\n",
    "    else:\n",
    "        return '60s'\n",
    "    \n",
    "synthetic['Age Group'] = synthetic['Age'].apply(age_group)\n",
    "synthetic.head()"
   ]
  },
  {
   "cell_type": "code",
   "execution_count": 88,
   "metadata": {},
   "outputs": [
    {
     "data": {
      "text/plain": [
       "Age Group  Gender\n",
       "20s        F         36165\n",
       "           M         12421\n",
       "30s        0             1\n",
       "           F         72383\n",
       "           M         24952\n",
       "40s        F         72229\n",
       "           M         24599\n",
       "50s        F         72096\n",
       "           M         24934\n",
       "60s        0             1\n",
       "           F         43148\n",
       "           M         14709\n",
       "dtype: int64"
      ]
     },
     "execution_count": 88,
     "metadata": {},
     "output_type": "execute_result"
    }
   ],
   "source": [
    "synthetic.groupby(['Age Group', 'Gender']).size()"
   ]
  },
  {
   "cell_type": "code",
   "execution_count": 93,
   "metadata": {},
   "outputs": [
    {
     "data": {
      "text/html": [
       "<div>\n",
       "<style scoped>\n",
       "    .dataframe tbody tr th:only-of-type {\n",
       "        vertical-align: middle;\n",
       "    }\n",
       "\n",
       "    .dataframe tbody tr th {\n",
       "        vertical-align: top;\n",
       "    }\n",
       "\n",
       "    .dataframe thead th {\n",
       "        text-align: right;\n",
       "    }\n",
       "</style>\n",
       "<table border=\"1\" class=\"dataframe\">\n",
       "  <thead>\n",
       "    <tr style=\"text-align: right;\">\n",
       "      <th>Gender</th>\n",
       "      <th>0</th>\n",
       "      <th>F</th>\n",
       "      <th>M</th>\n",
       "    </tr>\n",
       "    <tr>\n",
       "      <th>Age Group</th>\n",
       "      <th></th>\n",
       "      <th></th>\n",
       "      <th></th>\n",
       "    </tr>\n",
       "  </thead>\n",
       "  <tbody>\n",
       "    <tr>\n",
       "      <th>20s</th>\n",
       "      <td>NaN</td>\n",
       "      <td>55.96164</td>\n",
       "      <td>19.28453</td>\n",
       "    </tr>\n",
       "    <tr>\n",
       "      <th>30s</th>\n",
       "      <td>0.00291</td>\n",
       "      <td>111.79865</td>\n",
       "      <td>38.59679</td>\n",
       "    </tr>\n",
       "    <tr>\n",
       "      <th>40s</th>\n",
       "      <td>NaN</td>\n",
       "      <td>111.38268</td>\n",
       "      <td>38.06646</td>\n",
       "    </tr>\n",
       "    <tr>\n",
       "      <th>50s</th>\n",
       "      <td>NaN</td>\n",
       "      <td>111.82895</td>\n",
       "      <td>38.50767</td>\n",
       "    </tr>\n",
       "    <tr>\n",
       "      <th>60s</th>\n",
       "      <td>0.00029</td>\n",
       "      <td>66.49615</td>\n",
       "      <td>22.64647</td>\n",
       "    </tr>\n",
       "  </tbody>\n",
       "</table>\n",
       "</div>"
      ],
      "text/plain": [
       "Gender           0          F         M\n",
       "Age Group                              \n",
       "20s            NaN   55.96164  19.28453\n",
       "30s        0.00291  111.79865  38.59679\n",
       "40s            NaN  111.38268  38.06646\n",
       "50s            NaN  111.82895  38.50767\n",
       "60s        0.00029   66.49615  22.64647"
      ]
     },
     "execution_count": 93,
     "metadata": {},
     "output_type": "execute_result"
    }
   ],
   "source": [
    "temp = synthetic.groupby(['Age Group', 'Gender']).agg({\n",
    "    'Amount': 'sum'\n",
    "}).reset_index().rename(columns={'Amount':'Total Amount'})\n",
    "# didn't get much difference between groups or any significant trend with average amount per group\n",
    "\n",
    "temp['Total Amount'] = temp['Total Amount']/100000\n",
    "table = pd.pivot_table(temp, values='Total Amount', index='Age Group', columns='Gender')\n",
    "table"
   ]
  },
  {
   "cell_type": "code",
   "execution_count": 115,
   "metadata": {},
   "outputs": [
    {
     "data": {
      "text/html": [
       "<div>\n",
       "<style scoped>\n",
       "    .dataframe tbody tr th:only-of-type {\n",
       "        vertical-align: middle;\n",
       "    }\n",
       "\n",
       "    .dataframe tbody tr th {\n",
       "        vertical-align: top;\n",
       "    }\n",
       "\n",
       "    .dataframe thead th {\n",
       "        text-align: right;\n",
       "    }\n",
       "</style>\n",
       "<table border=\"1\" class=\"dataframe\">\n",
       "  <thead>\n",
       "    <tr style=\"text-align: right;\">\n",
       "      <th></th>\n",
       "      <th>Contact Id</th>\n",
       "      <th>Gender</th>\n",
       "      <th>Postal Code</th>\n",
       "      <th>Purchase Time</th>\n",
       "      <th>Mall Id</th>\n",
       "      <th>Store Id</th>\n",
       "      <th>Store Name</th>\n",
       "      <th>Category</th>\n",
       "      <th>Amount</th>\n",
       "      <th>Age</th>\n",
       "      <th>Age Group</th>\n",
       "    </tr>\n",
       "  </thead>\n",
       "  <tbody>\n",
       "    <tr>\n",
       "      <th>70816</th>\n",
       "      <td>3227</td>\n",
       "      <td>0</td>\n",
       "      <td>3700</td>\n",
       "      <td>2019-04-13</td>\n",
       "      <td>7</td>\n",
       "      <td>22878</td>\n",
       "      <td>G2000</td>\n",
       "      <td>Fashion Wear &amp; Accessories</td>\n",
       "      <td>291</td>\n",
       "      <td>34</td>\n",
       "      <td>30s</td>\n",
       "    </tr>\n",
       "    <tr>\n",
       "      <th>210664</th>\n",
       "      <td>3227</td>\n",
       "      <td>0</td>\n",
       "      <td>9754</td>\n",
       "      <td>2019-04-13</td>\n",
       "      <td>7</td>\n",
       "      <td>22859</td>\n",
       "      <td>Uniqlo</td>\n",
       "      <td>Fashion Wear &amp; Accessories</td>\n",
       "      <td>29</td>\n",
       "      <td>65</td>\n",
       "      <td>60s</td>\n",
       "    </tr>\n",
       "  </tbody>\n",
       "</table>\n",
       "</div>"
      ],
      "text/plain": [
       "        Contact Id Gender  Postal Code Purchase Time  Mall Id  Store Id  \\\n",
       "70816         3227      0         3700    2019-04-13        7     22878   \n",
       "210664        3227      0         9754    2019-04-13        7     22859   \n",
       "\n",
       "       Store Name                    Category  Amount  Age Age Group  \n",
       "70816       G2000  Fashion Wear & Accessories     291   34       30s  \n",
       "210664     Uniqlo  Fashion Wear & Accessories      29   65       60s  "
      ]
     },
     "execution_count": 115,
     "metadata": {},
     "output_type": "execute_result"
    }
   ],
   "source": [
    "synthetic[synthetic['Gender'] == '0']"
   ]
  },
  {
   "cell_type": "code",
   "execution_count": 116,
   "metadata": {
    "scrolled": true
   },
   "outputs": [
    {
     "data": {
      "image/png": "[encoded data removed]",
      "text/plain": [
       "<Figure size 720x432 with 1 Axes>"
      ]
     },
     "metadata": {
      "needs_background": "light"
     },
     "output_type": "display_data"
    }
   ],
   "source": [
    "table.plot(kind='bar', figsize=(10,6))\n",
    "plt.axhline(y=100, linewidth=2, linestyle='--', color='r', label='10 million')\n",
    "plt.legend(bbox_to_anchor=(1.05, 1.0), loc='upper left')\n",
    "plt.title(\"Total Amount Spent (per 100,000) in First Half of 2019\")\n",
    "plt.xlabel(\"Age Group\");"
   ]
  },
  {
   "cell_type": "markdown",
   "metadata": {},
   "source": [
    "### Some Observations\n",
    "- Amount spent by Gender '0' is very, very small compared to the rest because it's just 1 person in 30s, 1 in 60s\n",
    "- Drop the 2 rows of Gender '0' maybe?\n",
    "- Across all age groups, Females tend to spend much more than Males, more than twice\n",
    "- 3 groups which exceeded a spend of >10mil: Females in 30s, 40s, and 50s"
   ]
  },
  {
   "cell_type": "markdown",
   "metadata": {},
   "source": [
    "## Category/Type of Purchases"
   ]
  },
  {
   "cell_type": "code",
   "execution_count": 117,
   "metadata": {},
   "outputs": [
    {
     "data": {
      "text/html": [
       "<div>\n",
       "<style scoped>\n",
       "    .dataframe tbody tr th:only-of-type {\n",
       "        vertical-align: middle;\n",
       "    }\n",
       "\n",
       "    .dataframe tbody tr th {\n",
       "        vertical-align: top;\n",
       "    }\n",
       "\n",
       "    .dataframe thead th {\n",
       "        text-align: right;\n",
       "    }\n",
       "</style>\n",
       "<table border=\"1\" class=\"dataframe\">\n",
       "  <thead>\n",
       "    <tr style=\"text-align: right;\">\n",
       "      <th></th>\n",
       "      <th>Contact Id</th>\n",
       "      <th>Gender</th>\n",
       "      <th>Postal Code</th>\n",
       "      <th>Purchase Time</th>\n",
       "      <th>Mall Id</th>\n",
       "      <th>Store Id</th>\n",
       "      <th>Store Name</th>\n",
       "      <th>Category</th>\n",
       "      <th>Amount</th>\n",
       "      <th>Age</th>\n",
       "      <th>Age Group</th>\n",
       "    </tr>\n",
       "  </thead>\n",
       "  <tbody>\n",
       "    <tr>\n",
       "      <th>0</th>\n",
       "      <td>2561</td>\n",
       "      <td>M</td>\n",
       "      <td>4191</td>\n",
       "      <td>2019-03-27</td>\n",
       "      <td>7</td>\n",
       "      <td>20296</td>\n",
       "      <td>Cotton On</td>\n",
       "      <td>Fashion Wear &amp; Accessories</td>\n",
       "      <td>211</td>\n",
       "      <td>56</td>\n",
       "      <td>50s</td>\n",
       "    </tr>\n",
       "    <tr>\n",
       "      <th>1</th>\n",
       "      <td>8186</td>\n",
       "      <td>F</td>\n",
       "      <td>8030</td>\n",
       "      <td>2019-01-20</td>\n",
       "      <td>7</td>\n",
       "      <td>22476</td>\n",
       "      <td>Xing Hua Lou</td>\n",
       "      <td>Food &amp; Restaurants</td>\n",
       "      <td>140</td>\n",
       "      <td>37</td>\n",
       "      <td>30s</td>\n",
       "    </tr>\n",
       "    <tr>\n",
       "      <th>2</th>\n",
       "      <td>2193</td>\n",
       "      <td>F</td>\n",
       "      <td>4076</td>\n",
       "      <td>2019-06-06</td>\n",
       "      <td>7</td>\n",
       "      <td>21564</td>\n",
       "      <td>Shine</td>\n",
       "      <td>Leather Goods, Bags &amp; Shoes</td>\n",
       "      <td>186</td>\n",
       "      <td>32</td>\n",
       "      <td>30s</td>\n",
       "    </tr>\n",
       "    <tr>\n",
       "      <th>3</th>\n",
       "      <td>2561</td>\n",
       "      <td>F</td>\n",
       "      <td>6054</td>\n",
       "      <td>2019-05-05</td>\n",
       "      <td>7</td>\n",
       "      <td>22442</td>\n",
       "      <td>Venus Beauty</td>\n",
       "      <td>Hair &amp; Beauty</td>\n",
       "      <td>155</td>\n",
       "      <td>46</td>\n",
       "      <td>40s</td>\n",
       "    </tr>\n",
       "    <tr>\n",
       "      <th>4</th>\n",
       "      <td>6228</td>\n",
       "      <td>F</td>\n",
       "      <td>1480</td>\n",
       "      <td>2019-04-21</td>\n",
       "      <td>7</td>\n",
       "      <td>23095</td>\n",
       "      <td>Wadori Yakitori</td>\n",
       "      <td>Food &amp; Restaurants</td>\n",
       "      <td>32</td>\n",
       "      <td>38</td>\n",
       "      <td>30s</td>\n",
       "    </tr>\n",
       "  </tbody>\n",
       "</table>\n",
       "</div>"
      ],
      "text/plain": [
       "   Contact Id Gender  Postal Code Purchase Time  Mall Id  Store Id  \\\n",
       "0        2561      M         4191    2019-03-27        7     20296   \n",
       "1        8186      F         8030    2019-01-20        7     22476   \n",
       "2        2193      F         4076    2019-06-06        7     21564   \n",
       "3        2561      F         6054    2019-05-05        7     22442   \n",
       "4        6228      F         1480    2019-04-21        7     23095   \n",
       "\n",
       "        Store Name                     Category  Amount  Age Age Group  \n",
       "0        Cotton On   Fashion Wear & Accessories     211   56       50s  \n",
       "1     Xing Hua Lou           Food & Restaurants     140   37       30s  \n",
       "2            Shine  Leather Goods, Bags & Shoes     186   32       30s  \n",
       "3     Venus Beauty                Hair & Beauty     155   46       40s  \n",
       "4  Wadori Yakitori           Food & Restaurants      32   38       30s  "
      ]
     },
     "execution_count": 117,
     "metadata": {},
     "output_type": "execute_result"
    }
   ],
   "source": [
    "synthetic.head()"
   ]
  },
  {
   "cell_type": "markdown",
   "metadata": {},
   "source": [
    "Some Store Names have same Store Id\n",
    "- eg. 22875: Innisfree and Clinique (skincare/makeup stores), 22663: TianPo and Lee Hua Jewellery (jewelry stores)"
   ]
  },
  {
   "cell_type": "code",
   "execution_count": 160,
   "metadata": {},
   "outputs": [
    {
     "data": {
      "text/plain": [
       "{'Fashion Wear & Accessories': ['Cotton On',\n",
       "  'Hush Puppies Apparel',\n",
       "  'Uniqlo',\n",
       "  'VIVO',\n",
       "  'JW Fashion',\n",
       "  'Giordano',\n",
       "  'Bossini',\n",
       "  'G2000',\n",
       "  'Pierre Cardin',\n",
       "  \"Levi's\",\n",
       "  'Converse',\n",
       "  'Citrusox',\n",
       "  'Lush Addiction',\n",
       "  'Purpur',\n",
       "  'XCraft',\n",
       "  'Cotton On Body',\n",
       "  'Lovisa',\n",
       "  'Peniwern'],\n",
       " 'Food & Restaurants': ['Xing Hua Lou',\n",
       "  'Wadori Yakitori',\n",
       "  'Chateraise',\n",
       "  'Bengawan Solo',\n",
       "  'Lao Huo Tang Restaurants',\n",
       "  'Ichiban Boshi',\n",
       "  'Wok Hey',\n",
       "  \"Swensen's\",\n",
       "  'BreadTalk / Toastbox',\n",
       "  'Bali Thai',\n",
       "  'Hot Tomato',\n",
       "  'Siamese Cat',\n",
       "  'Daessiksin Korean BBQ Buffet',\n",
       "  'Crystal Jade Hong Kong Kitchen',\n",
       "  'Subway',\n",
       "  'Old Chang Kee',\n",
       "  'Texas Chicken',\n",
       "  'Four Leaves',\n",
       "  '9PM Kkochi',\n",
       "  'A-One Claypot House',\n",
       "  'Yoshinoya',\n",
       "  'So Pho',\n",
       "  'Tonkotsu Hototogisu',\n",
       "  'Pizza Hut',\n",
       "  'Ajisen Ramen',\n",
       "  'Crave',\n",
       "  'Bee Cheng Hiang',\n",
       "  'Kuriya Japanese Market - Ichiban Bento',\n",
       "  'AburiEN',\n",
       "  'Teppan-Yaki',\n",
       "  'PrimaDeli',\n",
       "  '4Fingers Crispy Chicken',\n",
       "  'Pastamania',\n",
       "  'Hokkaido Baked Cheese Tart',\n",
       "  'Emicakes',\n",
       "  'Swee Heng Classic 1989',\n",
       "  'The Coffee Bean & Tea Leaf',\n",
       "  'Hong Kong Sheng Kee Dessert & Hong Kong Sheng Kee Pau',\n",
       "  \"Dunkin' Donuts\",\n",
       "  'Gelare (Yishun 10)',\n",
       "  'KFC',\n",
       "  'Sunlife Durian Puffs  Pastries',\n",
       "  'Gong Cha',\n",
       "  'Tenderfresh Xpress',\n",
       "  'Boost Juice',\n",
       "  'Polar Puffs  Cakes',\n",
       "  'Toast Box',\n",
       "  'ARTEA',\n",
       "  'Ho Kee Pau',\n",
       "  'SF Fruits & Juices',\n",
       "  'Duck Master',\n",
       "  'Ya Kun Kaya Toast',\n",
       "  'The Manhattan Fish Market',\n",
       "  'Hockhua Herbal Tea',\n",
       "  'Yummi House',\n",
       "  'TaiCroissant',\n",
       "  'Famous Amos',\n",
       "  'EachaCup',\n",
       "  'Penang Culture',\n",
       "  'Delifrance',\n",
       "  \"Stuff'd\",\n",
       "  'Snackz It',\n",
       "  'Dough Culture',\n",
       "  'Turkish Kebab House',\n",
       "  'XING FU TANG'],\n",
       " 'Leather Goods, Bags & Shoes': ['Shine',\n",
       "  'Skechers',\n",
       "  'Bata',\n",
       "  'Solemate Orthotics',\n",
       "  'Rubi Shoes',\n",
       "  'Dr Kong',\n",
       "  'Crocs'],\n",
       " 'Hair & Beauty': ['Venus Beauty',\n",
       "  'Innisfree',\n",
       "  'Clinique',\n",
       "  'The Body Shop',\n",
       "  'Beauty Language',\n",
       "  'Sephora',\n",
       "  'Etude House',\n",
       "  'VS Salon',\n",
       "  'QB House',\n",
       "  'Pinc',\n",
       "  'Jean Yip Hairdressing',\n",
       "  'Sizzers Hairdressing',\n",
       "  'Jean Yip Beauty & Slimming',\n",
       "  'SkinLab The Medical Spa',\n",
       "  'Pro Trim V Hair Studio'],\n",
       " 'Pharmacy & Healthcare': ['GNC',\n",
       "  'Hockhua Tonic',\n",
       "  'Guardian Health & Beauty',\n",
       "  'Eu Yan Sang',\n",
       "  'OWELL',\n",
       "  'Ogawa',\n",
       "  'Gintell',\n",
       "  'ZTP GINSENG BIRDNEST'],\n",
       " 'Schools & Offices': ['Symphony Music School',\n",
       "  'Hua Language Centre',\n",
       "  'Aureus Academy'],\n",
       " 'Jewellery & Watches': ['City Chain',\n",
       "  'TianPo',\n",
       "  'Poh Heng Jewellery',\n",
       "  'Lee Hua Jewellery',\n",
       "  'SK Jewellery',\n",
       "  'Time Studio',\n",
       "  'Goldheart'],\n",
       " 'Books & Stationery': ['Popular Bookstore'],\n",
       " 'Furniture, Furnishings & Household': ['The Green Party',\n",
       "  'Valu$',\n",
       "  'IUIGA',\n",
       "  'Sea Horse',\n",
       "  'Savco',\n",
       "  'Window Image  Interior Furnishing',\n",
       "  '8Treasures'],\n",
       " \"Children's Wear, Toys & Maternity\": ['Fox Kids & Baby', 'Kiddy Palace'],\n",
       " 'Sports & Leisure': ['Royal Sporting House (RSH)', 'Adidas'],\n",
       " 'Electrical, Electronic, Camera & Telecommunication': ['Challenger',\n",
       "  'COURTS',\n",
       "  'Lifexp',\n",
       "  'Gain City',\n",
       "  'Singtel Shop',\n",
       "  'Gadget Mix',\n",
       "  'Singtel Exclusive Retailer GForce',\n",
       "  'Starhub Shop',\n",
       "  'GK Global',\n",
       "  'Samsung Experience Store',\n",
       "  'iStudio',\n",
       "  'Oppo'],\n",
       " 'Amusement/Entertainment': ['Timezone'],\n",
       " 'Services': ['Pets Station',\n",
       "  'Love Luxury By MoneyMax',\n",
       "  'Xpressflower.com',\n",
       "  'Photopress',\n",
       "  'Zap It',\n",
       "  'WTS Travel',\n",
       "  'Raffles Dental',\n",
       "  'ShoKii Junction'],\n",
       " 'Gifts': ['Banana Story', 'Precious Thots'],\n",
       " 'Optical': ['Glimpse', 'Spectacle Hut', 'Better Vision'],\n",
       " 'Supermarket': ['Cold Storage']}"
      ]
     },
     "execution_count": 160,
     "metadata": {},
     "output_type": "execute_result"
    }
   ],
   "source": [
    "store_cat = synthetic[['Store Name', 'Category']].drop_duplicates(keep='first')\n",
    "\n",
    "cat_dict = {}\n",
    "for i in range(len(store_cat)):\n",
    "    cat = store_cat.iloc[i]['Category']\n",
    "    if cat not in cat_dict.keys():\n",
    "        cat_dict[cat] = []\n",
    "    cat_dict[cat].append(store_cat.iloc[i]['Store Name'])\n",
    "cat_dict    "
   ]
  },
  {
   "cell_type": "code",
   "execution_count": 202,
   "metadata": {
    "scrolled": true
   },
   "outputs": [
    {
     "data": {
      "image/png": "[encoded data removed]",
      "text/plain": [
       "<Figure size 864x432 with 1 Axes>"
      ]
     },
     "metadata": {},
     "output_type": "display_data"
    }
   ],
   "source": [
    "sns.set(rc={'figure.figsize':(12,6)})\n",
    "ax = sns.countplot(x='Category', data=synthetic, order=synthetic['Category'].value_counts().index)\n",
    "ax.set_title('Number of Purchases for Categories')\n",
    "ax.set_xticklabels(ax.get_xticklabels(), rotation=50, ha='right');"
   ]
  },
  {
   "cell_type": "code",
   "execution_count": 200,
   "metadata": {
    "scrolled": true
   },
   "outputs": [
    {
     "data": {
      "image/png": "[encoded data removed]",
      "text/plain": [
       "<Figure size 864x432 with 1 Axes>"
      ]
     },
     "metadata": {},
     "output_type": "display_data"
    }
   ],
   "source": [
    "gb_cat = synthetic.groupby('Category')['Amount'].sum()/100000\n",
    "gb_cat = pd.DataFrame(gb_cat.reset_index()).rename(columns={'Amount':'Amount (per 100,000)'})\n",
    "gb_cat.sort_values(by='Amount (per 100,000)', ascending=False, inplace=True)\n",
    "\n",
    "sns.set(rc={'figure.figsize':(12,6)})\n",
    "ax2 = sns.barplot(x='Category', y='Amount (per 100,000)', data=gb_cat)\n",
    "ax2.set_title('Sum of Purchases for Categories')\n",
    "ax2.set_xticklabels(ax2.get_xticklabels(), rotation=50, ha='right');"
   ]
  },
  {
   "cell_type": "markdown",
   "metadata": {},
   "source": [
    "### Some Observations\n",
    "- Both quantity and sum of purchases across store categories share a similar trend \n",
    "- Best selling category & Highest Traffic: Food & Restaurants\n",
    "- Least selling category & Lowest Traffic: Gifts"
   ]
  },
  {
   "cell_type": "code",
   "execution_count": 222,
   "metadata": {},
   "outputs": [],
   "source": [
    "def top_stores(category, top_n):\n",
    "    \"\"\"find top_n best selling stores that fall under category input\"\"\"\n",
    "    transactions = synthetic[synthetic['Category'] == category]\n",
    "    sales = transactions.groupby('Store Name')['Amount'].sum().sort_values(ascending=False)[:top_n]\n",
    "    sales = sales.to_frame().reset_index()\n",
    "    print(\"Top {} Best Selling Stores:\".format(len(sales)))\n",
    "    return sales"
   ]
  },
  {
   "cell_type": "code",
   "execution_count": 223,
   "metadata": {},
   "outputs": [
    {
     "name": "stdout",
     "output_type": "stream",
     "text": [
      "Top 3 Best Selling Stores:\n"
     ]
    },
    {
     "data": {
      "text/html": [
       "<div>\n",
       "<style scoped>\n",
       "    .dataframe tbody tr th:only-of-type {\n",
       "        vertical-align: middle;\n",
       "    }\n",
       "\n",
       "    .dataframe tbody tr th {\n",
       "        vertical-align: top;\n",
       "    }\n",
       "\n",
       "    .dataframe thead th {\n",
       "        text-align: right;\n",
       "    }\n",
       "</style>\n",
       "<table border=\"1\" class=\"dataframe\">\n",
       "  <thead>\n",
       "    <tr style=\"text-align: right;\">\n",
       "      <th></th>\n",
       "      <th>Store Name</th>\n",
       "      <th>Amount</th>\n",
       "    </tr>\n",
       "  </thead>\n",
       "  <tbody>\n",
       "    <tr>\n",
       "      <th>0</th>\n",
       "      <td>Hot Tomato</td>\n",
       "      <td>1727295</td>\n",
       "    </tr>\n",
       "    <tr>\n",
       "      <th>1</th>\n",
       "      <td>Ichiban Boshi</td>\n",
       "      <td>1597861</td>\n",
       "    </tr>\n",
       "    <tr>\n",
       "      <th>2</th>\n",
       "      <td>Lao Huo Tang Restaurants</td>\n",
       "      <td>1250656</td>\n",
       "    </tr>\n",
       "  </tbody>\n",
       "</table>\n",
       "</div>"
      ],
      "text/plain": [
       "                 Store Name   Amount\n",
       "0                Hot Tomato  1727295\n",
       "1             Ichiban Boshi  1597861\n",
       "2  Lao Huo Tang Restaurants  1250656"
      ]
     },
     "execution_count": 223,
     "metadata": {},
     "output_type": "execute_result"
    }
   ],
   "source": [
    "top_stores('Food & Restaurants',3)"
   ]
  },
  {
   "cell_type": "code",
   "execution_count": 224,
   "metadata": {},
   "outputs": [
    {
     "name": "stdout",
     "output_type": "stream",
     "text": [
      "Top 5 Best Selling Stores:\n"
     ]
    },
    {
     "data": {
      "text/html": [
       "<div>\n",
       "<style scoped>\n",
       "    .dataframe tbody tr th:only-of-type {\n",
       "        vertical-align: middle;\n",
       "    }\n",
       "\n",
       "    .dataframe tbody tr th {\n",
       "        vertical-align: top;\n",
       "    }\n",
       "\n",
       "    .dataframe thead th {\n",
       "        text-align: right;\n",
       "    }\n",
       "</style>\n",
       "<table border=\"1\" class=\"dataframe\">\n",
       "  <thead>\n",
       "    <tr style=\"text-align: right;\">\n",
       "      <th></th>\n",
       "      <th>Store Name</th>\n",
       "      <th>Amount</th>\n",
       "    </tr>\n",
       "  </thead>\n",
       "  <tbody>\n",
       "    <tr>\n",
       "      <th>0</th>\n",
       "      <td>Uniqlo</td>\n",
       "      <td>4406834</td>\n",
       "    </tr>\n",
       "    <tr>\n",
       "      <th>1</th>\n",
       "      <td>Giordano</td>\n",
       "      <td>380453</td>\n",
       "    </tr>\n",
       "    <tr>\n",
       "      <th>2</th>\n",
       "      <td>JW Fashion</td>\n",
       "      <td>353098</td>\n",
       "    </tr>\n",
       "    <tr>\n",
       "      <th>3</th>\n",
       "      <td>G2000</td>\n",
       "      <td>241076</td>\n",
       "    </tr>\n",
       "    <tr>\n",
       "      <th>4</th>\n",
       "      <td>Hush Puppies Apparel</td>\n",
       "      <td>224958</td>\n",
       "    </tr>\n",
       "  </tbody>\n",
       "</table>\n",
       "</div>"
      ],
      "text/plain": [
       "             Store Name   Amount\n",
       "0                Uniqlo  4406834\n",
       "1              Giordano   380453\n",
       "2            JW Fashion   353098\n",
       "3                 G2000   241076\n",
       "4  Hush Puppies Apparel   224958"
      ]
     },
     "execution_count": 224,
     "metadata": {},
     "output_type": "execute_result"
    }
   ],
   "source": [
    "top_stores('Fashion Wear & Accessories',5)"
   ]
  },
  {
   "cell_type": "code",
   "execution_count": 225,
   "metadata": {
    "scrolled": true
   },
   "outputs": [
    {
     "name": "stdout",
     "output_type": "stream",
     "text": [
      "Top 2 Best Selling Stores:\n"
     ]
    },
    {
     "data": {
      "text/html": [
       "<div>\n",
       "<style scoped>\n",
       "    .dataframe tbody tr th:only-of-type {\n",
       "        vertical-align: middle;\n",
       "    }\n",
       "\n",
       "    .dataframe tbody tr th {\n",
       "        vertical-align: top;\n",
       "    }\n",
       "\n",
       "    .dataframe thead th {\n",
       "        text-align: right;\n",
       "    }\n",
       "</style>\n",
       "<table border=\"1\" class=\"dataframe\">\n",
       "  <thead>\n",
       "    <tr style=\"text-align: right;\">\n",
       "      <th></th>\n",
       "      <th>Store Name</th>\n",
       "      <th>Amount</th>\n",
       "    </tr>\n",
       "  </thead>\n",
       "  <tbody>\n",
       "    <tr>\n",
       "      <th>0</th>\n",
       "      <td>Precious Thots</td>\n",
       "      <td>85773</td>\n",
       "    </tr>\n",
       "    <tr>\n",
       "      <th>1</th>\n",
       "      <td>Banana Story</td>\n",
       "      <td>82441</td>\n",
       "    </tr>\n",
       "  </tbody>\n",
       "</table>\n",
       "</div>"
      ],
      "text/plain": [
       "       Store Name  Amount\n",
       "0  Precious Thots   85773\n",
       "1    Banana Story   82441"
      ]
     },
     "execution_count": 225,
     "metadata": {},
     "output_type": "execute_result"
    }
   ],
   "source": [
    "top_stores('Gifts',5)"
   ]
  },
  {
   "cell_type": "markdown",
   "metadata": {},
   "source": [
    "## Segmentation of Contact Ids: RFM Modelling"
   ]
  },
  {
   "cell_type": "code",
   "execution_count": 226,
   "metadata": {},
   "outputs": [
    {
     "data": {
      "text/html": [
       "<div>\n",
       "<style scoped>\n",
       "    .dataframe tbody tr th:only-of-type {\n",
       "        vertical-align: middle;\n",
       "    }\n",
       "\n",
       "    .dataframe tbody tr th {\n",
       "        vertical-align: top;\n",
       "    }\n",
       "\n",
       "    .dataframe thead th {\n",
       "        text-align: right;\n",
       "    }\n",
       "</style>\n",
       "<table border=\"1\" class=\"dataframe\">\n",
       "  <thead>\n",
       "    <tr style=\"text-align: right;\">\n",
       "      <th></th>\n",
       "      <th>Contact Id</th>\n",
       "      <th>Purchase Time</th>\n",
       "      <th>Amount</th>\n",
       "    </tr>\n",
       "  </thead>\n",
       "  <tbody>\n",
       "    <tr>\n",
       "      <th>0</th>\n",
       "      <td>2561</td>\n",
       "      <td>2019-03-27</td>\n",
       "      <td>211</td>\n",
       "    </tr>\n",
       "    <tr>\n",
       "      <th>1</th>\n",
       "      <td>8186</td>\n",
       "      <td>2019-01-20</td>\n",
       "      <td>140</td>\n",
       "    </tr>\n",
       "    <tr>\n",
       "      <th>2</th>\n",
       "      <td>2193</td>\n",
       "      <td>2019-06-06</td>\n",
       "      <td>186</td>\n",
       "    </tr>\n",
       "    <tr>\n",
       "      <th>3</th>\n",
       "      <td>2561</td>\n",
       "      <td>2019-05-05</td>\n",
       "      <td>155</td>\n",
       "    </tr>\n",
       "    <tr>\n",
       "      <th>4</th>\n",
       "      <td>6228</td>\n",
       "      <td>2019-04-21</td>\n",
       "      <td>32</td>\n",
       "    </tr>\n",
       "  </tbody>\n",
       "</table>\n",
       "</div>"
      ],
      "text/plain": [
       "   Contact Id Purchase Time  Amount\n",
       "0        2561    2019-03-27     211\n",
       "1        8186    2019-01-20     140\n",
       "2        2193    2019-06-06     186\n",
       "3        2561    2019-05-05     155\n",
       "4        6228    2019-04-21      32"
      ]
     },
     "execution_count": 226,
     "metadata": {},
     "output_type": "execute_result"
    }
   ],
   "source": [
    "customer_data = synthetic[[\"Contact Id\", \"Purchase Time\", \"Amount\"]]\n",
    "customer_data.head()"
   ]
  },
  {
   "cell_type": "code",
   "execution_count": 227,
   "metadata": {},
   "outputs": [
    {
     "name": "stdout",
     "output_type": "stream",
     "text": [
      "<class 'pandas.core.frame.DataFrame'>\n",
      "RangeIndex: 397638 entries, 0 to 397637\n",
      "Data columns (total 3 columns):\n",
      " #   Column         Non-Null Count   Dtype         \n",
      "---  ------         --------------   -----         \n",
      " 0   Contact Id     397638 non-null  int64         \n",
      " 1   Purchase Time  397638 non-null  datetime64[ns]\n",
      " 2   Amount         397638 non-null  int64         \n",
      "dtypes: datetime64[ns](1), int64(2)\n",
      "memory usage: 9.1 MB\n"
     ]
    }
   ],
   "source": [
    "customer_data.info()"
   ]
  },
  {
   "cell_type": "code",
   "execution_count": 231,
   "metadata": {},
   "outputs": [
    {
     "data": {
      "text/html": [
       "<div>\n",
       "<style scoped>\n",
       "    .dataframe tbody tr th:only-of-type {\n",
       "        vertical-align: middle;\n",
       "    }\n",
       "\n",
       "    .dataframe tbody tr th {\n",
       "        vertical-align: top;\n",
       "    }\n",
       "\n",
       "    .dataframe thead th {\n",
       "        text-align: right;\n",
       "    }\n",
       "</style>\n",
       "<table border=\"1\" class=\"dataframe\">\n",
       "  <thead>\n",
       "    <tr style=\"text-align: right;\">\n",
       "      <th></th>\n",
       "      <th>Contact Id</th>\n",
       "      <th>Recency</th>\n",
       "      <th>Frequency</th>\n",
       "      <th>Monetary</th>\n",
       "    </tr>\n",
       "  </thead>\n",
       "  <tbody>\n",
       "    <tr>\n",
       "      <th>0</th>\n",
       "      <td>0</td>\n",
       "      <td>0</td>\n",
       "      <td>56</td>\n",
       "      <td>8632</td>\n",
       "    </tr>\n",
       "    <tr>\n",
       "      <th>1</th>\n",
       "      <td>1</td>\n",
       "      <td>12</td>\n",
       "      <td>15</td>\n",
       "      <td>2475</td>\n",
       "    </tr>\n",
       "    <tr>\n",
       "      <th>2</th>\n",
       "      <td>2</td>\n",
       "      <td>2</td>\n",
       "      <td>34</td>\n",
       "      <td>5084</td>\n",
       "    </tr>\n",
       "    <tr>\n",
       "      <th>3</th>\n",
       "      <td>3</td>\n",
       "      <td>20</td>\n",
       "      <td>25</td>\n",
       "      <td>3822</td>\n",
       "    </tr>\n",
       "    <tr>\n",
       "      <th>4</th>\n",
       "      <td>4</td>\n",
       "      <td>0</td>\n",
       "      <td>86</td>\n",
       "      <td>13903</td>\n",
       "    </tr>\n",
       "  </tbody>\n",
       "</table>\n",
       "</div>"
      ],
      "text/plain": [
       "   Contact Id  Recency  Frequency  Monetary\n",
       "0           0        0         56      8632\n",
       "1           1       12         15      2475\n",
       "2           2        2         34      5084\n",
       "3           3       20         25      3822\n",
       "4           4        0         86     13903"
      ]
     },
     "execution_count": 231,
     "metadata": {},
     "output_type": "execute_result"
    }
   ],
   "source": [
    "refDate = customer_data['Purchase Time'].max() # baseline date for recency, purchases on this date is most recent\n",
    "\n",
    "# create RFM model dataframe\n",
    "rfmModel = customer_data.groupby('Contact Id').agg({\n",
    "    'Purchase Time': lambda x: (refDate-x.max()).days,    \n",
    "    'Contact Id': lambda x: len(x),\n",
    "    'Amount': lambda x : x.sum()\n",
    "})\n",
    "\n",
    "rfmModel.rename(columns={'Purchase Time':'Recency','Contact Id':'Frequency','Amount':'Monetary'},inplace=True)\n",
    "rfmModel = rfmModel.reset_index()\n",
    "rfmModel.head()"
   ]
  },
  {
   "cell_type": "code",
   "execution_count": 241,
   "metadata": {
    "scrolled": true
   },
   "outputs": [
    {
     "name": "stdout",
     "output_type": "stream",
     "text": [
      "{'Contact Id': {0.2: 1774.4, 0.4: 3547.8, 0.6: 5323.2, 0.8: 7102.6}, 'Recency': {0.2: 1.0, 0.4: 3.0, 0.6: 5.0, 0.8: 11.0}, 'Frequency': {0.2: 19.0, 0.4: 31.0, 0.6: 45.0, 0.8: 67.0}, 'Monetary': {0.2: 2868.4, 0.4: 4794.8, 0.6: 6973.0, 0.8: 10337.800000000001}}\n"
     ]
    }
   ],
   "source": [
    "quantiles = rfmModel.quantile(q=[0.2,0.4,0.6,0.8]) # dataframe of quantiles for each column\n",
    "quantiles = quantiles.to_dict() \n",
    "print(quantiles)"
   ]
  },
  {
   "cell_type": "code",
   "execution_count": 242,
   "metadata": {},
   "outputs": [
    {
     "name": "stdout",
     "output_type": "stream",
     "text": [
      "<class 'pandas.core.frame.DataFrame'>\n",
      "RangeIndex: 8863 entries, 0 to 8862\n",
      "Data columns (total 4 columns):\n",
      " #   Column      Non-Null Count  Dtype\n",
      "---  ------      --------------  -----\n",
      " 0   Contact Id  8863 non-null   int64\n",
      " 1   Recency     8863 non-null   int64\n",
      " 2   Frequency   8863 non-null   int64\n",
      " 3   Monetary    8863 non-null   int64\n",
      "dtypes: int64(4)\n",
      "memory usage: 277.1 KB\n"
     ]
    }
   ],
   "source": [
    "rfmModel.info()"
   ]
  },
  {
   "cell_type": "code",
   "execution_count": 243,
   "metadata": {},
   "outputs": [],
   "source": [
    "def rScores(x,p,d): # recency score - the more recent, the higher the score\n",
    "    \"\"\"\n",
    "    x (int): input value\n",
    "    p (str): column name\n",
    "    d (dict): quantiles dictionary \n",
    "    \"\"\"\n",
    "    if x <= d[p][0.2]:\n",
    "        return 5\n",
    "    elif x <= d[p][0.4]:\n",
    "        return 4\n",
    "    elif x <= d[p][0.6]:\n",
    "        return 3\n",
    "    elif x <= d[p][0.8]:\n",
    "        return 2\n",
    "    else:\n",
    "        return 1\n",
    "    \n",
    "def fmScores(x,p,d): # frequency/monetary score - the more frequent/higher spend, the higher the score     \n",
    "    if x <= d[p][0.2]:  \n",
    "        return 1\n",
    "    elif x <= d[p][0.4]:\n",
    "        return 2\n",
    "    elif x <= d[p][0.6]:\n",
    "        return 3\n",
    "    elif x <= d[p][0.8]:\n",
    "        return 4\n",
    "    else:\n",
    "        return 5"
   ]
  },
  {
   "cell_type": "code",
   "execution_count": 246,
   "metadata": {},
   "outputs": [
    {
     "data": {
      "text/html": [
       "<div>\n",
       "<style scoped>\n",
       "    .dataframe tbody tr th:only-of-type {\n",
       "        vertical-align: middle;\n",
       "    }\n",
       "\n",
       "    .dataframe tbody tr th {\n",
       "        vertical-align: top;\n",
       "    }\n",
       "\n",
       "    .dataframe thead th {\n",
       "        text-align: right;\n",
       "    }\n",
       "</style>\n",
       "<table border=\"1\" class=\"dataframe\">\n",
       "  <thead>\n",
       "    <tr style=\"text-align: right;\">\n",
       "      <th></th>\n",
       "      <th>Contact Id</th>\n",
       "      <th>Recency</th>\n",
       "      <th>Frequency</th>\n",
       "      <th>Monetary</th>\n",
       "      <th>R</th>\n",
       "      <th>F</th>\n",
       "      <th>M</th>\n",
       "      <th>RFM</th>\n",
       "    </tr>\n",
       "  </thead>\n",
       "  <tbody>\n",
       "    <tr>\n",
       "      <th>0</th>\n",
       "      <td>0</td>\n",
       "      <td>0</td>\n",
       "      <td>56</td>\n",
       "      <td>8632</td>\n",
       "      <td>5</td>\n",
       "      <td>4</td>\n",
       "      <td>4</td>\n",
       "      <td>544</td>\n",
       "    </tr>\n",
       "    <tr>\n",
       "      <th>1</th>\n",
       "      <td>1</td>\n",
       "      <td>12</td>\n",
       "      <td>15</td>\n",
       "      <td>2475</td>\n",
       "      <td>1</td>\n",
       "      <td>1</td>\n",
       "      <td>1</td>\n",
       "      <td>111</td>\n",
       "    </tr>\n",
       "    <tr>\n",
       "      <th>2</th>\n",
       "      <td>2</td>\n",
       "      <td>2</td>\n",
       "      <td>34</td>\n",
       "      <td>5084</td>\n",
       "      <td>4</td>\n",
       "      <td>3</td>\n",
       "      <td>3</td>\n",
       "      <td>433</td>\n",
       "    </tr>\n",
       "    <tr>\n",
       "      <th>3</th>\n",
       "      <td>3</td>\n",
       "      <td>20</td>\n",
       "      <td>25</td>\n",
       "      <td>3822</td>\n",
       "      <td>1</td>\n",
       "      <td>2</td>\n",
       "      <td>2</td>\n",
       "      <td>122</td>\n",
       "    </tr>\n",
       "    <tr>\n",
       "      <th>4</th>\n",
       "      <td>4</td>\n",
       "      <td>0</td>\n",
       "      <td>86</td>\n",
       "      <td>13903</td>\n",
       "      <td>5</td>\n",
       "      <td>5</td>\n",
       "      <td>5</td>\n",
       "      <td>555</td>\n",
       "    </tr>\n",
       "  </tbody>\n",
       "</table>\n",
       "</div>"
      ],
      "text/plain": [
       "   Contact Id  Recency  Frequency  Monetary  R  F  M  RFM\n",
       "0           0        0         56      8632  5  4  4  544\n",
       "1           1       12         15      2475  1  1  1  111\n",
       "2           2        2         34      5084  4  3  3  433\n",
       "3           3       20         25      3822  1  2  2  122\n",
       "4           4        0         86     13903  5  5  5  555"
      ]
     },
     "execution_count": 246,
     "metadata": {},
     "output_type": "execute_result"
    }
   ],
   "source": [
    "rfmModel['R'] = rfmModel['Recency'].apply(rScores, args=('Recency',quantiles))\n",
    "rfmModel['F'] = rfmModel['Frequency'].apply(fmScores, args=('Frequency',quantiles))\n",
    "rfmModel['M'] = rfmModel['Monetary'].apply(fmScores, args=('Monetary',quantiles))\n",
    "rfmModel['RFM'] = rfmModel.apply(lambda row: str(row.R) + str(row.F) + str(row.M), axis=1)\n",
    "rfmModel.head()"
   ]
  },
  {
   "cell_type": "code",
   "execution_count": null,
   "metadata": {},
   "outputs": [],
   "source": []
  },
  {
   "cell_type": "code",
   "execution_count": null,
   "metadata": {},
   "outputs": [],
   "source": []
  },
  {
   "cell_type": "code",
   "execution_count": null,
   "metadata": {},
   "outputs": [],
   "source": []
  },
  {
   "cell_type": "code",
   "execution_count": null,
   "metadata": {},
   "outputs": [],
   "source": []
  },
  {
   "cell_type": "code",
   "execution_count": null,
   "metadata": {},
   "outputs": [],
   "source": []
  },
  {
   "cell_type": "code",
   "execution_count": null,
   "metadata": {},
   "outputs": [],
   "source": []
  },
  {
   "cell_type": "code",
   "execution_count": null,
   "metadata": {},
   "outputs": [],
   "source": []
  }
 ],
 "metadata": {
  "kernelspec": {
   "display_name": "Python 3",
   "language": "python",
   "name": "python3"
  },
  "language_info": {
   "codemirror_mode": {
    "name": "ipython",
    "version": 3
   },
   "file_extension": ".py",
   "mimetype": "text/x-python",
   "name": "python",
   "nbconvert_exporter": "python",
   "pygments_lexer": "ipython3",
   "version": "3.8.5"
  }
 },
 "nbformat": 4,
 "nbformat_minor": 5
}
