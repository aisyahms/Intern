{
 "cells": [
  {
   "cell_type": "markdown",
   "metadata": {},
   "source": [
    "## NewProfile.csv <a id='top'></a>"
   ]
  },
  {
   "cell_type": "markdown",
   "metadata": {},
   "source": [
    "### Contents\n",
    "1. <a href=#eda>EDA</a>\n",
    "    1. <a href=#var>Analysis of Variables</a>\n",
    "1. <a href=#surp>Recommendation using Surprise package</a>"
   ]
  },
  {
   "cell_type": "code",
   "execution_count": 3,
   "metadata": {},
   "outputs": [],
   "source": [
    "# import libraries\n",
    "\n",
    "# Data manipulation\n",
    "import numpy as np\n",
    "import pandas as pd\n",
    "from datetime import datetime\n",
    "\n",
    "# Data visualisation\n",
    "import seaborn as sns\n",
    "from plotnine import *\n",
    "import matplotlib.pyplot as plt"
   ]
  },
  {
   "cell_type": "code",
   "execution_count": 4,
   "metadata": {
    "scrolled": false
   },
   "outputs": [
    {
     "data": {
      "text/html": [
       "<div>\n",
       "<style scoped>\n",
       "    .dataframe tbody tr th:only-of-type {\n",
       "        vertical-align: middle;\n",
       "    }\n",
       "\n",
       "    .dataframe tbody tr th {\n",
       "        vertical-align: top;\n",
       "    }\n",
       "\n",
       "    .dataframe thead th {\n",
       "        text-align: right;\n",
       "    }\n",
       "</style>\n",
       "<table border=\"1\" class=\"dataframe\">\n",
       "  <thead>\n",
       "    <tr style=\"text-align: right;\">\n",
       "      <th></th>\n",
       "      <th>Id</th>\n",
       "      <th>ProductId</th>\n",
       "      <th>UserId</th>\n",
       "      <th>ProfileName</th>\n",
       "      <th>HelpfulnessNumerator</th>\n",
       "      <th>HelpfulnessDenominator</th>\n",
       "      <th>Score</th>\n",
       "      <th>Time</th>\n",
       "      <th>Summary</th>\n",
       "      <th>Text</th>\n",
       "      <th>Age Group</th>\n",
       "      <th>Gender</th>\n",
       "    </tr>\n",
       "  </thead>\n",
       "  <tbody>\n",
       "    <tr>\n",
       "      <th>0</th>\n",
       "      <td>1</td>\n",
       "      <td>B001E4KFG0</td>\n",
       "      <td>A3SGXH7AUHU8GW</td>\n",
       "      <td>delmartian</td>\n",
       "      <td>1</td>\n",
       "      <td>1</td>\n",
       "      <td>5</td>\n",
       "      <td>1303862400</td>\n",
       "      <td>Good Quality Dog Food</td>\n",
       "      <td>I have bought several of the Vitality canned d...</td>\n",
       "      <td>50-59</td>\n",
       "      <td>male</td>\n",
       "    </tr>\n",
       "    <tr>\n",
       "      <th>1</th>\n",
       "      <td>2</td>\n",
       "      <td>B00813GRG4</td>\n",
       "      <td>A1D87F6ZCVE5NK</td>\n",
       "      <td>dll pa</td>\n",
       "      <td>0</td>\n",
       "      <td>0</td>\n",
       "      <td>1</td>\n",
       "      <td>1346976000</td>\n",
       "      <td>Not as Advertised</td>\n",
       "      <td>Product arrived labeled as Jumbo Salted Peanut...</td>\n",
       "      <td>&gt;60</td>\n",
       "      <td>male</td>\n",
       "    </tr>\n",
       "    <tr>\n",
       "      <th>2</th>\n",
       "      <td>3</td>\n",
       "      <td>B000LQOCH0</td>\n",
       "      <td>ABXLMWJIXXAIN</td>\n",
       "      <td>Natalia Corres \"Natalia Corres\"</td>\n",
       "      <td>1</td>\n",
       "      <td>1</td>\n",
       "      <td>4</td>\n",
       "      <td>1219017600</td>\n",
       "      <td>\"Delight\" says it all</td>\n",
       "      <td>This is a confection that has been around a fe...</td>\n",
       "      <td>40-49</td>\n",
       "      <td>female</td>\n",
       "    </tr>\n",
       "    <tr>\n",
       "      <th>3</th>\n",
       "      <td>4</td>\n",
       "      <td>B000UA0QIQ</td>\n",
       "      <td>A395BORC6FGVXV</td>\n",
       "      <td>Karl</td>\n",
       "      <td>3</td>\n",
       "      <td>3</td>\n",
       "      <td>2</td>\n",
       "      <td>1307923200</td>\n",
       "      <td>Cough Medicine</td>\n",
       "      <td>If you are looking for the secret ingredient i...</td>\n",
       "      <td>40-49</td>\n",
       "      <td>male</td>\n",
       "    </tr>\n",
       "    <tr>\n",
       "      <th>4</th>\n",
       "      <td>5</td>\n",
       "      <td>B006K2ZZ7K</td>\n",
       "      <td>A1UQRSCLF8GW1T</td>\n",
       "      <td>Michael D. Bigham \"M. Wassir\"</td>\n",
       "      <td>0</td>\n",
       "      <td>0</td>\n",
       "      <td>5</td>\n",
       "      <td>1350777600</td>\n",
       "      <td>Great taffy</td>\n",
       "      <td>Great taffy at a great price.  There was a wid...</td>\n",
       "      <td>&gt;60</td>\n",
       "      <td>female</td>\n",
       "    </tr>\n",
       "  </tbody>\n",
       "</table>\n",
       "</div>"
      ],
      "text/plain": [
       "   Id   ProductId          UserId                      ProfileName  \\\n",
       "0   1  B001E4KFG0  A3SGXH7AUHU8GW                       delmartian   \n",
       "1   2  B00813GRG4  A1D87F6ZCVE5NK                           dll pa   \n",
       "2   3  B000LQOCH0   ABXLMWJIXXAIN  Natalia Corres \"Natalia Corres\"   \n",
       "3   4  B000UA0QIQ  A395BORC6FGVXV                             Karl   \n",
       "4   5  B006K2ZZ7K  A1UQRSCLF8GW1T    Michael D. Bigham \"M. Wassir\"   \n",
       "\n",
       "   HelpfulnessNumerator  HelpfulnessDenominator  Score        Time  \\\n",
       "0                     1                       1      5  1303862400   \n",
       "1                     0                       0      1  1346976000   \n",
       "2                     1                       1      4  1219017600   \n",
       "3                     3                       3      2  1307923200   \n",
       "4                     0                       0      5  1350777600   \n",
       "\n",
       "                 Summary                                               Text  \\\n",
       "0  Good Quality Dog Food  I have bought several of the Vitality canned d...   \n",
       "1      Not as Advertised  Product arrived labeled as Jumbo Salted Peanut...   \n",
       "2  \"Delight\" says it all  This is a confection that has been around a fe...   \n",
       "3         Cough Medicine  If you are looking for the secret ingredient i...   \n",
       "4            Great taffy  Great taffy at a great price.  There was a wid...   \n",
       "\n",
       "  Age Group  Gender  \n",
       "0     50-59    male  \n",
       "1       >60    male  \n",
       "2     40-49  female  \n",
       "3     40-49    male  \n",
       "4       >60  female  "
      ]
     },
     "execution_count": 4,
     "metadata": {},
     "output_type": "execute_result"
    }
   ],
   "source": [
    "profiles = pd.read_csv(\"NewProfile.csv\")\n",
    "profiles.head()"
   ]
  },
  {
   "cell_type": "markdown",
   "metadata": {},
   "source": [
    "<a id='eda'></a>\n",
    "### Preprocessing: Removing Helpfulness Columns and Formatting Time\n",
    "\n",
    "The 'Time' column is in epoch time/ UNIX timeframe. We shall convert it to datetime type. \n",
    "\n",
    "<a href=#top>(back to top)</a>"
   ]
  },
  {
   "cell_type": "code",
   "execution_count": 5,
   "metadata": {
    "scrolled": true
   },
   "outputs": [
    {
     "data": {
      "text/html": [
       "<div>\n",
       "<style scoped>\n",
       "    .dataframe tbody tr th:only-of-type {\n",
       "        vertical-align: middle;\n",
       "    }\n",
       "\n",
       "    .dataframe tbody tr th {\n",
       "        vertical-align: top;\n",
       "    }\n",
       "\n",
       "    .dataframe thead th {\n",
       "        text-align: right;\n",
       "    }\n",
       "</style>\n",
       "<table border=\"1\" class=\"dataframe\">\n",
       "  <thead>\n",
       "    <tr style=\"text-align: right;\">\n",
       "      <th></th>\n",
       "      <th>Id</th>\n",
       "      <th>ProductId</th>\n",
       "      <th>UserId</th>\n",
       "      <th>ProfileName</th>\n",
       "      <th>Score</th>\n",
       "      <th>Time</th>\n",
       "      <th>Summary</th>\n",
       "      <th>Text</th>\n",
       "      <th>Age Group</th>\n",
       "      <th>Gender</th>\n",
       "    </tr>\n",
       "  </thead>\n",
       "  <tbody>\n",
       "    <tr>\n",
       "      <th>0</th>\n",
       "      <td>1</td>\n",
       "      <td>B001E4KFG0</td>\n",
       "      <td>A3SGXH7AUHU8GW</td>\n",
       "      <td>delmartian</td>\n",
       "      <td>5</td>\n",
       "      <td>2011-04-27 08:00:00</td>\n",
       "      <td>Good Quality Dog Food</td>\n",
       "      <td>I have bought several of the Vitality canned d...</td>\n",
       "      <td>50-59</td>\n",
       "      <td>male</td>\n",
       "    </tr>\n",
       "    <tr>\n",
       "      <th>1</th>\n",
       "      <td>2</td>\n",
       "      <td>B00813GRG4</td>\n",
       "      <td>A1D87F6ZCVE5NK</td>\n",
       "      <td>dll pa</td>\n",
       "      <td>1</td>\n",
       "      <td>2012-09-07 08:00:00</td>\n",
       "      <td>Not as Advertised</td>\n",
       "      <td>Product arrived labeled as Jumbo Salted Peanut...</td>\n",
       "      <td>&gt;60</td>\n",
       "      <td>male</td>\n",
       "    </tr>\n",
       "    <tr>\n",
       "      <th>2</th>\n",
       "      <td>3</td>\n",
       "      <td>B000LQOCH0</td>\n",
       "      <td>ABXLMWJIXXAIN</td>\n",
       "      <td>Natalia Corres \"Natalia Corres\"</td>\n",
       "      <td>4</td>\n",
       "      <td>2008-08-18 08:00:00</td>\n",
       "      <td>\"Delight\" says it all</td>\n",
       "      <td>This is a confection that has been around a fe...</td>\n",
       "      <td>40-49</td>\n",
       "      <td>female</td>\n",
       "    </tr>\n",
       "    <tr>\n",
       "      <th>3</th>\n",
       "      <td>4</td>\n",
       "      <td>B000UA0QIQ</td>\n",
       "      <td>A395BORC6FGVXV</td>\n",
       "      <td>Karl</td>\n",
       "      <td>2</td>\n",
       "      <td>2011-06-13 08:00:00</td>\n",
       "      <td>Cough Medicine</td>\n",
       "      <td>If you are looking for the secret ingredient i...</td>\n",
       "      <td>40-49</td>\n",
       "      <td>male</td>\n",
       "    </tr>\n",
       "    <tr>\n",
       "      <th>4</th>\n",
       "      <td>5</td>\n",
       "      <td>B006K2ZZ7K</td>\n",
       "      <td>A1UQRSCLF8GW1T</td>\n",
       "      <td>Michael D. Bigham \"M. Wassir\"</td>\n",
       "      <td>5</td>\n",
       "      <td>2012-10-21 08:00:00</td>\n",
       "      <td>Great taffy</td>\n",
       "      <td>Great taffy at a great price.  There was a wid...</td>\n",
       "      <td>&gt;60</td>\n",
       "      <td>female</td>\n",
       "    </tr>\n",
       "  </tbody>\n",
       "</table>\n",
       "</div>"
      ],
      "text/plain": [
       "   Id   ProductId          UserId                      ProfileName  Score  \\\n",
       "0   1  B001E4KFG0  A3SGXH7AUHU8GW                       delmartian      5   \n",
       "1   2  B00813GRG4  A1D87F6ZCVE5NK                           dll pa      1   \n",
       "2   3  B000LQOCH0   ABXLMWJIXXAIN  Natalia Corres \"Natalia Corres\"      4   \n",
       "3   4  B000UA0QIQ  A395BORC6FGVXV                             Karl      2   \n",
       "4   5  B006K2ZZ7K  A1UQRSCLF8GW1T    Michael D. Bigham \"M. Wassir\"      5   \n",
       "\n",
       "                  Time                Summary  \\\n",
       "0  2011-04-27 08:00:00  Good Quality Dog Food   \n",
       "1  2012-09-07 08:00:00      Not as Advertised   \n",
       "2  2008-08-18 08:00:00  \"Delight\" says it all   \n",
       "3  2011-06-13 08:00:00         Cough Medicine   \n",
       "4  2012-10-21 08:00:00            Great taffy   \n",
       "\n",
       "                                                Text Age Group  Gender  \n",
       "0  I have bought several of the Vitality canned d...     50-59    male  \n",
       "1  Product arrived labeled as Jumbo Salted Peanut...       >60    male  \n",
       "2  This is a confection that has been around a fe...     40-49  female  \n",
       "3  If you are looking for the secret ingredient i...     40-49    male  \n",
       "4  Great taffy at a great price.  There was a wid...       >60  female  "
      ]
     },
     "execution_count": 5,
     "metadata": {},
     "output_type": "execute_result"
    }
   ],
   "source": [
    "def con_epoch(row):\n",
    "    \"\"\"\n",
    "    function to convert epoch time to string in '%Y-%m-%d %H:%M:%S' format\n",
    "    \"\"\"\n",
    "    dt_format = datetime.fromtimestamp(row.Time)\n",
    "    return dt_format.strftime('%Y-%m-%d %H:%M:%S')\n",
    "\n",
    "profiles.drop(['HelpfulnessNumerator', 'HelpfulnessDenominator'], axis=1, inplace=True)\n",
    "profiles['Time'] = profiles.apply(con_epoch, axis=1)\n",
    "profiles.head()"
   ]
  },
  {
   "cell_type": "code",
   "execution_count": 6,
   "metadata": {},
   "outputs": [
    {
     "data": {
      "text/plain": [
       "array(['08:00:00'], dtype=object)"
      ]
     },
     "execution_count": 6,
     "metadata": {},
     "output_type": "execute_result"
    }
   ],
   "source": [
    "# time suspected to all be 08:00:00\n",
    "\n",
    "p = profiles.copy()\n",
    "p['Time'] = p.apply(lambda row: row.Time[-8:], axis=1)\n",
    "p['Time'].unique()"
   ]
  },
  {
   "cell_type": "code",
   "execution_count": 7,
   "metadata": {
    "scrolled": true
   },
   "outputs": [
    {
     "data": {
      "text/html": [
       "<div>\n",
       "<style scoped>\n",
       "    .dataframe tbody tr th:only-of-type {\n",
       "        vertical-align: middle;\n",
       "    }\n",
       "\n",
       "    .dataframe tbody tr th {\n",
       "        vertical-align: top;\n",
       "    }\n",
       "\n",
       "    .dataframe thead th {\n",
       "        text-align: right;\n",
       "    }\n",
       "</style>\n",
       "<table border=\"1\" class=\"dataframe\">\n",
       "  <thead>\n",
       "    <tr style=\"text-align: right;\">\n",
       "      <th></th>\n",
       "      <th>Id</th>\n",
       "      <th>ProductId</th>\n",
       "      <th>UserId</th>\n",
       "      <th>ProfileName</th>\n",
       "      <th>Score</th>\n",
       "      <th>Time</th>\n",
       "      <th>Summary</th>\n",
       "      <th>Text</th>\n",
       "      <th>Age Group</th>\n",
       "      <th>Gender</th>\n",
       "    </tr>\n",
       "  </thead>\n",
       "  <tbody>\n",
       "    <tr>\n",
       "      <th>14783</th>\n",
       "      <td>14784</td>\n",
       "      <td>B000S859NC</td>\n",
       "      <td>A2H7STZ2URUCOE</td>\n",
       "      <td>Christopher Whedon \"the odd bead\"</td>\n",
       "      <td>5</td>\n",
       "      <td>2012-10-26</td>\n",
       "      <td>GREAT TEA</td>\n",
       "      <td>Rooibos Natural Red tea is something of a pers...</td>\n",
       "      <td>20-29</td>\n",
       "      <td>male</td>\n",
       "    </tr>\n",
       "    <tr>\n",
       "      <th>440485</th>\n",
       "      <td>440486</td>\n",
       "      <td>B002ZOCEMG</td>\n",
       "      <td>A1LIP0F4R542OQ</td>\n",
       "      <td>A</td>\n",
       "      <td>1</td>\n",
       "      <td>2012-10-26</td>\n",
       "      <td>:(</td>\n",
       "      <td>I just got this coffee a few days ago. I had c...</td>\n",
       "      <td>40-49</td>\n",
       "      <td>male</td>\n",
       "    </tr>\n",
       "    <tr>\n",
       "      <th>535436</th>\n",
       "      <td>535437</td>\n",
       "      <td>B001EO5RSQ</td>\n",
       "      <td>A33W5JAFGHYRQZ</td>\n",
       "      <td>ghermine \"ghermine\"</td>\n",
       "      <td>5</td>\n",
       "      <td>2012-10-26</td>\n",
       "      <td>Love this Cereal!</td>\n",
       "      <td>There is nothing else like this on the market....</td>\n",
       "      <td>20-29</td>\n",
       "      <td>male</td>\n",
       "    </tr>\n",
       "    <tr>\n",
       "      <th>7820</th>\n",
       "      <td>7821</td>\n",
       "      <td>B000HB9TLI</td>\n",
       "      <td>A353IAF5Y1XE53</td>\n",
       "      <td>J. RIGOR \"shop mama\"</td>\n",
       "      <td>1</td>\n",
       "      <td>2012-10-26</td>\n",
       "      <td>Don't like the taste</td>\n",
       "      <td>I do not like sour taste and this has a sour k...</td>\n",
       "      <td>20-29</td>\n",
       "      <td>female</td>\n",
       "    </tr>\n",
       "    <tr>\n",
       "      <th>146094</th>\n",
       "      <td>146095</td>\n",
       "      <td>B000SDKDM4</td>\n",
       "      <td>A18NG9I9MT2V8I</td>\n",
       "      <td>Emm \"Emm\"</td>\n",
       "      <td>5</td>\n",
       "      <td>2012-10-26</td>\n",
       "      <td>Deeeee-lish!</td>\n",
       "      <td>For far too long I was a devotee of the Starbu...</td>\n",
       "      <td>&lt;20</td>\n",
       "      <td>male</td>\n",
       "    </tr>\n",
       "  </tbody>\n",
       "</table>\n",
       "</div>"
      ],
      "text/plain": [
       "            Id   ProductId          UserId                        ProfileName  \\\n",
       "14783    14784  B000S859NC  A2H7STZ2URUCOE  Christopher Whedon \"the odd bead\"   \n",
       "440485  440486  B002ZOCEMG  A1LIP0F4R542OQ                                  A   \n",
       "535436  535437  B001EO5RSQ  A33W5JAFGHYRQZ                ghermine \"ghermine\"   \n",
       "7820      7821  B000HB9TLI  A353IAF5Y1XE53               J. RIGOR \"shop mama\"   \n",
       "146094  146095  B000SDKDM4  A18NG9I9MT2V8I                          Emm \"Emm\"   \n",
       "\n",
       "        Score       Time               Summary  \\\n",
       "14783       5 2012-10-26             GREAT TEA   \n",
       "440485      1 2012-10-26                    :(   \n",
       "535436      5 2012-10-26     Love this Cereal!   \n",
       "7820        1 2012-10-26  Don't like the taste   \n",
       "146094      5 2012-10-26          Deeeee-lish!   \n",
       "\n",
       "                                                     Text Age Group  Gender  \n",
       "14783   Rooibos Natural Red tea is something of a pers...     20-29    male  \n",
       "440485  I just got this coffee a few days ago. I had c...     40-49    male  \n",
       "535436  There is nothing else like this on the market....     20-29    male  \n",
       "7820    I do not like sour taste and this has a sour k...     20-29  female  \n",
       "146094  For far too long I was a devotee of the Starbu...       <20    male  "
      ]
     },
     "execution_count": 7,
     "metadata": {},
     "output_type": "execute_result"
    }
   ],
   "source": [
    "# We shall remove the time component from the Time column \n",
    "# and convert all Time entries to datetime\n",
    "\n",
    "profiles['Time'] = profiles.apply(lambda row: datetime.strptime(row.Time[:-9], '%Y-%m-%d'), axis=1)\n",
    "profiles.sort_values(by='Time', ascending=False, inplace=True) # sort rows according to most recently\n",
    "profiles.head()"
   ]
  },
  {
   "cell_type": "code",
   "execution_count": 8,
   "metadata": {
    "scrolled": true
   },
   "outputs": [
    {
     "data": {
      "text/plain": [
       "(568454, 10)"
      ]
     },
     "execution_count": 8,
     "metadata": {},
     "output_type": "execute_result"
    }
   ],
   "source": [
    "profiles.shape"
   ]
  },
  {
   "cell_type": "markdown",
   "metadata": {},
   "source": [
    "### Preprocessing: Filtering duplicate entries \n",
    "\n",
    "Duplicates defined as having same row entries, excluding 'Id' and 'ProductId' "
   ]
  },
  {
   "cell_type": "code",
   "execution_count": 9,
   "metadata": {},
   "outputs": [
    {
     "data": {
      "text/plain": [
       "(395200, 10)"
      ]
     },
     "execution_count": 9,
     "metadata": {},
     "output_type": "execute_result"
    }
   ],
   "source": [
    "# filter out duplicates, keep the first (latest) occurrence of the duplicated row \n",
    "\n",
    "profiles = profiles.drop_duplicates(subset=profiles.columns[2:].to_list(), keep='first')\n",
    "profiles.shape\n",
    "\n",
    "# 69.5% data remaining"
   ]
  },
  {
   "cell_type": "code",
   "execution_count": 10,
   "metadata": {
    "scrolled": false
   },
   "outputs": [
    {
     "name": "stdout",
     "output_type": "stream",
     "text": [
      "<class 'pandas.core.frame.DataFrame'>\n",
      "Int64Index: 395200 entries, 14783 to 150523\n",
      "Data columns (total 10 columns):\n",
      " #   Column       Non-Null Count   Dtype         \n",
      "---  ------       --------------   -----         \n",
      " 0   Id           395200 non-null  int64         \n",
      " 1   ProductId    395200 non-null  object        \n",
      " 2   UserId       395200 non-null  object        \n",
      " 3   ProfileName  395189 non-null  object        \n",
      " 4   Score        395200 non-null  int64         \n",
      " 5   Time         395200 non-null  datetime64[ns]\n",
      " 6   Summary      395197 non-null  object        \n",
      " 7   Text         395200 non-null  object        \n",
      " 8   Age Group    395200 non-null  object        \n",
      " 9   Gender       395200 non-null  object        \n",
      "dtypes: datetime64[ns](1), int64(2), object(7)\n",
      "memory usage: 33.2+ MB\n"
     ]
    }
   ],
   "source": [
    "profiles.info()"
   ]
  },
  {
   "cell_type": "code",
   "execution_count": 11,
   "metadata": {
    "scrolled": true
   },
   "outputs": [
    {
     "data": {
      "text/plain": [
       "Id             False\n",
       "ProductId      False\n",
       "UserId         False\n",
       "ProfileName     True\n",
       "Score          False\n",
       "Time           False\n",
       "Summary         True\n",
       "Text           False\n",
       "Age Group      False\n",
       "Gender         False\n",
       "dtype: bool"
      ]
     },
     "execution_count": 11,
     "metadata": {},
     "output_type": "execute_result"
    }
   ],
   "source": [
    "profiles.isna().any() # ProfileName and Summary contain Null values"
   ]
  },
  {
   "cell_type": "code",
   "execution_count": 12,
   "metadata": {
    "scrolled": true
   },
   "outputs": [
    {
     "data": {
      "text/plain": [
       "395200"
      ]
     },
     "execution_count": 12,
     "metadata": {},
     "output_type": "execute_result"
    }
   ],
   "source": [
    "ncount = len(profiles)\n",
    "ncount"
   ]
  },
  {
   "cell_type": "markdown",
   "metadata": {},
   "source": [
    "<a id='var'></a>\n",
    "### Analysis of Target Variable: Ratings\n",
    "<a href=#top>(back to top)</a>"
   ]
  },
  {
   "cell_type": "markdown",
   "metadata": {},
   "source": [
    "### Time Series "
   ]
  },
  {
   "cell_type": "code",
   "execution_count": 13,
   "metadata": {
    "scrolled": true
   },
   "outputs": [
    {
     "data": {
      "text/plain": [
       "count                           395200\n",
       "mean     2011-01-31 01:57:17.052740096\n",
       "min                1999-10-08 00:00:00\n",
       "25%                2010-04-16 00:00:00\n",
       "50%                2011-07-26 00:00:00\n",
       "75%                2012-03-29 00:00:00\n",
       "max                2012-10-26 00:00:00\n",
       "Name: Time, dtype: object"
      ]
     },
     "execution_count": 13,
     "metadata": {},
     "output_type": "execute_result"
    }
   ],
   "source": [
    "profiles['Time'].describe(datetime_is_numeric=True)"
   ]
  },
  {
   "cell_type": "code",
   "execution_count": 14,
   "metadata": {},
   "outputs": [
    {
     "data": {
      "image/png": "[encoded data removed]",
      "text/plain": [
       "<Figure size 864x576 with 1 Axes>"
      ]
     },
     "metadata": {
      "needs_background": "light"
     },
     "output_type": "display_data"
    }
   ],
   "source": [
    "gb_time = profiles.groupby('Time').Id.count()\n",
    "\n",
    "plt.figure(figsize=(12,8))\n",
    "gb_time.plot(title='User reviews recorded over time')\n",
    "plt.show()"
   ]
  },
  {
   "cell_type": "markdown",
   "metadata": {},
   "source": [
    "To observe the trend in user reviews over the years (1999 to 2012), we shall plot a simple line graph as the time series plot. We observe an exponential increase in the number of reviews/ ratings recorded over time, which could be attributed to various factors."
   ]
  },
  {
   "cell_type": "code",
   "execution_count": 15,
   "metadata": {},
   "outputs": [
    {
     "data": {
      "text/plain": [
       "Time\n",
       "2012-10-16    836\n",
       "2011-11-28    781\n",
       "2012-08-06    729\n",
       "2011-11-25    715\n",
       "2012-09-06    713\n",
       "2012-07-09    690\n",
       "2011-12-07    687\n",
       "2012-10-22    663\n",
       "2012-08-16    651\n",
       "2012-10-18    651\n",
       "Name: Id, dtype: int64"
      ]
     },
     "execution_count": 15,
     "metadata": {},
     "output_type": "execute_result"
    }
   ],
   "source": [
    "# days receiving most reviews\n",
    "\n",
    "gb_time.sort_values(ascending=False).head(10)"
   ]
  },
  {
   "cell_type": "markdown",
   "metadata": {},
   "source": [
    "We observe that the most active dates/ dates with most number of reviews came from the latest years. "
   ]
  },
  {
   "cell_type": "markdown",
   "metadata": {},
   "source": [
    "### Distribution of Ratings"
   ]
  },
  {
   "cell_type": "code",
   "execution_count": 16,
   "metadata": {
    "scrolled": true
   },
   "outputs": [
    {
     "data": {
      "text/html": [
       "<div>\n",
       "<style scoped>\n",
       "    .dataframe tbody tr th:only-of-type {\n",
       "        vertical-align: middle;\n",
       "    }\n",
       "\n",
       "    .dataframe tbody tr th {\n",
       "        vertical-align: top;\n",
       "    }\n",
       "\n",
       "    .dataframe thead th {\n",
       "        text-align: right;\n",
       "    }\n",
       "</style>\n",
       "<table border=\"1\" class=\"dataframe\">\n",
       "  <thead>\n",
       "    <tr style=\"text-align: right;\">\n",
       "      <th></th>\n",
       "      <th>Score</th>\n",
       "    </tr>\n",
       "  </thead>\n",
       "  <tbody>\n",
       "    <tr>\n",
       "      <th>count</th>\n",
       "      <td>395200.000000</td>\n",
       "    </tr>\n",
       "    <tr>\n",
       "      <th>mean</th>\n",
       "      <td>4.178758</td>\n",
       "    </tr>\n",
       "    <tr>\n",
       "      <th>std</th>\n",
       "      <td>1.312734</td>\n",
       "    </tr>\n",
       "    <tr>\n",
       "      <th>min</th>\n",
       "      <td>1.000000</td>\n",
       "    </tr>\n",
       "    <tr>\n",
       "      <th>25%</th>\n",
       "      <td>4.000000</td>\n",
       "    </tr>\n",
       "    <tr>\n",
       "      <th>50%</th>\n",
       "      <td>5.000000</td>\n",
       "    </tr>\n",
       "    <tr>\n",
       "      <th>75%</th>\n",
       "      <td>5.000000</td>\n",
       "    </tr>\n",
       "    <tr>\n",
       "      <th>max</th>\n",
       "      <td>5.000000</td>\n",
       "    </tr>\n",
       "  </tbody>\n",
       "</table>\n",
       "</div>"
      ],
      "text/plain": [
       "               Score\n",
       "count  395200.000000\n",
       "mean        4.178758\n",
       "std         1.312734\n",
       "min         1.000000\n",
       "25%         4.000000\n",
       "50%         5.000000\n",
       "75%         5.000000\n",
       "max         5.000000"
      ]
     },
     "execution_count": 16,
     "metadata": {},
     "output_type": "execute_result"
    }
   ],
   "source": [
    "profiles.describe().drop('Id', axis=1)\n",
    "\n",
    "# majority of users gave a rating of 4 or 5"
   ]
  },
  {
   "cell_type": "code",
   "execution_count": 17,
   "metadata": {
    "scrolled": true
   },
   "outputs": [
    {
     "data": {
      "image/png": "[encoded data removed]",
      "text/plain": [
       "<Figure size 432x504 with 1 Axes>"
      ]
     },
     "metadata": {
      "needs_background": "light"
     },
     "output_type": "display_data"
    }
   ],
   "source": [
    "# plotting of bar graph for counts of all the ratings (1 to 5)\n",
    "\n",
    "score_count = pd.DataFrame(profiles.groupby('Score').size())\n",
    "score_count.sort_values(by=0, inplace=True)\n",
    "score_percent = score_count/ncount*100\n",
    "score_percent = score_percent[0].tolist()\n",
    "\n",
    "labels = score_count.index.tolist()\n",
    "plt.figure(figsize=(6, 7))\n",
    "ax = plt.gca()\n",
    "width = 0.35\n",
    "x = np.arange(5)\n",
    "rects = ax.bar(x, score_count[0], width) # counts (score_bar[0]) as height\n",
    "for i,rect in enumerate(rects):\n",
    "    h = rect.get_height() # counts\n",
    "    ax.annotate('{}%'.format(round(score_percent[i],1)), # annotate bars with percentage of reviews given such rating\n",
    "                    xy=(rect.get_x() + rect.get_width() / 2, h),\n",
    "                    xytext=(0, 3),  # 3 points vertical offset\n",
    "                    textcoords=\"offset points\",\n",
    "                    ha='center', va='bottom')\n",
    "    \n",
    "ax.set_xticks(x)\n",
    "ax.set_xticklabels(labels)\n",
    "plt.xlabel('Rating')\n",
    "plt.ylabel('Count')\n",
    "plt.show()"
   ]
  },
  {
   "cell_type": "markdown",
   "metadata": {},
   "source": [
    "Indeed, ratings of 4 and 5 made up about 77.9% of ratings given overall. We see that generally, positive ratings were given by users."
   ]
  },
  {
   "cell_type": "markdown",
   "metadata": {},
   "source": [
    "### Distribution of Products that get Rated"
   ]
  },
  {
   "cell_type": "code",
   "execution_count": 18,
   "metadata": {
    "scrolled": true
   },
   "outputs": [
    {
     "data": {
      "text/plain": [
       "count    71165.000000\n",
       "mean         5.553292\n",
       "std         15.467953\n",
       "min          1.000000\n",
       "25%          1.000000\n",
       "50%          2.000000\n",
       "75%          5.000000\n",
       "max        913.000000\n",
       "Name: ProductId, dtype: float64"
      ]
     },
     "execution_count": 18,
     "metadata": {},
     "output_type": "execute_result"
    }
   ],
   "source": [
    "pdtcounts = profiles['ProductId'].value_counts()\n",
    "pdtcounts.describe()"
   ]
  },
  {
   "cell_type": "markdown",
   "metadata": {},
   "source": [
    "Products get 5-6 ratings on average, with the most rated product having 913 ratings. We may want to filter out products with less than 5 or 6 ratings to avoid the sparse ratings problem."
   ]
  },
  {
   "cell_type": "code",
   "execution_count": 19,
   "metadata": {},
   "outputs": [],
   "source": [
    "min_pdt_ratings = 5\n",
    "filter_pdt = pdtcounts[pdtcounts > min_pdt_ratings]\n",
    "filter_pdt = filter_pdt.index.tolist()"
   ]
  },
  {
   "cell_type": "code",
   "execution_count": 20,
   "metadata": {},
   "outputs": [
    {
     "data": {
      "text/plain": [
       "21.63282512471018"
      ]
     },
     "execution_count": 20,
     "metadata": {},
     "output_type": "execute_result"
    }
   ],
   "source": [
    "len(filter_pdt)/len(pdtcounts)*100\n",
    "\n",
    "# 22% of products have >5 ratings"
   ]
  },
  {
   "cell_type": "markdown",
   "metadata": {},
   "source": [
    "### Distribution of number of ratings given by Users (by UserId, not ProfileName)"
   ]
  },
  {
   "cell_type": "code",
   "execution_count": 21,
   "metadata": {},
   "outputs": [
    {
     "data": {
      "text/plain": [
       "count    256059.000000\n",
       "mean          1.543394\n",
       "std           2.784385\n",
       "min           1.000000\n",
       "25%           1.000000\n",
       "50%           1.000000\n",
       "75%           1.000000\n",
       "max         329.000000\n",
       "Name: UserId, dtype: float64"
      ]
     },
     "execution_count": 21,
     "metadata": {},
     "output_type": "execute_result"
    }
   ],
   "source": [
    "usercounts = profiles['UserId'].value_counts()\n",
    "usercounts.describe()"
   ]
  },
  {
   "cell_type": "markdown",
   "metadata": {},
   "source": [
    "Each user rated about 1-2 on average, with the most active user giving 329 ratings in total. We may want to filter out users with less than 3 ratings to be able to predict their recommendations more accurately based off their preference."
   ]
  },
  {
   "cell_type": "code",
   "execution_count": 22,
   "metadata": {},
   "outputs": [],
   "source": [
    "min_user_ratings = 2\n",
    "filter_user = usercounts[usercounts > min_user_ratings]\n",
    "filter_user = filter_user.index.tolist()"
   ]
  },
  {
   "cell_type": "code",
   "execution_count": 23,
   "metadata": {
    "scrolled": true
   },
   "outputs": [
    {
     "data": {
      "text/plain": [
       "8.495698257042323"
      ]
     },
     "execution_count": 23,
     "metadata": {},
     "output_type": "execute_result"
    }
   ],
   "source": [
    "len(filter_user)/len(usercounts)*100\n",
    "\n",
    "# only ~8.5% of users have >2 rating"
   ]
  },
  {
   "cell_type": "markdown",
   "metadata": {},
   "source": [
    "### Filtering out rarely rated Products (<=5 ratings in total) & rarely rating Users (<3 ratings)"
   ]
  },
  {
   "cell_type": "code",
   "execution_count": 24,
   "metadata": {},
   "outputs": [
    {
     "data": {
      "text/plain": [
       "(395200, 10)"
      ]
     },
     "execution_count": 24,
     "metadata": {},
     "output_type": "execute_result"
    }
   ],
   "source": [
    "profiles.shape"
   ]
  },
  {
   "cell_type": "code",
   "execution_count": 25,
   "metadata": {},
   "outputs": [
    {
     "data": {
      "text/plain": [
       "(98183, 10)"
      ]
     },
     "execution_count": 25,
     "metadata": {},
     "output_type": "execute_result"
    }
   ],
   "source": [
    "new_profiles = profiles.loc[(profiles['ProductId'].isin(filter_pdt)) & (profiles['UserId'].isin(filter_user))]\n",
    "new_profiles.shape"
   ]
  },
  {
   "cell_type": "markdown",
   "metadata": {},
   "source": [
    "## Check: time runs from 1999-2012, to filter to specific time period? which and how long"
   ]
  },
  {
   "cell_type": "code",
   "execution_count": 26,
   "metadata": {
    "scrolled": false
   },
   "outputs": [
    {
     "name": "stderr",
     "output_type": "stream",
     "text": [
      "<ipython-input-26-8e779e6ca860>:1: FutureWarning: Treating datetime data as categorical rather than numeric in `.describe` is deprecated and will be removed in a future version of pandas. Specify `datetime_is_numeric=True` to silence this warning and adopt the future behavior now.\n"
     ]
    },
    {
     "data": {
      "text/plain": [
       "count                   98183\n",
       "unique                   2538\n",
       "top       2012-03-22 00:00:00\n",
       "freq                      241\n",
       "first     2000-08-09 00:00:00\n",
       "last      2012-10-26 00:00:00\n",
       "Name: Time, dtype: object"
      ]
     },
     "execution_count": 26,
     "metadata": {},
     "output_type": "execute_result"
    }
   ],
   "source": [
    "new_profiles.Time.describe()"
   ]
  },
  {
   "cell_type": "markdown",
   "metadata": {},
   "source": [
    "To recommend products to users more accurately, we shall based off our predictions on their behaviour over the 2 latest years."
   ]
  },
  {
   "cell_type": "code",
   "execution_count": 27,
   "metadata": {},
   "outputs": [
    {
     "data": {
      "text/plain": [
       "(64853, 10)"
      ]
     },
     "execution_count": 27,
     "metadata": {},
     "output_type": "execute_result"
    }
   ],
   "source": [
    "# filtering to 2 latest years\n",
    "\n",
    "new_profiles = new_profiles[(new_profiles.Time >= datetime.strptime('2010-10-26', '%Y-%m-%d')) & \n",
    "                            (new_profiles.Time <= max(new_profiles.Time))]\n",
    "new_profiles.shape"
   ]
  },
  {
   "cell_type": "markdown",
   "metadata": {},
   "source": [
    "### User Demographics"
   ]
  },
  {
   "cell_type": "code",
   "execution_count": 28,
   "metadata": {
    "scrolled": true
   },
   "outputs": [
    {
     "name": "stdout",
     "output_type": "stream",
     "text": [
      "Gender\n",
      "female    32868\n",
      "male      31985\n",
      "Name: Id, dtype: int64\n",
      "Age Group\n",
      "20-29    10399\n",
      "30-39    10834\n",
      "40-49    10924\n",
      "50-59    10909\n",
      "<20      10977\n",
      ">60      10810\n",
      "Name: Id, dtype: int64\n"
     ]
    }
   ],
   "source": [
    "# size of each Gender and Age Group\n",
    "\n",
    "print(new_profiles.groupby('Gender')['Id'].count())\n",
    "print(new_profiles.groupby('Age Group')['Id'].count())"
   ]
  },
  {
   "cell_type": "code",
   "execution_count": 29,
   "metadata": {
    "scrolled": true
   },
   "outputs": [
    {
     "data": {
      "image/png": "[encoded data removed]",
      "text/plain": [
       "<Figure size 640x480 with 1 Axes>"
      ]
     },
     "metadata": {
      "needs_background": "light"
     },
     "output_type": "display_data"
    },
    {
     "data": {
      "text/plain": [
       "<ggplot: (197478239561)>"
      ]
     },
     "execution_count": 29,
     "metadata": {},
     "output_type": "execute_result"
    }
   ],
   "source": [
    "temp = new_profiles.groupby(['Age Group', 'Gender']).agg({\n",
    "    'Id': 'count'\n",
    "}).reset_index()\n",
    "\n",
    "temp = temp.sort_values(by='Age Group')\n",
    "(\n",
    "ggplot(temp, aes(y='Gender', x='Age Group', fill='Id'))\n",
    "    + geom_tile()\n",
    "    + labs(x='Age Group', \n",
    "           y='Gender',title='Count of Ratings by users grouped by Age and Gender')\n",
    "    + theme_minimal()\n",
    "    + scale_x_discrete(name='Age Group', limits=['<20','20-29','30-39','40-49','50-59','>60'])\n",
    ")\n",
    "\n",
    "# most frequent users: Female 40-49\n",
    "# least frequent users: Female 20-29\n",
    "# certain groups tend to be bigger than others, but difference is not much, ~10% more"
   ]
  },
  {
   "cell_type": "markdown",
   "metadata": {},
   "source": [
    "## --Misc--"
   ]
  },
  {
   "cell_type": "code",
   "execution_count": 30,
   "metadata": {},
   "outputs": [
    {
     "data": {
      "text/plain": [
       "ProductId\n",
       "B006MONQMC    476\n",
       "B002IEZJMA    466\n",
       "B002IEVJRY    456\n",
       "B002LANN56    440\n",
       "B001VJ0B0I    438\n",
       "B0041NYV8E    437\n",
       "B0051COPH6    360\n",
       "B004ZIER34    303\n",
       "B004BKLHOS    285\n",
       "B004YV80OE    275\n",
       "Name: Id, dtype: int64"
      ]
     },
     "execution_count": 30,
     "metadata": {},
     "output_type": "execute_result"
    }
   ],
   "source": [
    "# products most reviewed/rated\n",
    "\n",
    "new_profiles.groupby('ProductId')['Id'].count().sort_values(ascending=False).head(10)"
   ]
  },
  {
   "cell_type": "code",
   "execution_count": 31,
   "metadata": {
    "scrolled": false
   },
   "outputs": [
    {
     "data": {
      "text/html": [
       "<div>\n",
       "<style scoped>\n",
       "    .dataframe tbody tr th:only-of-type {\n",
       "        vertical-align: middle;\n",
       "    }\n",
       "\n",
       "    .dataframe tbody tr th {\n",
       "        vertical-align: top;\n",
       "    }\n",
       "\n",
       "    .dataframe thead th {\n",
       "        text-align: right;\n",
       "    }\n",
       "</style>\n",
       "<table border=\"1\" class=\"dataframe\">\n",
       "  <thead>\n",
       "    <tr style=\"text-align: right;\">\n",
       "      <th></th>\n",
       "      <th>Id</th>\n",
       "      <th>ProductId</th>\n",
       "      <th>UserId</th>\n",
       "      <th>ProfileName</th>\n",
       "      <th>Score</th>\n",
       "      <th>Time</th>\n",
       "      <th>Summary</th>\n",
       "      <th>Text</th>\n",
       "      <th>Age Group</th>\n",
       "      <th>Gender</th>\n",
       "    </tr>\n",
       "  </thead>\n",
       "  <tbody>\n",
       "    <tr>\n",
       "      <th>531681</th>\n",
       "      <td>531682</td>\n",
       "      <td>B005K4Q34S</td>\n",
       "      <td>A12FGETYAHR723</td>\n",
       "      <td>Gloria Gallagher \"cooknknit\"</td>\n",
       "      <td>5</td>\n",
       "      <td>2012-10-22</td>\n",
       "      <td>Addicting its so good!!!</td>\n",
       "      <td>I love this coffee.  So far have only had the ...</td>\n",
       "      <td>30-39</td>\n",
       "      <td>male</td>\n",
       "    </tr>\n",
       "    <tr>\n",
       "      <th>531704</th>\n",
       "      <td>531705</td>\n",
       "      <td>B005K4Q34S</td>\n",
       "      <td>A22KYJ5282CP1Z</td>\n",
       "      <td>Bryan Booth \"Bryan Booth\"</td>\n",
       "      <td>2</td>\n",
       "      <td>2012-10-05</td>\n",
       "      <td>Strong Artificial Sweetener taste</td>\n",
       "      <td>I typically love vanilla cappuccino, and have ...</td>\n",
       "      <td>30-39</td>\n",
       "      <td>female</td>\n",
       "    </tr>\n",
       "    <tr>\n",
       "      <th>532069</th>\n",
       "      <td>532070</td>\n",
       "      <td>B005K4Q34S</td>\n",
       "      <td>A1IU4JZFDZA9HJ</td>\n",
       "      <td>P. Boynton \"Middle School teacher\"</td>\n",
       "      <td>5</td>\n",
       "      <td>2012-08-17</td>\n",
       "      <td>My new favorite for a cocoa-type drink</td>\n",
       "      <td>While Mocha Nut Fudge coffee is still my favor...</td>\n",
       "      <td>20-29</td>\n",
       "      <td>female</td>\n",
       "    </tr>\n",
       "    <tr>\n",
       "      <th>531982</th>\n",
       "      <td>531983</td>\n",
       "      <td>B005K4Q34S</td>\n",
       "      <td>A278X0N21YYWKE</td>\n",
       "      <td>Kathryn Dasher Childers</td>\n",
       "      <td>5</td>\n",
       "      <td>2012-07-20</td>\n",
       "      <td>Awesome Flavor!</td>\n",
       "      <td>Perfect drink for beginning morning or before ...</td>\n",
       "      <td>20-29</td>\n",
       "      <td>male</td>\n",
       "    </tr>\n",
       "    <tr>\n",
       "      <th>532125</th>\n",
       "      <td>532126</td>\n",
       "      <td>B005K4Q34S</td>\n",
       "      <td>AXA2AK79YLGEN</td>\n",
       "      <td>ladypen</td>\n",
       "      <td>1</td>\n",
       "      <td>2012-07-05</td>\n",
       "      <td>horrid ingredients.</td>\n",
       "      <td>Conveniently, ingredients not listed but for  ...</td>\n",
       "      <td>30-39</td>\n",
       "      <td>female</td>\n",
       "    </tr>\n",
       "  </tbody>\n",
       "</table>\n",
       "</div>"
      ],
      "text/plain": [
       "            Id   ProductId          UserId  \\\n",
       "531681  531682  B005K4Q34S  A12FGETYAHR723   \n",
       "531704  531705  B005K4Q34S  A22KYJ5282CP1Z   \n",
       "532069  532070  B005K4Q34S  A1IU4JZFDZA9HJ   \n",
       "531982  531983  B005K4Q34S  A278X0N21YYWKE   \n",
       "532125  532126  B005K4Q34S   AXA2AK79YLGEN   \n",
       "\n",
       "                               ProfileName  Score       Time  \\\n",
       "531681        Gloria Gallagher \"cooknknit\"      5 2012-10-22   \n",
       "531704           Bryan Booth \"Bryan Booth\"      2 2012-10-05   \n",
       "532069  P. Boynton \"Middle School teacher\"      5 2012-08-17   \n",
       "531982             Kathryn Dasher Childers      5 2012-07-20   \n",
       "532125                             ladypen      1 2012-07-05   \n",
       "\n",
       "                                       Summary  \\\n",
       "531681                Addicting its so good!!!   \n",
       "531704       Strong Artificial Sweetener taste   \n",
       "532069  My new favorite for a cocoa-type drink   \n",
       "531982                         Awesome Flavor!   \n",
       "532125                     horrid ingredients.   \n",
       "\n",
       "                                                     Text Age Group  Gender  \n",
       "531681  I love this coffee.  So far have only had the ...     30-39    male  \n",
       "531704  I typically love vanilla cappuccino, and have ...     30-39  female  \n",
       "532069  While Mocha Nut Fudge coffee is still my favor...     20-29  female  \n",
       "531982  Perfect drink for beginning morning or before ...     20-29    male  \n",
       "532125  Conveniently, ingredients not listed but for  ...     30-39  female  "
      ]
     },
     "execution_count": 31,
     "metadata": {},
     "output_type": "execute_result"
    }
   ],
   "source": [
    "new_profiles[new_profiles['ProductId'] == 'B005K4Q34S'].head(5)\n",
    "# top reviewed/rated product keywords: drink, cup, coffee"
   ]
  },
  {
   "cell_type": "code",
   "execution_count": 32,
   "metadata": {
    "scrolled": true
   },
   "outputs": [
    {
     "data": {
      "text/html": [
       "<div>\n",
       "<style scoped>\n",
       "    .dataframe tbody tr th:only-of-type {\n",
       "        vertical-align: middle;\n",
       "    }\n",
       "\n",
       "    .dataframe tbody tr th {\n",
       "        vertical-align: top;\n",
       "    }\n",
       "\n",
       "    .dataframe thead th {\n",
       "        text-align: right;\n",
       "    }\n",
       "</style>\n",
       "<table border=\"1\" class=\"dataframe\">\n",
       "  <thead>\n",
       "    <tr style=\"text-align: right;\">\n",
       "      <th></th>\n",
       "      <th>Id</th>\n",
       "      <th>ProductId</th>\n",
       "      <th>UserId</th>\n",
       "      <th>ProfileName</th>\n",
       "      <th>Score</th>\n",
       "      <th>Time</th>\n",
       "      <th>Summary</th>\n",
       "      <th>Text</th>\n",
       "      <th>Age Group</th>\n",
       "      <th>Gender</th>\n",
       "    </tr>\n",
       "  </thead>\n",
       "  <tbody>\n",
       "    <tr>\n",
       "      <th>538373</th>\n",
       "      <td>538374</td>\n",
       "      <td>B0061IUIDY</td>\n",
       "      <td>A1JAPP1CXRG57A</td>\n",
       "      <td>Linda Painchaud-Steinman \"PARK EDGE BOOKS\"</td>\n",
       "      <td>4</td>\n",
       "      <td>2012-08-02</td>\n",
       "      <td>Hearty Flavor</td>\n",
       "      <td>I drink coffee at breakfast, but regularly enj...</td>\n",
       "      <td>20-29</td>\n",
       "      <td>female</td>\n",
       "    </tr>\n",
       "    <tr>\n",
       "      <th>562971</th>\n",
       "      <td>562972</td>\n",
       "      <td>B007JFMH8M</td>\n",
       "      <td>A1JAPP1CXRG57A</td>\n",
       "      <td>Linda Painchaud-Steinman \"PARK EDGE BOOKS\"</td>\n",
       "      <td>5</td>\n",
       "      <td>2012-07-28</td>\n",
       "      <td>Great Anytime of Day!</td>\n",
       "      <td>Quaker Soft Baked Oatmeal Cookies with raisins...</td>\n",
       "      <td>20-29</td>\n",
       "      <td>female</td>\n",
       "    </tr>\n",
       "    <tr>\n",
       "      <th>288738</th>\n",
       "      <td>288739</td>\n",
       "      <td>B005A1KZC2</td>\n",
       "      <td>A1JAPP1CXRG57A</td>\n",
       "      <td>Linda Painchaud-Steinman \"PARK EDGE BOOKS\"</td>\n",
       "      <td>3</td>\n",
       "      <td>2012-05-29</td>\n",
       "      <td>Very Good, for anyone with Expensive Taste</td>\n",
       "      <td>Please pardon my lousy attempt at a pun in the...</td>\n",
       "      <td>20-29</td>\n",
       "      <td>female</td>\n",
       "    </tr>\n",
       "    <tr>\n",
       "      <th>71828</th>\n",
       "      <td>71829</td>\n",
       "      <td>B007RTR8AC</td>\n",
       "      <td>A1JAPP1CXRG57A</td>\n",
       "      <td>Linda Painchaud-Steinman \"PARK EDGE BOOKS\"</td>\n",
       "      <td>4</td>\n",
       "      <td>2012-05-29</td>\n",
       "      <td>Volumizes, but might fade color?</td>\n",
       "      <td>First, a note about packaging for this shampoo...</td>\n",
       "      <td>20-29</td>\n",
       "      <td>female</td>\n",
       "    </tr>\n",
       "    <tr>\n",
       "      <th>135412</th>\n",
       "      <td>135413</td>\n",
       "      <td>B005VOOM4A</td>\n",
       "      <td>A1JAPP1CXRG57A</td>\n",
       "      <td>Linda Painchaud-Steinman \"PARK EDGE BOOKS\"</td>\n",
       "      <td>5</td>\n",
       "      <td>2012-05-06</td>\n",
       "      <td>Rich, Robust Flavor, and other good stuff, too.</td>\n",
       "      <td>The following are quotes from the box of Marle...</td>\n",
       "      <td>20-29</td>\n",
       "      <td>female</td>\n",
       "    </tr>\n",
       "  </tbody>\n",
       "</table>\n",
       "</div>"
      ],
      "text/plain": [
       "            Id   ProductId          UserId  \\\n",
       "538373  538374  B0061IUIDY  A1JAPP1CXRG57A   \n",
       "562971  562972  B007JFMH8M  A1JAPP1CXRG57A   \n",
       "288738  288739  B005A1KZC2  A1JAPP1CXRG57A   \n",
       "71828    71829  B007RTR8AC  A1JAPP1CXRG57A   \n",
       "135412  135413  B005VOOM4A  A1JAPP1CXRG57A   \n",
       "\n",
       "                                       ProfileName  Score       Time  \\\n",
       "538373  Linda Painchaud-Steinman \"PARK EDGE BOOKS\"      4 2012-08-02   \n",
       "562971  Linda Painchaud-Steinman \"PARK EDGE BOOKS\"      5 2012-07-28   \n",
       "288738  Linda Painchaud-Steinman \"PARK EDGE BOOKS\"      3 2012-05-29   \n",
       "71828   Linda Painchaud-Steinman \"PARK EDGE BOOKS\"      4 2012-05-29   \n",
       "135412  Linda Painchaud-Steinman \"PARK EDGE BOOKS\"      5 2012-05-06   \n",
       "\n",
       "                                                Summary  \\\n",
       "538373                                    Hearty Flavor   \n",
       "562971                            Great Anytime of Day!   \n",
       "288738       Very Good, for anyone with Expensive Taste   \n",
       "71828                  Volumizes, but might fade color?   \n",
       "135412  Rich, Robust Flavor, and other good stuff, too.   \n",
       "\n",
       "                                                     Text Age Group  Gender  \n",
       "538373  I drink coffee at breakfast, but regularly enj...     20-29  female  \n",
       "562971  Quaker Soft Baked Oatmeal Cookies with raisins...     20-29  female  \n",
       "288738  Please pardon my lousy attempt at a pun in the...     20-29  female  \n",
       "71828   First, a note about packaging for this shampoo...     20-29  female  \n",
       "135412  The following are quotes from the box of Marle...     20-29  female  "
      ]
     },
     "execution_count": 32,
     "metadata": {},
     "output_type": "execute_result"
    }
   ],
   "source": [
    "# Is UserId attached to ProfileName?\n",
    "\n",
    "profiles[profiles['ProfileName'] == 'Linda Painchaud-Steinman \"PARK EDGE BOOKS\"'].head(5) \n",
    "# yes"
   ]
  },
  {
   "cell_type": "code",
   "execution_count": 33,
   "metadata": {
    "scrolled": true
   },
   "outputs": [
    {
     "data": {
      "text/html": [
       "<div>\n",
       "<style scoped>\n",
       "    .dataframe tbody tr th:only-of-type {\n",
       "        vertical-align: middle;\n",
       "    }\n",
       "\n",
       "    .dataframe tbody tr th {\n",
       "        vertical-align: top;\n",
       "    }\n",
       "\n",
       "    .dataframe thead th {\n",
       "        text-align: right;\n",
       "    }\n",
       "</style>\n",
       "<table border=\"1\" class=\"dataframe\">\n",
       "  <thead>\n",
       "    <tr style=\"text-align: right;\">\n",
       "      <th></th>\n",
       "      <th>Id</th>\n",
       "      <th>ProductId</th>\n",
       "      <th>UserId</th>\n",
       "      <th>ProfileName</th>\n",
       "      <th>Score</th>\n",
       "      <th>Time</th>\n",
       "      <th>Summary</th>\n",
       "      <th>Text</th>\n",
       "      <th>Age Group</th>\n",
       "      <th>Gender</th>\n",
       "    </tr>\n",
       "  </thead>\n",
       "  <tbody>\n",
       "    <tr>\n",
       "      <th>244813</th>\n",
       "      <td>244814</td>\n",
       "      <td>B001FA1E4U</td>\n",
       "      <td>A2K70G893JBLH8</td>\n",
       "      <td>Karl</td>\n",
       "      <td>5</td>\n",
       "      <td>2012-04-28</td>\n",
       "      <td>ADDICTIVE</td>\n",
       "      <td>These are MY ABSOLUTE FAVORITE THINGS.&lt;br /&gt;Be...</td>\n",
       "      <td>30-39</td>\n",
       "      <td>male</td>\n",
       "    </tr>\n",
       "    <tr>\n",
       "      <th>315273</th>\n",
       "      <td>315274</td>\n",
       "      <td>B004S07G1O</td>\n",
       "      <td>A11IJ39FJ33AGR</td>\n",
       "      <td>Karl</td>\n",
       "      <td>2</td>\n",
       "      <td>2012-03-09</td>\n",
       "      <td>Where's the chicken ?</td>\n",
       "      <td>I bought this stew a few days ago because I re...</td>\n",
       "      <td>20-29</td>\n",
       "      <td>male</td>\n",
       "    </tr>\n",
       "    <tr>\n",
       "      <th>258737</th>\n",
       "      <td>258738</td>\n",
       "      <td>B0049FLNCQ</td>\n",
       "      <td>A2KDG54BLNOE2</td>\n",
       "      <td>Karl</td>\n",
       "      <td>4</td>\n",
       "      <td>2012-03-06</td>\n",
       "      <td>Great Taste &amp; Perfect for a meal replacement</td>\n",
       "      <td>Been using this product for the last 6 weeks, ...</td>\n",
       "      <td>40-49</td>\n",
       "      <td>male</td>\n",
       "    </tr>\n",
       "    <tr>\n",
       "      <th>256432</th>\n",
       "      <td>256433</td>\n",
       "      <td>B001EO5PNI</td>\n",
       "      <td>A2CU76B9ZDVLL3</td>\n",
       "      <td>Karl</td>\n",
       "      <td>1</td>\n",
       "      <td>2011-12-30</td>\n",
       "      <td>The worst excuse for \"glazed\" almonds!</td>\n",
       "      <td>I bought these because they are named \"Cinnamo...</td>\n",
       "      <td>50-59</td>\n",
       "      <td>male</td>\n",
       "    </tr>\n",
       "    <tr>\n",
       "      <th>34393</th>\n",
       "      <td>34394</td>\n",
       "      <td>B004XX1NKQ</td>\n",
       "      <td>A3ERW4BD2SMOTF</td>\n",
       "      <td>Karl</td>\n",
       "      <td>5</td>\n",
       "      <td>2011-12-12</td>\n",
       "      <td>Such a difference</td>\n",
       "      <td>i've spent many years eating asian food and us...</td>\n",
       "      <td>&lt;20</td>\n",
       "      <td>female</td>\n",
       "    </tr>\n",
       "  </tbody>\n",
       "</table>\n",
       "</div>"
      ],
      "text/plain": [
       "            Id   ProductId          UserId ProfileName  Score       Time  \\\n",
       "244813  244814  B001FA1E4U  A2K70G893JBLH8        Karl      5 2012-04-28   \n",
       "315273  315274  B004S07G1O  A11IJ39FJ33AGR        Karl      2 2012-03-09   \n",
       "258737  258738  B0049FLNCQ   A2KDG54BLNOE2        Karl      4 2012-03-06   \n",
       "256432  256433  B001EO5PNI  A2CU76B9ZDVLL3        Karl      1 2011-12-30   \n",
       "34393    34394  B004XX1NKQ  A3ERW4BD2SMOTF        Karl      5 2011-12-12   \n",
       "\n",
       "                                             Summary  \\\n",
       "244813                                     ADDICTIVE   \n",
       "315273                         Where's the chicken ?   \n",
       "258737  Great Taste & Perfect for a meal replacement   \n",
       "256432        The worst excuse for \"glazed\" almonds!   \n",
       "34393                              Such a difference   \n",
       "\n",
       "                                                     Text Age Group  Gender  \n",
       "244813  These are MY ABSOLUTE FAVORITE THINGS.<br />Be...     30-39    male  \n",
       "315273  I bought this stew a few days ago because I re...     20-29    male  \n",
       "258737  Been using this product for the last 6 weeks, ...     40-49    male  \n",
       "256432  I bought these because they are named \"Cinnamo...     50-59    male  \n",
       "34393   i've spent many years eating asian food and us...       <20  female  "
      ]
     },
     "execution_count": 33,
     "metadata": {},
     "output_type": "execute_result"
    }
   ],
   "source": [
    "profiles[profiles['ProfileName'] == 'Karl'].head(5) \n",
    "\n",
    "# some UserId not associated with ProfileName \n",
    "# *check: shouldn't have duplicates here"
   ]
  },
  {
   "cell_type": "code",
   "execution_count": 34,
   "metadata": {},
   "outputs": [
    {
     "data": {
      "text/html": [
       "<div>\n",
       "<style scoped>\n",
       "    .dataframe tbody tr th:only-of-type {\n",
       "        vertical-align: middle;\n",
       "    }\n",
       "\n",
       "    .dataframe tbody tr th {\n",
       "        vertical-align: top;\n",
       "    }\n",
       "\n",
       "    .dataframe thead th {\n",
       "        text-align: right;\n",
       "    }\n",
       "</style>\n",
       "<table border=\"1\" class=\"dataframe\">\n",
       "  <thead>\n",
       "    <tr style=\"text-align: right;\">\n",
       "      <th></th>\n",
       "      <th>Id</th>\n",
       "      <th>ProductId</th>\n",
       "      <th>UserId</th>\n",
       "      <th>ProfileName</th>\n",
       "      <th>Score</th>\n",
       "      <th>Time</th>\n",
       "      <th>Summary</th>\n",
       "      <th>Text</th>\n",
       "      <th>Age Group</th>\n",
       "      <th>Gender</th>\n",
       "    </tr>\n",
       "  </thead>\n",
       "  <tbody>\n",
       "    <tr>\n",
       "      <th>42806</th>\n",
       "      <td>42807</td>\n",
       "      <td>B002NHYQAS</td>\n",
       "      <td>AO2EURP2Y4JZM</td>\n",
       "      <td>Karl</td>\n",
       "      <td>4</td>\n",
       "      <td>2011-02-23</td>\n",
       "      <td>Medium-dark, not bitter, somewhat creamy</td>\n",
       "      <td>I happily accepted a review bar as I am a fan ...</td>\n",
       "      <td>40-49</td>\n",
       "      <td>male</td>\n",
       "    </tr>\n",
       "    <tr>\n",
       "      <th>133281</th>\n",
       "      <td>133282</td>\n",
       "      <td>B0090X8IPM</td>\n",
       "      <td>AO2EURP2Y4JZM</td>\n",
       "      <td>Karl</td>\n",
       "      <td>3</td>\n",
       "      <td>2010-11-23</td>\n",
       "      <td>Most people will like this; aficionados not so...</td>\n",
       "      <td>This Starbucks coffee is a (very consistent) m...</td>\n",
       "      <td>40-49</td>\n",
       "      <td>male</td>\n",
       "    </tr>\n",
       "  </tbody>\n",
       "</table>\n",
       "</div>"
      ],
      "text/plain": [
       "            Id   ProductId         UserId ProfileName  Score       Time  \\\n",
       "42806    42807  B002NHYQAS  AO2EURP2Y4JZM        Karl      4 2011-02-23   \n",
       "133281  133282  B0090X8IPM  AO2EURP2Y4JZM        Karl      3 2010-11-23   \n",
       "\n",
       "                                                  Summary  \\\n",
       "42806            Medium-dark, not bitter, somewhat creamy   \n",
       "133281  Most people will like this; aficionados not so...   \n",
       "\n",
       "                                                     Text Age Group Gender  \n",
       "42806   I happily accepted a review bar as I am a fan ...     40-49   male  \n",
       "133281  This Starbucks coffee is a (very consistent) m...     40-49   male  "
      ]
     },
     "execution_count": 34,
     "metadata": {},
     "output_type": "execute_result"
    }
   ],
   "source": [
    "new_profiles[new_profiles['ProfileName'] == 'Karl'].head(5) "
   ]
  },
  {
   "cell_type": "markdown",
   "metadata": {},
   "source": [
    "## --End of Misc--"
   ]
  },
  {
   "cell_type": "code",
   "execution_count": null,
   "metadata": {},
   "outputs": [],
   "source": []
  },
  {
   "cell_type": "code",
   "execution_count": null,
   "metadata": {},
   "outputs": [],
   "source": []
  },
  {
   "cell_type": "code",
   "execution_count": null,
   "metadata": {},
   "outputs": [],
   "source": []
  },
  {
   "cell_type": "markdown",
   "metadata": {},
   "source": [
    "<a id='surp'></a>\n",
    "## Recommender System: Surprise package\n",
    "\n",
    "Next, we shall use the Surprise package to perform our predictions and attain product recommendations for users based on their own ratings and others' that have been given before, using Collaborative Filtering. \n",
    "\n",
    "<a href=#top>(back to top)</a>"
   ]
  },
  {
   "cell_type": "code",
   "execution_count": 38,
   "metadata": {},
   "outputs": [],
   "source": [
    "# conda install -c conda-forge scikit-surprise"
   ]
  },
  {
   "cell_type": "code",
   "execution_count": 50,
   "metadata": {},
   "outputs": [],
   "source": [
    "from surprise import Dataset, Reader\n",
    "from surprise.model_selection import train_test_split, cross_validate\n",
    "from surprise import SVD, SVDpp, SlopeOne, NMF, NormalPredictor, KNNBaseline, KNNBasic, KNNWithMeans, KNNWithZScore, BaselineOnly, CoClustering\n",
    "from surprise import accuracy\n",
    "np.random.seed(3101)"
   ]
  },
  {
   "cell_type": "code",
   "execution_count": 39,
   "metadata": {
    "scrolled": false
   },
   "outputs": [
    {
     "data": {
      "text/html": [
       "<div>\n",
       "<style scoped>\n",
       "    .dataframe tbody tr th:only-of-type {\n",
       "        vertical-align: middle;\n",
       "    }\n",
       "\n",
       "    .dataframe tbody tr th {\n",
       "        vertical-align: top;\n",
       "    }\n",
       "\n",
       "    .dataframe thead th {\n",
       "        text-align: right;\n",
       "    }\n",
       "</style>\n",
       "<table border=\"1\" class=\"dataframe\">\n",
       "  <thead>\n",
       "    <tr style=\"text-align: right;\">\n",
       "      <th></th>\n",
       "      <th>UserId</th>\n",
       "      <th>ProductId</th>\n",
       "      <th>Score</th>\n",
       "    </tr>\n",
       "  </thead>\n",
       "  <tbody>\n",
       "    <tr>\n",
       "      <th>0</th>\n",
       "      <td>A33W5JAFGHYRQZ</td>\n",
       "      <td>B001EO5RSQ</td>\n",
       "      <td>5</td>\n",
       "    </tr>\n",
       "    <tr>\n",
       "      <th>1</th>\n",
       "      <td>A353IAF5Y1XE53</td>\n",
       "      <td>B000HB9TLI</td>\n",
       "      <td>1</td>\n",
       "    </tr>\n",
       "    <tr>\n",
       "      <th>2</th>\n",
       "      <td>A18NG9I9MT2V8I</td>\n",
       "      <td>B000SDKDM4</td>\n",
       "      <td>5</td>\n",
       "    </tr>\n",
       "    <tr>\n",
       "      <th>3</th>\n",
       "      <td>A1TED4G0PWZPQV</td>\n",
       "      <td>B000FIWIWA</td>\n",
       "      <td>5</td>\n",
       "    </tr>\n",
       "    <tr>\n",
       "      <th>4</th>\n",
       "      <td>A235UFZGCFN3J5</td>\n",
       "      <td>B005Y10XZ2</td>\n",
       "      <td>5</td>\n",
       "    </tr>\n",
       "  </tbody>\n",
       "</table>\n",
       "</div>"
      ],
      "text/plain": [
       "           UserId   ProductId  Score\n",
       "0  A33W5JAFGHYRQZ  B001EO5RSQ      5\n",
       "1  A353IAF5Y1XE53  B000HB9TLI      1\n",
       "2  A18NG9I9MT2V8I  B000SDKDM4      5\n",
       "3  A1TED4G0PWZPQV  B000FIWIWA      5\n",
       "4  A235UFZGCFN3J5  B005Y10XZ2      5"
      ]
     },
     "execution_count": 39,
     "metadata": {},
     "output_type": "execute_result"
    }
   ],
   "source": [
    "data_for_surprise = new_profiles[['UserId', 'ProductId', 'Score']].reset_index(drop=True)\n",
    "data_for_surprise.head()"
   ]
  },
  {
   "cell_type": "code",
   "execution_count": 40,
   "metadata": {},
   "outputs": [
    {
     "name": "stdout",
     "output_type": "stream",
     "text": [
      "Number of users:  17011 \n",
      "\n",
      "Number of items:  12429\n"
     ]
    }
   ],
   "source": [
    "reader = Reader(rating_scale=(1, 5))\n",
    "data = Dataset.load_from_df(data_for_surprise, reader)\n",
    "trainset = data.build_full_trainset()\n",
    "\n",
    "print('Number of users: ', trainset.n_users, '\\n')\n",
    "print('Number of items: ', trainset.n_items)"
   ]
  },
  {
   "cell_type": "markdown",
   "metadata": {},
   "source": [
    "## Trying algo: KNNWithMeans \n",
    "- KNNWithMeans: mean rating of each user is taken into account"
   ]
  },
  {
   "cell_type": "code",
   "execution_count": 41,
   "metadata": {},
   "outputs": [
    {
     "name": "stdout",
     "output_type": "stream",
     "text": [
      "Computing the cosine similarity matrix...\n",
      "Done computing similarity matrix.\n"
     ]
    },
    {
     "data": {
      "text/plain": [
       "<surprise.prediction_algorithms.knns.KNNWithMeans at 0x2dfaa0851c0>"
      ]
     },
     "execution_count": 41,
     "metadata": {},
     "output_type": "execute_result"
    }
   ],
   "source": [
    "# message Memory Error if number of users is too large\n",
    "\n",
    "np.random.seed(3101)\n",
    "my_k = 30 # kNN: Number of K\n",
    "my_min_k = 5 # if cannot find k=30, then at least 5 neighbours\n",
    "my_sim_options = {'name': 'cosine','user_based': True}  # compute similarities between users\n",
    "\n",
    "algo = KNNWithMeans(k = my_k, min_k = my_min_k, sim_options = my_sim_options, verbose =True)\n",
    "algo.fit(trainset)"
   ]
  },
  {
   "cell_type": "code",
   "execution_count": 42,
   "metadata": {
    "scrolled": true
   },
   "outputs": [
    {
     "name": "stdout",
     "output_type": "stream",
     "text": [
      "Computing the cosine similarity matrix...\n",
      "Done computing similarity matrix.\n",
      "Computing the cosine similarity matrix...\n",
      "Done computing similarity matrix.\n",
      "Computing the cosine similarity matrix...\n",
      "Done computing similarity matrix.\n",
      "Computing the cosine similarity matrix...\n",
      "Done computing similarity matrix.\n",
      "Computing the cosine similarity matrix...\n",
      "Done computing similarity matrix.\n"
     ]
    }
   ],
   "source": [
    "# Using RMSE: standard deviation of the residuals/ prediction errors\n",
    "# can also use MAE (average absolute deviation between predicted rating and users true rating) as accuracy metric)\n",
    "\n",
    "np.random.seed(3101)\n",
    "results = cross_validate(algo = algo, data = data, measures=['RMSE'], cv=5)"
   ]
  },
  {
   "cell_type": "code",
   "execution_count": 43,
   "metadata": {},
   "outputs": [
    {
     "name": "stdout",
     "output_type": "stream",
     "text": [
      "Mean for test_rmse: 1.2419038538615363\n",
      "Mean for fit_time: 17.377540636062623\n",
      "Mean for test_time: 2.1070046424865723\n"
     ]
    }
   ],
   "source": [
    "# results\n",
    "\n",
    "for key in results:\n",
    "    if type(results[key] == tuple):\n",
    "        print('Mean for ' + key + ': ' + str(sum(results[key])/5))\n",
    "    else:\n",
    "        print('Mean for ' + key + ': ' + str(results[key].mean()))"
   ]
  },
  {
   "cell_type": "code",
   "execution_count": 44,
   "metadata": {
    "scrolled": true
   },
   "outputs": [
    {
     "name": "stdout",
     "output_type": "stream",
     "text": [
      "Computing the cosine similarity matrix...\n",
      "Done computing similarity matrix.\n",
      "RMSE: 1.2516\n"
     ]
    },
    {
     "data": {
      "text/plain": [
       "1.2515628205194829"
      ]
     },
     "execution_count": 44,
     "metadata": {},
     "output_type": "execute_result"
    }
   ],
   "source": [
    "trainset, testset = train_test_split(data, test_size=0.2)\n",
    "algo = KNNWithMeans(k = my_k, min_k = my_min_k, sim_options = my_sim_options, verbose =True)\n",
    "predictions = algo.fit(trainset).test(testset)\n",
    "accuracy.rmse(predictions)"
   ]
  },
  {
   "cell_type": "markdown",
   "metadata": {},
   "source": [
    "The following functions are edited and originate from:\n",
    "\n",
    "https://nbviewer.jupyter.org/github/NicolasHug/Surprise/blob/master/examples/notebooks/KNNBasic_analysis.ipynb"
   ]
  },
  {
   "cell_type": "code",
   "execution_count": 45,
   "metadata": {},
   "outputs": [],
   "source": [
    "def get_IbyU(uid):\n",
    "    \"\"\" return the number of items rated by given user\n",
    "    args: \n",
    "      uid: the id of the user\n",
    "    returns: \n",
    "      the number of items rated by the user\n",
    "    \"\"\"\n",
    "    try:\n",
    "        return len(trainset.ur[trainset.to_inner_uid(uid)])\n",
    "    except ValueError: # user was not part of the trainset\n",
    "        return 0\n",
    "    \n",
    "def get_UbyI(iid):\n",
    "    \"\"\" return number of users that have rated given item\n",
    "    args:\n",
    "      iid: the raw id of the item\n",
    "    returns:\n",
    "      the number of users that have rated the item.\n",
    "    \"\"\"\n",
    "    try: \n",
    "        return len(trainset.ir[trainset.to_inner_iid(iid)])\n",
    "    except ValueError: # item not part of the trainset\n",
    "        return 0\n",
    "    \n",
    "knnb_df = pd.DataFrame(predictions, columns=['UserId', 'ProductId', 'Score', 'Est', 'Details'])\n",
    "\n",
    "\"\"\" knnb_df\n",
    "args:\n",
    "    uid: UserId\n",
    "    iid: ProductId\n",
    "    score: actual Score/rating given by User for that Product\n",
    "    est: predicted Score\n",
    "    details: consists of actual k neighbours used for prediction and if it was impossible to predict the rating\n",
    "\"\"\"\n",
    "\n",
    "knnb_df['No. items rated by user'] = knnb_df.UserId.apply(get_IbyU)\n",
    "knnb_df['No. users rating item'] = knnb_df.ProductId.apply(get_UbyI)\n",
    "knnb_df['Err'] = abs(knnb_df.Est - knnb_df.Score) \n",
    "best_predictions = knnb_df.sort_values(by='Err')[:10]\n",
    "worst_predictions = knnb_df.sort_values(by='Err')[-10:]"
   ]
  },
  {
   "cell_type": "code",
   "execution_count": 46,
   "metadata": {},
   "outputs": [
    {
     "data": {
      "text/html": [
       "<div>\n",
       "<style scoped>\n",
       "    .dataframe tbody tr th:only-of-type {\n",
       "        vertical-align: middle;\n",
       "    }\n",
       "\n",
       "    .dataframe tbody tr th {\n",
       "        vertical-align: top;\n",
       "    }\n",
       "\n",
       "    .dataframe thead th {\n",
       "        text-align: right;\n",
       "    }\n",
       "</style>\n",
       "<table border=\"1\" class=\"dataframe\">\n",
       "  <thead>\n",
       "    <tr style=\"text-align: right;\">\n",
       "      <th></th>\n",
       "      <th>UserId</th>\n",
       "      <th>ProductId</th>\n",
       "      <th>Score</th>\n",
       "      <th>Est</th>\n",
       "      <th>Details</th>\n",
       "      <th>No. items rated by user</th>\n",
       "      <th>No. users rating item</th>\n",
       "      <th>Err</th>\n",
       "    </tr>\n",
       "  </thead>\n",
       "  <tbody>\n",
       "    <tr>\n",
       "      <th>0</th>\n",
       "      <td>A13CZ8CTDBAY68</td>\n",
       "      <td>B001KUQHVA</td>\n",
       "      <td>5.0</td>\n",
       "      <td>5.0</td>\n",
       "      <td>{'actual_k': 0, 'was_impossible': False}</td>\n",
       "      <td>1</td>\n",
       "      <td>1</td>\n",
       "      <td>0.0</td>\n",
       "    </tr>\n",
       "    <tr>\n",
       "      <th>5662</th>\n",
       "      <td>A3W67RJT8P73U</td>\n",
       "      <td>B001P7370C</td>\n",
       "      <td>5.0</td>\n",
       "      <td>5.0</td>\n",
       "      <td>{'actual_k': 0, 'was_impossible': False}</td>\n",
       "      <td>1</td>\n",
       "      <td>2</td>\n",
       "      <td>0.0</td>\n",
       "    </tr>\n",
       "    <tr>\n",
       "      <th>5668</th>\n",
       "      <td>A1NC0H3L3ZMG5U</td>\n",
       "      <td>B0045WW53O</td>\n",
       "      <td>5.0</td>\n",
       "      <td>5.0</td>\n",
       "      <td>{'actual_k': 0, 'was_impossible': False}</td>\n",
       "      <td>2</td>\n",
       "      <td>1</td>\n",
       "      <td>0.0</td>\n",
       "    </tr>\n",
       "    <tr>\n",
       "      <th>5673</th>\n",
       "      <td>A1ASIHK78FY9JQ</td>\n",
       "      <td>B0002DGL26</td>\n",
       "      <td>3.0</td>\n",
       "      <td>3.0</td>\n",
       "      <td>{'actual_k': 0, 'was_impossible': False}</td>\n",
       "      <td>2</td>\n",
       "      <td>5</td>\n",
       "      <td>0.0</td>\n",
       "    </tr>\n",
       "    <tr>\n",
       "      <th>5675</th>\n",
       "      <td>A1OGSBT1IG0A64</td>\n",
       "      <td>B001E5E1MI</td>\n",
       "      <td>5.0</td>\n",
       "      <td>5.0</td>\n",
       "      <td>{'actual_k': 0, 'was_impossible': False}</td>\n",
       "      <td>2</td>\n",
       "      <td>13</td>\n",
       "      <td>0.0</td>\n",
       "    </tr>\n",
       "    <tr>\n",
       "      <th>5681</th>\n",
       "      <td>A363G1YJ30V3SJ</td>\n",
       "      <td>B003VZCZ0O</td>\n",
       "      <td>5.0</td>\n",
       "      <td>5.0</td>\n",
       "      <td>{'actual_k': 0, 'was_impossible': False}</td>\n",
       "      <td>2</td>\n",
       "      <td>5</td>\n",
       "      <td>0.0</td>\n",
       "    </tr>\n",
       "    <tr>\n",
       "      <th>5682</th>\n",
       "      <td>A3JXKY4SS4V7Z1</td>\n",
       "      <td>B0018Q1O3W</td>\n",
       "      <td>5.0</td>\n",
       "      <td>5.0</td>\n",
       "      <td>{'actual_k': 0, 'was_impossible': False}</td>\n",
       "      <td>2</td>\n",
       "      <td>2</td>\n",
       "      <td>0.0</td>\n",
       "    </tr>\n",
       "    <tr>\n",
       "      <th>5686</th>\n",
       "      <td>ADEFGEYL605GW</td>\n",
       "      <td>B001PMCFL4</td>\n",
       "      <td>5.0</td>\n",
       "      <td>5.0</td>\n",
       "      <td>{'actual_k': 0, 'was_impossible': False}</td>\n",
       "      <td>1</td>\n",
       "      <td>2</td>\n",
       "      <td>0.0</td>\n",
       "    </tr>\n",
       "    <tr>\n",
       "      <th>5692</th>\n",
       "      <td>AVSQ0D9545XYN</td>\n",
       "      <td>B0009F3S78</td>\n",
       "      <td>5.0</td>\n",
       "      <td>5.0</td>\n",
       "      <td>{'actual_k': 0, 'was_impossible': False}</td>\n",
       "      <td>3</td>\n",
       "      <td>6</td>\n",
       "      <td>0.0</td>\n",
       "    </tr>\n",
       "    <tr>\n",
       "      <th>5693</th>\n",
       "      <td>A3FG4TRR8815R3</td>\n",
       "      <td>B0030V9HV4</td>\n",
       "      <td>5.0</td>\n",
       "      <td>5.0</td>\n",
       "      <td>{'actual_k': 0, 'was_impossible': False}</td>\n",
       "      <td>1</td>\n",
       "      <td>1</td>\n",
       "      <td>0.0</td>\n",
       "    </tr>\n",
       "  </tbody>\n",
       "</table>\n",
       "</div>"
      ],
      "text/plain": [
       "              UserId   ProductId  Score  Est  \\\n",
       "0     A13CZ8CTDBAY68  B001KUQHVA    5.0  5.0   \n",
       "5662   A3W67RJT8P73U  B001P7370C    5.0  5.0   \n",
       "5668  A1NC0H3L3ZMG5U  B0045WW53O    5.0  5.0   \n",
       "5673  A1ASIHK78FY9JQ  B0002DGL26    3.0  3.0   \n",
       "5675  A1OGSBT1IG0A64  B001E5E1MI    5.0  5.0   \n",
       "5681  A363G1YJ30V3SJ  B003VZCZ0O    5.0  5.0   \n",
       "5682  A3JXKY4SS4V7Z1  B0018Q1O3W    5.0  5.0   \n",
       "5686   ADEFGEYL605GW  B001PMCFL4    5.0  5.0   \n",
       "5692   AVSQ0D9545XYN  B0009F3S78    5.0  5.0   \n",
       "5693  A3FG4TRR8815R3  B0030V9HV4    5.0  5.0   \n",
       "\n",
       "                                       Details  No. items rated by user  \\\n",
       "0     {'actual_k': 0, 'was_impossible': False}                        1   \n",
       "5662  {'actual_k': 0, 'was_impossible': False}                        1   \n",
       "5668  {'actual_k': 0, 'was_impossible': False}                        2   \n",
       "5673  {'actual_k': 0, 'was_impossible': False}                        2   \n",
       "5675  {'actual_k': 0, 'was_impossible': False}                        2   \n",
       "5681  {'actual_k': 0, 'was_impossible': False}                        2   \n",
       "5682  {'actual_k': 0, 'was_impossible': False}                        2   \n",
       "5686  {'actual_k': 0, 'was_impossible': False}                        1   \n",
       "5692  {'actual_k': 0, 'was_impossible': False}                        3   \n",
       "5693  {'actual_k': 0, 'was_impossible': False}                        1   \n",
       "\n",
       "      No. users rating item  Err  \n",
       "0                         1  0.0  \n",
       "5662                      2  0.0  \n",
       "5668                      1  0.0  \n",
       "5673                      5  0.0  \n",
       "5675                     13  0.0  \n",
       "5681                      5  0.0  \n",
       "5682                      2  0.0  \n",
       "5686                      2  0.0  \n",
       "5692                      6  0.0  \n",
       "5693                      1  0.0  "
      ]
     },
     "execution_count": 46,
     "metadata": {},
     "output_type": "execute_result"
    }
   ],
   "source": [
    "best_predictions\n",
    "\n",
    "# no. items and no. users are 1 for some because test set, not the entire data_for_surprise"
   ]
  },
  {
   "cell_type": "code",
   "execution_count": 47,
   "metadata": {
    "scrolled": true
   },
   "outputs": [
    {
     "data": {
      "text/html": [
       "<div>\n",
       "<style scoped>\n",
       "    .dataframe tbody tr th:only-of-type {\n",
       "        vertical-align: middle;\n",
       "    }\n",
       "\n",
       "    .dataframe tbody tr th {\n",
       "        vertical-align: top;\n",
       "    }\n",
       "\n",
       "    .dataframe thead th {\n",
       "        text-align: right;\n",
       "    }\n",
       "</style>\n",
       "<table border=\"1\" class=\"dataframe\">\n",
       "  <thead>\n",
       "    <tr style=\"text-align: right;\">\n",
       "      <th></th>\n",
       "      <th>UserId</th>\n",
       "      <th>ProductId</th>\n",
       "      <th>Score</th>\n",
       "      <th>Est</th>\n",
       "      <th>Details</th>\n",
       "      <th>No. items rated by user</th>\n",
       "      <th>No. users rating item</th>\n",
       "      <th>Err</th>\n",
       "    </tr>\n",
       "  </thead>\n",
       "  <tbody>\n",
       "    <tr>\n",
       "      <th>1380</th>\n",
       "      <td>A2A7AFPDGLYLHK</td>\n",
       "      <td>B001EYUE5M</td>\n",
       "      <td>1.0</td>\n",
       "      <td>5.0</td>\n",
       "      <td>{'actual_k': 0, 'was_impossible': False}</td>\n",
       "      <td>2</td>\n",
       "      <td>4</td>\n",
       "      <td>4.0</td>\n",
       "    </tr>\n",
       "    <tr>\n",
       "      <th>10679</th>\n",
       "      <td>A3U8BNI2PTRUCQ</td>\n",
       "      <td>B004YV7YL4</td>\n",
       "      <td>1.0</td>\n",
       "      <td>5.0</td>\n",
       "      <td>{'actual_k': 0, 'was_impossible': False}</td>\n",
       "      <td>2</td>\n",
       "      <td>4</td>\n",
       "      <td>4.0</td>\n",
       "    </tr>\n",
       "    <tr>\n",
       "      <th>10313</th>\n",
       "      <td>A26F90M6FKBVGY</td>\n",
       "      <td>B001ELL60W</td>\n",
       "      <td>5.0</td>\n",
       "      <td>1.0</td>\n",
       "      <td>{'actual_k': 0, 'was_impossible': False}</td>\n",
       "      <td>1</td>\n",
       "      <td>21</td>\n",
       "      <td>4.0</td>\n",
       "    </tr>\n",
       "    <tr>\n",
       "      <th>10685</th>\n",
       "      <td>A36N62I47U9IIH</td>\n",
       "      <td>B003G2LIIW</td>\n",
       "      <td>1.0</td>\n",
       "      <td>5.0</td>\n",
       "      <td>{'actual_k': 0, 'was_impossible': False}</td>\n",
       "      <td>2</td>\n",
       "      <td>1</td>\n",
       "      <td>4.0</td>\n",
       "    </tr>\n",
       "    <tr>\n",
       "      <th>1253</th>\n",
       "      <td>A3NP1G6SFO0GBR</td>\n",
       "      <td>B0012KCUUU</td>\n",
       "      <td>1.0</td>\n",
       "      <td>5.0</td>\n",
       "      <td>{'actual_k': 0, 'was_impossible': False}</td>\n",
       "      <td>2</td>\n",
       "      <td>4</td>\n",
       "      <td>4.0</td>\n",
       "    </tr>\n",
       "    <tr>\n",
       "      <th>2817</th>\n",
       "      <td>A3D6R22GIUKINS</td>\n",
       "      <td>B002RNYDBU</td>\n",
       "      <td>5.0</td>\n",
       "      <td>1.0</td>\n",
       "      <td>{'actual_k': 0, 'was_impossible': False}</td>\n",
       "      <td>1</td>\n",
       "      <td>2</td>\n",
       "      <td>4.0</td>\n",
       "    </tr>\n",
       "    <tr>\n",
       "      <th>8712</th>\n",
       "      <td>ADT7O1C83DE53</td>\n",
       "      <td>B0026VPVK0</td>\n",
       "      <td>1.0</td>\n",
       "      <td>5.0</td>\n",
       "      <td>{'actual_k': 0, 'was_impossible': False}</td>\n",
       "      <td>2</td>\n",
       "      <td>2</td>\n",
       "      <td>4.0</td>\n",
       "    </tr>\n",
       "    <tr>\n",
       "      <th>8950</th>\n",
       "      <td>A1HTC4BKKYA9VC</td>\n",
       "      <td>B004741298</td>\n",
       "      <td>1.0</td>\n",
       "      <td>5.0</td>\n",
       "      <td>{'actual_k': 0, 'was_impossible': False}</td>\n",
       "      <td>1</td>\n",
       "      <td>1</td>\n",
       "      <td>4.0</td>\n",
       "    </tr>\n",
       "    <tr>\n",
       "      <th>9798</th>\n",
       "      <td>A24GQGZAYUJCFD</td>\n",
       "      <td>B007JFMIWW</td>\n",
       "      <td>1.0</td>\n",
       "      <td>5.0</td>\n",
       "      <td>{'actual_k': 4, 'was_impossible': False}</td>\n",
       "      <td>1</td>\n",
       "      <td>55</td>\n",
       "      <td>4.0</td>\n",
       "    </tr>\n",
       "    <tr>\n",
       "      <th>4142</th>\n",
       "      <td>APZ867OSBNF9Q</td>\n",
       "      <td>B000MT8G64</td>\n",
       "      <td>1.0</td>\n",
       "      <td>5.0</td>\n",
       "      <td>{'actual_k': 0, 'was_impossible': False}</td>\n",
       "      <td>1</td>\n",
       "      <td>1</td>\n",
       "      <td>4.0</td>\n",
       "    </tr>\n",
       "  </tbody>\n",
       "</table>\n",
       "</div>"
      ],
      "text/plain": [
       "               UserId   ProductId  Score  Est  \\\n",
       "1380   A2A7AFPDGLYLHK  B001EYUE5M    1.0  5.0   \n",
       "10679  A3U8BNI2PTRUCQ  B004YV7YL4    1.0  5.0   \n",
       "10313  A26F90M6FKBVGY  B001ELL60W    5.0  1.0   \n",
       "10685  A36N62I47U9IIH  B003G2LIIW    1.0  5.0   \n",
       "1253   A3NP1G6SFO0GBR  B0012KCUUU    1.0  5.0   \n",
       "2817   A3D6R22GIUKINS  B002RNYDBU    5.0  1.0   \n",
       "8712    ADT7O1C83DE53  B0026VPVK0    1.0  5.0   \n",
       "8950   A1HTC4BKKYA9VC  B004741298    1.0  5.0   \n",
       "9798   A24GQGZAYUJCFD  B007JFMIWW    1.0  5.0   \n",
       "4142    APZ867OSBNF9Q  B000MT8G64    1.0  5.0   \n",
       "\n",
       "                                        Details  No. items rated by user  \\\n",
       "1380   {'actual_k': 0, 'was_impossible': False}                        2   \n",
       "10679  {'actual_k': 0, 'was_impossible': False}                        2   \n",
       "10313  {'actual_k': 0, 'was_impossible': False}                        1   \n",
       "10685  {'actual_k': 0, 'was_impossible': False}                        2   \n",
       "1253   {'actual_k': 0, 'was_impossible': False}                        2   \n",
       "2817   {'actual_k': 0, 'was_impossible': False}                        1   \n",
       "8712   {'actual_k': 0, 'was_impossible': False}                        2   \n",
       "8950   {'actual_k': 0, 'was_impossible': False}                        1   \n",
       "9798   {'actual_k': 4, 'was_impossible': False}                        1   \n",
       "4142   {'actual_k': 0, 'was_impossible': False}                        1   \n",
       "\n",
       "       No. users rating item  Err  \n",
       "1380                       4  4.0  \n",
       "10679                      4  4.0  \n",
       "10313                     21  4.0  \n",
       "10685                      1  4.0  \n",
       "1253                       4  4.0  \n",
       "2817                       2  4.0  \n",
       "8712                       2  4.0  \n",
       "8950                       1  4.0  \n",
       "9798                      55  4.0  \n",
       "4142                       1  4.0  "
      ]
     },
     "execution_count": 47,
     "metadata": {},
     "output_type": "execute_result"
    }
   ],
   "source": [
    "worst_predictions"
   ]
  },
  {
   "cell_type": "markdown",
   "metadata": {},
   "source": [
    "Analysis of worst predictions? eg. bad because lack of data or anomaly users in terms of ratings? k=0 for a lot of the worst predictions."
   ]
  },
  {
   "cell_type": "code",
   "execution_count": null,
   "metadata": {},
   "outputs": [],
   "source": []
  },
  {
   "cell_type": "code",
   "execution_count": null,
   "metadata": {},
   "outputs": [],
   "source": []
  },
  {
   "cell_type": "code",
   "execution_count": null,
   "metadata": {},
   "outputs": [],
   "source": []
  },
  {
   "cell_type": "markdown",
   "metadata": {},
   "source": [
    "### Analysis of other Algorithms in Surprise"
   ]
  },
  {
   "cell_type": "code",
   "execution_count": 51,
   "metadata": {},
   "outputs": [
    {
     "name": "stdout",
     "output_type": "stream",
     "text": [
      "Evaluating RMSE of algorithm SVD on 3 split(s).\n",
      "\n",
      "                  Fold 1  Fold 2  Fold 3  Mean    Std     \n",
      "RMSE (testset)    1.1253  1.1439  1.1357  1.1349  0.0076  \n",
      "Fit time          2.03    2.01    1.95    1.99    0.03    \n",
      "Test time         0.17    0.20    0.13    0.17    0.03    \n",
      "Evaluating RMSE of algorithm SVDpp on 3 split(s).\n",
      "\n",
      "                  Fold 1  Fold 2  Fold 3  Mean    Std     \n",
      "RMSE (testset)    1.1324  1.1367  1.1312  1.1334  0.0024  \n",
      "Fit time          5.63    5.36    5.47    5.49    0.11    \n",
      "Test time         0.37    0.28    0.28    0.31    0.04    \n",
      "Evaluating RMSE of algorithm SlopeOne on 3 split(s).\n",
      "\n",
      "                  Fold 1  Fold 2  Fold 3  Mean    Std     \n",
      "RMSE (testset)    1.2688  1.2707  1.2598  1.2664  0.0048  \n",
      "Fit time          1.52    2.07    1.75    1.78    0.22    \n",
      "Test time         0.18    0.16    0.16    0.17    0.01    \n",
      "Evaluating RMSE of algorithm NMF on 3 split(s).\n",
      "\n",
      "                  Fold 1  Fold 2  Fold 3  Mean    Std     \n",
      "RMSE (testset)    1.3831  1.3814  1.3815  1.3820  0.0008  \n",
      "Fit time          3.41    3.12    3.25    3.26    0.12    \n",
      "Test time         0.11    0.09    0.09    0.10    0.01    \n",
      "Evaluating RMSE of algorithm NormalPredictor on 3 split(s).\n",
      "\n",
      "                  Fold 1  Fold 2  Fold 3  Mean    Std     \n",
      "RMSE (testset)    1.5522  1.5391  1.5452  1.5455  0.0054  \n",
      "Fit time          0.05    0.07    0.06    0.06    0.01    \n",
      "Test time         0.12    0.21    0.09    0.14    0.05    \n",
      "Estimating biases using als...\n",
      "Computing the msd similarity matrix...\n",
      "Done computing similarity matrix.\n",
      "Estimating biases using als...\n",
      "Computing the msd similarity matrix...\n",
      "Done computing similarity matrix.\n",
      "Estimating biases using als...\n",
      "Computing the msd similarity matrix...\n",
      "Done computing similarity matrix.\n",
      "Evaluating RMSE of algorithm KNNBaseline on 3 split(s).\n",
      "\n",
      "                  Fold 1  Fold 2  Fold 3  Mean    Std     \n",
      "RMSE (testset)    1.1498  1.1648  1.1585  1.1577  0.0062  \n",
      "Fit time          4.75    4.22    3.90    4.29    0.35    \n",
      "Test time         1.61    1.16    1.28    1.35    0.19    \n",
      "Computing the msd similarity matrix...\n",
      "Done computing similarity matrix.\n",
      "Computing the msd similarity matrix...\n",
      "Done computing similarity matrix.\n",
      "Computing the msd similarity matrix...\n",
      "Done computing similarity matrix.\n",
      "Evaluating RMSE of algorithm KNNBasic on 3 split(s).\n",
      "\n",
      "                  Fold 1  Fold 2  Fold 3  Mean    Std     \n",
      "RMSE (testset)    1.1912  1.2083  1.2011  1.2002  0.0070  \n",
      "Fit time          3.31    4.50    3.37    3.72    0.55    \n",
      "Test time         0.86    0.85    1.31    1.01    0.22    \n",
      "Computing the msd similarity matrix...\n",
      "Done computing similarity matrix.\n",
      "Computing the msd similarity matrix...\n",
      "Done computing similarity matrix.\n",
      "Computing the msd similarity matrix...\n",
      "Done computing similarity matrix.\n",
      "Evaluating RMSE of algorithm KNNWithMeans on 3 split(s).\n",
      "\n",
      "                  Fold 1  Fold 2  Fold 3  Mean    Std     \n",
      "RMSE (testset)    1.2675  1.2494  1.2586  1.2585  0.0074  \n",
      "Fit time          3.46    4.82    3.65    3.98    0.60    \n",
      "Test time         0.96    0.87    0.88    0.90    0.04    \n",
      "Computing the msd similarity matrix...\n",
      "Done computing similarity matrix.\n",
      "Computing the msd similarity matrix...\n",
      "Done computing similarity matrix.\n",
      "Computing the msd similarity matrix...\n",
      "Done computing similarity matrix.\n",
      "Evaluating RMSE of algorithm KNNWithZScore on 3 split(s).\n",
      "\n",
      "                  Fold 1  Fold 2  Fold 3  Mean    Std     \n",
      "RMSE (testset)    1.2642  1.2647  1.2576  1.2622  0.0032  \n",
      "Fit time          3.62    4.90    3.94    4.16    0.55    \n",
      "Test time         1.08    0.95    1.10    1.05    0.07    \n",
      "Estimating biases using als...\n",
      "Estimating biases using als...\n",
      "Estimating biases using als...\n",
      "Evaluating RMSE of algorithm BaselineOnly on 3 split(s).\n",
      "\n",
      "                  Fold 1  Fold 2  Fold 3  Mean    Std     \n",
      "RMSE (testset)    1.1426  1.1320  1.1372  1.1372  0.0043  \n",
      "Fit time          0.10    0.09    0.09    0.10    0.00    \n",
      "Test time         0.08    0.10    0.08    0.09    0.01    \n",
      "Evaluating RMSE of algorithm CoClustering on 3 split(s).\n",
      "\n",
      "                  Fold 1  Fold 2  Fold 3  Mean    Std     \n",
      "RMSE (testset)    1.2486  1.2719  1.2712  1.2639  0.0108  \n",
      "Fit time          2.58    2.82    2.92    2.77    0.14    \n",
      "Test time         0.11    0.11    0.08    0.10    0.02    \n"
     ]
    },
    {
     "data": {
      "text/html": [
       "<div>\n",
       "<style scoped>\n",
       "    .dataframe tbody tr th:only-of-type {\n",
       "        vertical-align: middle;\n",
       "    }\n",
       "\n",
       "    .dataframe tbody tr th {\n",
       "        vertical-align: top;\n",
       "    }\n",
       "\n",
       "    .dataframe thead th {\n",
       "        text-align: right;\n",
       "    }\n",
       "</style>\n",
       "<table border=\"1\" class=\"dataframe\">\n",
       "  <thead>\n",
       "    <tr style=\"text-align: right;\">\n",
       "      <th></th>\n",
       "      <th>test_rmse</th>\n",
       "      <th>fit_time</th>\n",
       "      <th>test_time</th>\n",
       "    </tr>\n",
       "    <tr>\n",
       "      <th>Algorithm</th>\n",
       "      <th></th>\n",
       "      <th></th>\n",
       "      <th></th>\n",
       "    </tr>\n",
       "  </thead>\n",
       "  <tbody>\n",
       "    <tr>\n",
       "      <th>SVDpp</th>\n",
       "      <td>1.133437</td>\n",
       "      <td>5.488484</td>\n",
       "      <td>0.312067</td>\n",
       "    </tr>\n",
       "    <tr>\n",
       "      <th>SVD</th>\n",
       "      <td>1.134940</td>\n",
       "      <td>1.994913</td>\n",
       "      <td>0.166870</td>\n",
       "    </tr>\n",
       "    <tr>\n",
       "      <th>BaselineOnly</th>\n",
       "      <td>1.137245</td>\n",
       "      <td>0.095524</td>\n",
       "      <td>0.087726</td>\n",
       "    </tr>\n",
       "    <tr>\n",
       "      <th>KNNBaseline</th>\n",
       "      <td>1.157673</td>\n",
       "      <td>4.288681</td>\n",
       "      <td>1.348490</td>\n",
       "    </tr>\n",
       "    <tr>\n",
       "      <th>KNNBasic</th>\n",
       "      <td>1.200205</td>\n",
       "      <td>3.724211</td>\n",
       "      <td>1.006338</td>\n",
       "    </tr>\n",
       "    <tr>\n",
       "      <th>KNNWithMeans</th>\n",
       "      <td>1.258504</td>\n",
       "      <td>3.977771</td>\n",
       "      <td>0.902335</td>\n",
       "    </tr>\n",
       "    <tr>\n",
       "      <th>KNNWithZScore</th>\n",
       "      <td>1.262159</td>\n",
       "      <td>4.155051</td>\n",
       "      <td>1.045280</td>\n",
       "    </tr>\n",
       "    <tr>\n",
       "      <th>CoClustering</th>\n",
       "      <td>1.263886</td>\n",
       "      <td>2.770974</td>\n",
       "      <td>0.099263</td>\n",
       "    </tr>\n",
       "    <tr>\n",
       "      <th>SlopeOne</th>\n",
       "      <td>1.266414</td>\n",
       "      <td>1.781112</td>\n",
       "      <td>0.168260</td>\n",
       "    </tr>\n",
       "    <tr>\n",
       "      <th>NMF</th>\n",
       "      <td>1.381990</td>\n",
       "      <td>3.260625</td>\n",
       "      <td>0.098911</td>\n",
       "    </tr>\n",
       "    <tr>\n",
       "      <th>NormalPredictor</th>\n",
       "      <td>1.545512</td>\n",
       "      <td>0.058547</td>\n",
       "      <td>0.142927</td>\n",
       "    </tr>\n",
       "  </tbody>\n",
       "</table>\n",
       "</div>"
      ],
      "text/plain": [
       "                 test_rmse  fit_time  test_time\n",
       "Algorithm                                      \n",
       "SVDpp             1.133437  5.488484   0.312067\n",
       "SVD               1.134940  1.994913   0.166870\n",
       "BaselineOnly      1.137245  0.095524   0.087726\n",
       "KNNBaseline       1.157673  4.288681   1.348490\n",
       "KNNBasic          1.200205  3.724211   1.006338\n",
       "KNNWithMeans      1.258504  3.977771   0.902335\n",
       "KNNWithZScore     1.262159  4.155051   1.045280\n",
       "CoClustering      1.263886  2.770974   0.099263\n",
       "SlopeOne          1.266414  1.781112   0.168260\n",
       "NMF               1.381990  3.260625   0.098911\n",
       "NormalPredictor   1.545512  0.058547   0.142927"
      ]
     },
     "execution_count": 51,
     "metadata": {},
     "output_type": "execute_result"
    }
   ],
   "source": [
    "benchmark = []\n",
    "\n",
    "# Iterate over all algorithms\n",
    "for algorithm in [SVD(), SVDpp(), SlopeOne(), NMF(), NormalPredictor(), KNNBaseline(), KNNBasic(), KNNWithMeans(), KNNWithZScore(), BaselineOnly(), CoClustering()]:\n",
    "    \n",
    "    # Perform cross validation\n",
    "    results = cross_validate(algorithm, data, measures=['RMSE'], cv=3, verbose=True)\n",
    "    \n",
    "    # Get results & append algorithm name\n",
    "    temp = pd.DataFrame.from_dict(results).mean(axis=0)\n",
    "    temp = temp.append(pd.Series([str(algorithm).split(' ')[0].split('.')[-1]], index=['Algorithm']))\n",
    "    benchmark.append(temp)\n",
    "    \n",
    "pd.DataFrame(benchmark).set_index('Algorithm').sort_values('test_rmse')  "
   ]
  },
  {
   "cell_type": "code",
   "execution_count": null,
   "metadata": {},
   "outputs": [],
   "source": []
  }
 ],
 "metadata": {
  "kernelspec": {
   "display_name": "Python 3",
   "language": "python",
   "name": "python3"
  },
  "language_info": {
   "codemirror_mode": {
    "name": "ipython",
    "version": 3
   },
   "file_extension": ".py",
   "mimetype": "text/x-python",
   "name": "python",
   "nbconvert_exporter": "python",
   "pygments_lexer": "ipython3",
   "version": "3.8.5"
  }
 },
 "nbformat": 4,
 "nbformat_minor": 4
}
